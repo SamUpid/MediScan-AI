{
 "cells": [
  {
   "cell_type": "code",
   "execution_count": 2,
   "id": "93742c49-e813-4dc2-8d4b-fca8e45bdfa6",
   "metadata": {},
   "outputs": [
    {
     "name": "stdout",
     "output_type": "stream",
     "text": [
      "\u001b[33mWARNING: You are using pip version 21.2.4; however, version 25.2 is available.\n",
      "You should consider upgrading via the '/Users/neerajkumar/Downloads/MediScan-AI/mediscan_env/bin/python3 -m pip install --upgrade pip' command.\u001b[0m\n",
      "================================================================================\n",
      "DAY 4: FULL K-FOLD CROSS-VALIDATION & MODEL OPTIMIZATION\n",
      "================================================================================\n",
      "\n",
      "Not running in Colab - some features may differ\n",
      "\n",
      "Random seed set for reproducibility\n",
      "\n",
      "Device: cpu\n",
      "WARNING: No GPU detected!\n",
      "Go to: Runtime -> Change runtime type -> Hardware accelerator -> GPU\n",
      "Training without GPU will be extremely slow\n",
      "\n",
      "Key Package Versions:\n",
      "PyTorch: 2.8.0\n",
      "Torchvision: 0.23.0\n",
      "NumPy: 2.0.2\n",
      "\n",
      "Created directories: models, outputs, visualizations, logs\n",
      "\n",
      "Memory clearing function defined\n",
      "\n",
      "================================================================================\n",
      "LOADING CONFIGURATIONS\n",
      "================================================================================\n",
      "Loaded preprocessing_config.json\n",
      "class_weights.json not found, will calculate from data\n",
      "\n",
      "Using Optimized Configuration:\n",
      "model_name           resnet50\n",
      "learning_rate        0.001\n",
      "batch_size           32\n",
      "optimizer            adam\n",
      "dropout_rate         0.5\n",
      "unfreeze_layers      0\n",
      "epochs               20\n",
      "patience             5\n",
      "class_weights        None\n",
      "\n",
      "Configuration saved to: outputs/day4_config.json\n",
      "\n",
      "================================================================================\n",
      "Setup complete! Ready for Day 4.\n",
      "================================================================================\n",
      "\n"
     ]
    }
   ],
   "source": [
    "# CELL 1: SETUP, IMPORTS & LOAD CONFIGURATION \n",
    "\n",
    "# Install packages (if needed)\n",
    "!pip install -q torch torchvision scikit-learn pandas matplotlib seaborn\n",
    "\n",
    "# Core imports\n",
    "import torch\n",
    "import torch.nn as nn\n",
    "import torch.optim as optim\n",
    "from torch.utils.data import DataLoader, SubsetRandomSampler\n",
    "import torchvision\n",
    "import torchvision.models as models\n",
    "import torchvision.transforms as transforms\n",
    "from torchvision.datasets import ImageFolder\n",
    "\n",
    "from sklearn.model_selection import StratifiedKFold\n",
    "from sklearn.metrics import (accuracy_score, precision_score, recall_score,\n",
    "                              f1_score, confusion_matrix, classification_report)\n",
    "\n",
    "import numpy as np\n",
    "import pandas as pd\n",
    "import matplotlib.pyplot as plt\n",
    "import seaborn as sns\n",
    "from tqdm.notebook import tqdm\n",
    "import json\n",
    "import copy\n",
    "from datetime import datetime\n",
    "import warnings\n",
    "import os\n",
    "import sys\n",
    "from pathlib import Path\n",
    "import gc\n",
    "\n",
    "# Configure warnings\n",
    "warnings.filterwarnings('ignore', category=UserWarning)\n",
    "warnings.filterwarnings('ignore', category=FutureWarning)\n",
    "sns.set_style('whitegrid')\n",
    "\n",
    "print(\"=\" * 80)\n",
    "print(\"DAY 4: FULL K-FOLD CROSS-VALIDATION & MODEL OPTIMIZATION\")\n",
    "print(\"=\" * 80)\n",
    "\n",
    "# Check if running in Google Colab\n",
    "IN_COLAB = 'google.colab' in sys.modules\n",
    "if IN_COLAB:\n",
    "    print(\"\\nRunning in Google Colab\")\n",
    "    from google.colab import drive\n",
    "    drive.mount('/content/drive')\n",
    "else:\n",
    "    print(\"\\nNot running in Colab - some features may differ\")\n",
    "\n",
    "# Set random seed for reproducibility\n",
    "def set_seed(seed=42):\n",
    "    torch.manual_seed(seed)\n",
    "    np.random.seed(seed)\n",
    "    torch.backends.cudnn.deterministic = True\n",
    "\n",
    "set_seed()\n",
    "print(\"\\nRandom seed set for reproducibility\")\n",
    "\n",
    "# Check GPU\n",
    "device = torch.device('cuda' if torch.cuda.is_available() else 'cpu')\n",
    "print(f\"\\nDevice: {device}\")\n",
    "\n",
    "if torch.cuda.is_available():\n",
    "    gpu_name = torch.cuda.get_device_name(0)\n",
    "    gpu_memory = torch.cuda.get_device_properties(0).total_memory / 1e9\n",
    "\n",
    "    print(f\"GPU: {gpu_name}\")\n",
    "    print(f\"GPU Memory: {gpu_memory:.2f} GB\")\n",
    "\n",
    "    if 'T4' in gpu_name:\n",
    "        print(f\"Estimated training time: 3-4 hours\")\n",
    "    elif 'P100' in gpu_name:\n",
    "        print(f\"Estimated training time: 2-3 hours\")\n",
    "    elif 'K80' in gpu_name:\n",
    "        print(f\"Estimated training time: 6-8 hours\")\n",
    "    else:\n",
    "        print(f\"Estimated training time: 3-5 hours\")\n",
    "else:\n",
    "    print(\"WARNING: No GPU detected!\")\n",
    "    print(\"Go to: Runtime -> Change runtime type -> Hardware accelerator -> GPU\")\n",
    "    print(\"Training without GPU will be extremely slow\")\n",
    "\n",
    "# Display package versions\n",
    "print(f\"\\nKey Package Versions:\")\n",
    "print(f\"PyTorch: {torch.__version__}\")\n",
    "print(f\"Torchvision: {torchvision.__version__}\")\n",
    "print(f\"NumPy: {np.__version__}\")\n",
    "\n",
    "# Create directory structure\n",
    "directories = ['models', 'outputs', 'visualizations', 'logs']\n",
    "for dir_name in directories:\n",
    "    Path(dir_name).mkdir(exist_ok=True)\n",
    "print(f\"\\nCreated directories: {', '.join(directories)}\")\n",
    "\n",
    "# Memory clearing function\n",
    "def clear_memory():\n",
    "    torch.cuda.empty_cache()\n",
    "    gc.collect()\n",
    "\n",
    "print(\"\\nMemory clearing function defined\")\n",
    "\n",
    "# LOAD CONFIGURATIONS\n",
    "print(f\"\\n{'=' * 80}\")\n",
    "print(\"LOADING CONFIGURATIONS\")\n",
    "print(\"=\" * 80)\n",
    "\n",
    "# Try to load existing configs\n",
    "try:\n",
    "    with open('outputs/preprocessing_config.json', 'r') as f:\n",
    "        preprocessing_config = json.load(f)\n",
    "    print(\"Loaded preprocessing_config.json\")\n",
    "except FileNotFoundError:\n",
    "    print(\"preprocessing_config.json not found, using defaults\")\n",
    "    preprocessing_config = {\n",
    "        'image_size': [224, 224],\n",
    "        'normalize': True,\n",
    "        'mean': [0.485, 0.456, 0.406],\n",
    "        'std': [0.229, 0.224, 0.225]\n",
    "    }\n",
    "    # Save default config\n",
    "    with open('outputs/preprocessing_config.json', 'w') as f:\n",
    "        json.dump(preprocessing_config, f, indent=2)\n",
    "    print(\"Created default preprocessing_config.json\")\n",
    "\n",
    "# Try to load class weights\n",
    "class_weights = None\n",
    "try:\n",
    "    with open('outputs/class_weights.json', 'r') as f:\n",
    "        weights_data = json.load(f)\n",
    "    class_weights = weights_data.get('class_weights', None)\n",
    "    if class_weights:\n",
    "        print(f\"Loaded class_weights.json\")\n",
    "    else:\n",
    "        print(\"No class weights found in file\")\n",
    "except FileNotFoundError:\n",
    "    print(\"class_weights.json not found, will calculate from data\")\n",
    "\n",
    "# Best Configuration from hyperparameter search\n",
    "best_config = {\n",
    "    'model_name': 'resnet50',\n",
    "    'learning_rate': 0.001,\n",
    "    'batch_size': 32,\n",
    "    'optimizer': 'adam',\n",
    "    'dropout_rate': 0.5,\n",
    "    'unfreeze_layers': 0,\n",
    "    'epochs': 20,\n",
    "    'patience': 5,\n",
    "    'class_weights': class_weights\n",
    "}\n",
    "\n",
    "print(f\"\\nUsing Optimized Configuration:\")\n",
    "for key, val in best_config.items():\n",
    "    print(f\"{key:20} {val}\")\n",
    "\n",
    "# Save configuration for reproducibility\n",
    "with open('outputs/day4_config.json', 'w') as f:\n",
    "    json.dump(best_config, f, indent=2)\n",
    "print(f\"\\nConfiguration saved to: outputs/day4_config.json\")\n",
    "\n",
    "print(f\"\\n{'=' * 80}\")\n",
    "print(f\"Setup complete! Ready for Day 4.\")\n",
    "print(f\"{'=' * 80}\\n\")"
   ]
  },
  {
   "cell_type": "code",
   "execution_count": 3,
   "id": "87e705f0-9c44-4a78-972f-9ca642b56e9b",
   "metadata": {},
   "outputs": [
    {
     "name": "stdout",
     "output_type": "stream",
     "text": [
      "\n",
      "================================================================================\n",
      "DATA LOADING & K-FOLD PREPARATION\n",
      "================================================================================\n",
      "Dataset structure:\n",
      "   Training directory: ../data/chest_xray/train\n",
      "   Testing directory:  ../data/chest_xray/test\n",
      "   Validation directory: ../data/chest_xray/val\n",
      "\n",
      "Verifying dataset structure...\n",
      "   Training: Found 2 classes - ['PNEUMONIA', 'NORMAL']\n",
      "      PNEUMONIA: 3875 images\n",
      "      NORMAL: 1341 images\n",
      "   Testing: Found 2 classes - ['PNEUMONIA', 'NORMAL']\n",
      "      PNEUMONIA: 390 images\n",
      "      NORMAL: 234 images\n",
      "   Validation: Found 2 classes - ['PNEUMONIA', 'NORMAL']\n",
      "      PNEUMONIA: 8 images\n",
      "      NORMAL: 8 images\n",
      "\n",
      "Creating data transforms...\n",
      "Transforms created\n",
      "   Training: Resize(256) -> RandomCrop(224) -> Flip -> Rotate -> Affine\n",
      "   Testing:  Resize(224) -> No augmentation\n",
      "\n",
      "Loading datasets...\n",
      "\n",
      "Extracting labels...\n",
      "\n",
      "Datasets loaded successfully!\n",
      "   Training samples: 5216\n",
      "   Test samples:     624\n",
      "   Classes (2): ['NORMAL', 'PNEUMONIA']\n",
      "\n",
      "Training Set Class Distribution:\n",
      "   NORMAL           1341 samples ( 25.7%)\n",
      "   PNEUMONIA        3875 samples ( 74.3%)\n",
      "\n",
      "   Imbalance ratio: 2.89:1 (Class weights recommended)\n",
      "\n",
      "Calculating class weights...\n",
      "   Calculated weights:\n",
      "   NORMAL          1.9448\n",
      "   PNEUMONIA       0.6730\n",
      "   Saved to: outputs/class_weights.json\n",
      "\n",
      "Creating K-Fold splits...\n",
      "K-Fold splits created:\n",
      "   Number of folds: 5\n",
      "   Random state: 42 (reproducible)\n",
      "   Stratified: Yes (maintains class distribution)\n",
      "\n",
      "Verifying Fold Stratification:\n",
      "Fold   Size     NORMAL       PNEUMONIA    Ratio   \n",
      "------------------------------------------------------------\n",
      "  1      1044     269          775          2.88    \n",
      "  2      1043     268          775          2.89    \n",
      "  3      1043     268          775          2.89    \n",
      "  4      1043     268          775          2.89    \n",
      "  5      1043     268          775          2.89    \n",
      "------------------------------------------------------------\n",
      "Overall 5216     1341         3875         2.89    \n",
      "\n",
      "Stratification verified - all folds maintain class distribution!\n",
      "\n",
      "================================================================================\n",
      "Data preparation complete!\n",
      "================================================================================\n",
      "Dataset info saved to: outputs/dataset_info.json\n",
      "Ready to proceed with model training!\n",
      "\n"
     ]
    }
   ],
   "source": [
    "#================================================================================\n",
    "# CELL 2: DATA LOADING & K-FOLD PREPARATION \n",
    "#================================================================================\n",
    "\n",
    "print(\"\\n\" + \"=\"*80)\n",
    "print(\"DATA LOADING & K-FOLD PREPARATION\")\n",
    "print(\"=\"*80)\n",
    "\n",
    "# Set directory paths based on your existing structure\n",
    "data_dir = Path('../data/chest_xray')\n",
    "train_dir = data_dir / 'train'\n",
    "test_dir = data_dir / 'test'\n",
    "val_dir = data_dir / 'val'\n",
    "\n",
    "print(f\"Dataset structure:\")\n",
    "print(f\"   Training directory: {train_dir}\")\n",
    "print(f\"   Testing directory:  {test_dir}\")\n",
    "print(f\"   Validation directory: {val_dir}\")\n",
    "\n",
    "# Verify the dataset structure\n",
    "print(f\"\\nVerifying dataset structure...\")\n",
    "\n",
    "def check_directory_structure(path, name):\n",
    "    if path.exists():\n",
    "        subdirs = [f for f in path.iterdir() if f.is_dir()]\n",
    "        print(f\"   {name}: Found {len(subdirs)} classes - {[d.name for d in subdirs]}\")\n",
    "\n",
    "        # Count samples in each class\n",
    "        for subdir in subdirs:\n",
    "            samples = len(list(subdir.glob('*.jpeg'))) + len(list(subdir.glob('*.jpg'))) + len(list(subdir.glob('*.png')))\n",
    "            print(f\"      {subdir.name}: {samples} images\")\n",
    "        return True\n",
    "    else:\n",
    "        print(f\"   {name}: Directory not found\")\n",
    "        return False\n",
    "\n",
    "# Check all directories\n",
    "train_ok = check_directory_structure(train_dir, \"Training\")\n",
    "test_ok = check_directory_structure(test_dir, \"Testing\")\n",
    "val_ok = check_directory_structure(val_dir, \"Validation\")\n",
    "\n",
    "if not train_ok or not test_ok:\n",
    "    raise FileNotFoundError(\"Essential dataset directories (train/test) not found!\")\n",
    "\n",
    "# Enhanced data transforms (optimized for medical X-ray images)\n",
    "print(f\"\\nCreating data transforms...\")\n",
    "\n",
    "train_transform = transforms.Compose([\n",
    "    transforms.Resize((256, 256)),\n",
    "    transforms.RandomResizedCrop(224, scale=(0.9, 1.0)),\n",
    "    transforms.RandomHorizontalFlip(p=0.5),\n",
    "    transforms.RandomRotation(15),\n",
    "    transforms.RandomAffine(degrees=0, translate=(0.05, 0.05)),\n",
    "    transforms.ToTensor(),\n",
    "    transforms.Normalize([0.485, 0.456, 0.406], [0.229, 0.224, 0.225])\n",
    "])\n",
    "\n",
    "test_transform = transforms.Compose([\n",
    "    transforms.Resize((224, 224)),\n",
    "    transforms.ToTensor(),\n",
    "    transforms.Normalize([0.485, 0.456, 0.406], [0.229, 0.224, 0.225])\n",
    "])\n",
    "\n",
    "print(f\"Transforms created\")\n",
    "print(f\"   Training: Resize(256) -> RandomCrop(224) -> Flip -> Rotate -> Affine\")\n",
    "print(f\"   Testing:  Resize(224) -> No augmentation\")\n",
    "\n",
    "# Load datasets\n",
    "print(f\"\\nLoading datasets...\")\n",
    "train_dataset = ImageFolder(root=str(train_dir), transform=train_transform)\n",
    "test_dataset = ImageFolder(root=str(test_dir), transform=test_transform)\n",
    "\n",
    "# Dataset info\n",
    "class_names = train_dataset.classes\n",
    "num_classes = len(class_names)\n",
    "\n",
    "# Extract labels\n",
    "print(f\"\\nExtracting labels...\")\n",
    "all_labels = [train_dataset.targets[i] for i in range(len(train_dataset))]\n",
    "\n",
    "print(f\"\\nDatasets loaded successfully!\")\n",
    "print(f\"   Training samples: {len(train_dataset)}\")\n",
    "print(f\"   Test samples:     {len(test_dataset)}\")\n",
    "print(f\"   Classes ({num_classes}): {class_names}\")\n",
    "\n",
    "# Class distribution\n",
    "unique, counts = np.unique(all_labels, return_counts=True)\n",
    "print(f\"\\nTraining Set Class Distribution:\")\n",
    "for cls, count in zip(class_names, counts):\n",
    "    percentage = 100 * count / len(all_labels)\n",
    "    print(f\"   {cls:15} {count:5} samples ({percentage:5.1f}%)\")\n",
    "\n",
    "# Calculate imbalance ratio\n",
    "imbalance_ratio = max(counts) / min(counts)\n",
    "print(f\"\\n   Imbalance ratio: {imbalance_ratio:.2f}:1\", end=\"\")\n",
    "if imbalance_ratio > 2:\n",
    "    print(f\" (Class weights recommended)\")\n",
    "else:\n",
    "    print(f\" (Relatively balanced)\")\n",
    "\n",
    "# Calculate class weights\n",
    "print(f\"\\nCalculating class weights...\")\n",
    "total = len(all_labels)\n",
    "class_weights = [total / (num_classes * count) for count in counts]\n",
    "\n",
    "print(f\"   Calculated weights:\")\n",
    "for cls, weight in zip(class_names, class_weights):\n",
    "    print(f\"   {cls:15} {weight:.4f}\")\n",
    "\n",
    "# Save for reference\n",
    "Path('outputs').mkdir(exist_ok=True)\n",
    "with open('outputs/class_weights.json', 'w') as f:\n",
    "    json.dump({\n",
    "        'class_weights': class_weights,\n",
    "        'class_names': class_names,\n",
    "        'class_counts': counts.tolist()\n",
    "    }, f, indent=2)\n",
    "print(f\"   Saved to: outputs/class_weights.json\")\n",
    "\n",
    "# Update config with class weights\n",
    "best_config['class_weights'] = class_weights\n",
    "\n",
    "# Initialize StratifiedKFold\n",
    "print(f\"\\nCreating K-Fold splits...\")\n",
    "skf = StratifiedKFold(n_splits=5, shuffle=True, random_state=42)\n",
    "splits = list(skf.split(np.zeros(len(all_labels)), all_labels))\n",
    "\n",
    "print(f\"K-Fold splits created:\")\n",
    "print(f\"   Number of folds: 5\")\n",
    "print(f\"   Random state: 42 (reproducible)\")\n",
    "print(f\"   Stratified: Yes (maintains class distribution)\")\n",
    "\n",
    "# Verify stratification\n",
    "print(f\"\\nVerifying Fold Stratification:\")\n",
    "print(f\"{'Fold':<6} {'Size':<8} {class_names[0]:<12} {class_names[1]:<12} {'Ratio':<8}\")\n",
    "print(f\"{'-'*60}\")\n",
    "\n",
    "for fold_num, (train_idx, val_idx) in enumerate(splits, 1):\n",
    "    val_labels_fold = [all_labels[i] for i in val_idx]\n",
    "    val_counts_fold = np.bincount(val_labels_fold)\n",
    "    ratio = val_counts_fold[1] / val_counts_fold[0] if val_counts_fold[0] > 0 else 0\n",
    "\n",
    "    print(f\"  {fold_num:<6} {len(val_idx):<8} {val_counts_fold[0]:<12} \"\n",
    "          f\"{val_counts_fold[1]:<12} {ratio:<8.2f}\")\n",
    "\n",
    "print(f\"{'-'*60}\")\n",
    "\n",
    "# Calculate overall class distribution\n",
    "overall_ratio = counts[1] / counts[0] if counts[0] > 0 else 0\n",
    "print(f\"Overall {len(all_labels):<8} {counts[0]:<12} {counts[1]:<12} {overall_ratio:<8.2f}\")\n",
    "print(f\"\\nStratification verified - all folds maintain class distribution!\")\n",
    "\n",
    "# Save dataset info\n",
    "dataset_info = {\n",
    "    'train_samples': len(train_dataset),\n",
    "    'test_samples': len(test_dataset),\n",
    "    'num_classes': num_classes,\n",
    "    'class_names': class_names,\n",
    "    'class_counts': counts.tolist(),\n",
    "    'class_weights': class_weights,\n",
    "    'train_dir': str(train_dir),\n",
    "    'test_dir': str(test_dir),\n",
    "    'imbalance_ratio': float(imbalance_ratio),\n",
    "    'fold_info': {\n",
    "        'n_splits': 5,\n",
    "        'random_state': 42,\n",
    "        'stratified': True\n",
    "    }\n",
    "}\n",
    "\n",
    "with open('outputs/dataset_info.json', 'w') as f:\n",
    "    json.dump(dataset_info, f, indent=2)\n",
    "\n",
    "print(f\"\\n{'='*80}\")\n",
    "print(f\"Data preparation complete!\")\n",
    "print(f\"{'='*80}\")\n",
    "print(f\"Dataset info saved to: outputs/dataset_info.json\")\n",
    "print(f\"Ready to proceed with model training!\\n\")"
   ]
  },
  {
   "cell_type": "code",
   "execution_count": 4,
   "id": "3490829f-0689-4128-a772-7910e63d4f79",
   "metadata": {},
   "outputs": [
    {
     "name": "stdout",
     "output_type": "stream",
     "text": [
      "\n",
      "================================================================================\n",
      "MODEL BUILDER & TRAINING PIPELINE\n",
      "================================================================================\n",
      "\n",
      "Training pipeline functions defined!\n",
      "Ready to train all folds.\n",
      "\n"
     ]
    }
   ],
   "source": [
    "#================================================================================\n",
    "# CELL 3: MODEL BUILDER & TRAINING PIPELINE\n",
    "#================================================================================\n",
    "\"\"\"\n",
    "What this does: Define model architecture and training functions\n",
    "\"\"\"\n",
    "\n",
    "print(\"\\n\" + \"=\"*80)\n",
    "print(\"MODEL BUILDER & TRAINING PIPELINE\")\n",
    "print(\"=\"*80)\n",
    "\n",
    "# ============================================================================\n",
    "# MODEL BUILDER\n",
    "# ============================================================================\n",
    "\n",
    "def build_model(model_name='resnet50', num_classes=2, dropout_rate=0.5,\n",
    "                unfreeze_layers=0, pretrained=True):\n",
    "    \"\"\"\n",
    "    Build and configure model\n",
    "\n",
    "    Args:\n",
    "        model_name: Model architecture (resnet50, resnet18)\n",
    "        num_classes: Number of output classes\n",
    "        dropout_rate: Dropout probability\n",
    "        unfreeze_layers: Number of layers to unfreeze (0 = all frozen)\n",
    "        pretrained: Use ImageNet pretrained weights\n",
    "\n",
    "    Returns:\n",
    "        model: Configured PyTorch model\n",
    "    \"\"\"\n",
    "    print(f\"\\nBuilding {model_name}...\")\n",
    "    print(f\"  Pretrained: {pretrained}\")\n",
    "    print(f\"  Dropout: {dropout_rate}\")\n",
    "    print(f\"  Unfreeze layers: {unfreeze_layers}\")\n",
    "\n",
    "    # Load base model\n",
    "    if model_name == 'resnet50':\n",
    "        model = models.resnet50(pretrained=pretrained)\n",
    "        num_features = model.fc.in_features\n",
    "\n",
    "        # Freeze all layers initially\n",
    "        for param in model.parameters():\n",
    "            param.requires_grad = False\n",
    "\n",
    "        # Optionally unfreeze last N layers\n",
    "        if unfreeze_layers > 0:\n",
    "            layers = list(model.children())\n",
    "            for layer in layers[-(unfreeze_layers + 1):-1]:\n",
    "                for param in layer.parameters():\n",
    "                    param.requires_grad = True\n",
    "            print(f\"  Unfroze last {unfreeze_layers} layer(s)\")\n",
    "\n",
    "        # Replace classifier head\n",
    "        model.fc = nn.Sequential(\n",
    "            nn.Dropout(dropout_rate),\n",
    "            nn.Linear(num_features, 512),\n",
    "            nn.ReLU(inplace=True),\n",
    "            nn.Dropout(0.3),\n",
    "            nn.Linear(512, num_classes)\n",
    "        )\n",
    "\n",
    "    elif model_name == 'resnet18':\n",
    "        model = models.resnet18(pretrained=pretrained)\n",
    "        num_features = model.fc.in_features\n",
    "\n",
    "        for param in model.parameters():\n",
    "            param.requires_grad = False\n",
    "\n",
    "        if unfreeze_layers > 0:\n",
    "            layers = list(model.children())\n",
    "            for layer in layers[-(unfreeze_layers + 1):-1]:\n",
    "                for param in layer.parameters():\n",
    "                    param.requires_grad = True\n",
    "\n",
    "        model.fc = nn.Sequential(\n",
    "            nn.Dropout(dropout_rate),\n",
    "            nn.Linear(num_features, num_classes)\n",
    "        )\n",
    "\n",
    "    else:\n",
    "        raise ValueError(f\"Unknown model: {model_name}\")\n",
    "\n",
    "    # Calculate trainable parameters\n",
    "    trainable = sum(p.numel() for p in model.parameters() if p.requires_grad)\n",
    "    total = sum(p.numel() for p in model.parameters())\n",
    "    print(f\"  Trainable params: {trainable:,} / {total:,} ({100*trainable/total:.1f}%)\")\n",
    "\n",
    "    return model.to(device)\n",
    "\n",
    "# ============================================================================\n",
    "# TRAINING FUNCTION FOR SINGLE FOLD\n",
    "# ============================================================================\n",
    "\n",
    "def train_single_fold(fold_num, train_idx, val_idx, config, dataset):\n",
    "    \"\"\"\n",
    "    Train model on a single fold\n",
    "\n",
    "    Args:\n",
    "        fold_num: Fold number (1-5)\n",
    "        train_idx: Training sample indices\n",
    "        val_idx: Validation sample indices\n",
    "        config: Training configuration dict\n",
    "        dataset: Full dataset\n",
    "\n",
    "    Returns:\n",
    "        results: Dictionary with metrics and history\n",
    "    \"\"\"\n",
    "\n",
    "    print(f\"\\n{'='*80}\")\n",
    "    print(f\"TRAINING FOLD {fold_num}/5\")\n",
    "    print(f\"{'='*80}\")\n",
    "    print(f\"Train samples: {len(train_idx)}\")\n",
    "    print(f\"Val samples: {len(val_idx)}\")\n",
    "\n",
    "    # Create data loaders\n",
    "    train_loader = DataLoader(\n",
    "        dataset,\n",
    "        batch_size=config['batch_size'],\n",
    "        sampler=SubsetRandomSampler(train_idx),\n",
    "        num_workers=2,\n",
    "        pin_memory=True\n",
    "    )\n",
    "\n",
    "    val_loader = DataLoader(\n",
    "        dataset,\n",
    "        batch_size=config['batch_size'],\n",
    "        sampler=SubsetRandomSampler(val_idx),\n",
    "        num_workers=2,\n",
    "        pin_memory=True\n",
    "    )\n",
    "\n",
    "    # Build model\n",
    "    model = build_model(\n",
    "        model_name=config['model_name'],\n",
    "        num_classes=num_classes,\n",
    "        dropout_rate=config['dropout_rate'],\n",
    "        unfreeze_layers=config.get('unfreeze_layers', 0)\n",
    "    )\n",
    "\n",
    "    # Setup optimizer\n",
    "    if config['optimizer'] == 'adam':\n",
    "        optimizer = optim.Adam(model.parameters(), lr=config['learning_rate'])\n",
    "    elif config['optimizer'] == 'sgd':\n",
    "        optimizer = optim.SGD(model.parameters(), lr=config['learning_rate'], momentum=0.9)\n",
    "    elif config['optimizer'] == 'adamw':\n",
    "        optimizer = optim.AdamW(model.parameters(), lr=config['learning_rate'], weight_decay=0.01)\n",
    "    else:\n",
    "        optimizer = optim.Adam(model.parameters(), lr=config['learning_rate'])\n",
    "\n",
    "    # Setup loss function with class weights\n",
    "    if config['class_weights'] is not None:\n",
    "        weights = torch.FloatTensor(config['class_weights']).to(device)\n",
    "        criterion = nn.CrossEntropyLoss(weight=weights)\n",
    "        print(f\"\\nUsing class weights: {config['class_weights']}\")\n",
    "    else:\n",
    "        criterion = nn.CrossEntropyLoss()\n",
    "        print(f\"\\nNo class weights applied\")\n",
    "\n",
    "    # Learning rate scheduler\n",
    "    scheduler = optim.lr_scheduler.ReduceLROnPlateau(\n",
    "        optimizer, mode='max', factor=0.5, patience=2\n",
    "    )\n",
    "\n",
    "    # Training tracking\n",
    "    history = {\n",
    "        'train_loss': [], 'train_acc': [],\n",
    "        'val_loss': [], 'val_acc': [],\n",
    "        'val_precision': [], 'val_recall': [], 'val_f1': []\n",
    "    }\n",
    "\n",
    "    best_val_acc = 0.0\n",
    "    best_epoch = 0\n",
    "    best_model_wts = None\n",
    "    patience_counter = 0\n",
    "\n",
    "    # Training loop\n",
    "    print(f\"\\nStarting training for {config['epochs']} epochs...\")\n",
    "    print(f\"Early stopping patience: {config['patience']}\")\n",
    "\n",
    "    for epoch in range(config['epochs']):\n",
    "        # TRAINING PHASE\n",
    "        model.train()\n",
    "        train_loss = 0.0\n",
    "        train_preds = []\n",
    "        train_labels = []\n",
    "\n",
    "        train_bar = tqdm(train_loader, desc=f'Epoch {epoch+1}/{config[\"epochs\"]} [TRAIN]', leave=False)\n",
    "        for images, labels in train_bar:\n",
    "            images, labels = images.to(device), labels.to(device)\n",
    "\n",
    "            optimizer.zero_grad()\n",
    "            outputs = model(images)\n",
    "            loss = criterion(outputs, labels)\n",
    "            loss.backward()\n",
    "            optimizer.step()\n",
    "\n",
    "            train_loss += loss.item() * images.size(0)\n",
    "            _, predicted = torch.max(outputs, 1)\n",
    "            train_preds.extend(predicted.cpu().numpy())\n",
    "            train_labels.extend(labels.cpu().numpy())\n",
    "\n",
    "            train_bar.set_postfix({'loss': f'{loss.item():.4f}'})\n",
    "\n",
    "        epoch_train_loss = train_loss / len(train_idx)\n",
    "        epoch_train_acc = accuracy_score(train_labels, train_preds)\n",
    "\n",
    "        # VALIDATION PHASE\n",
    "        model.eval()\n",
    "        val_loss = 0.0\n",
    "        val_preds = []\n",
    "        val_labels = []\n",
    "\n",
    "        with torch.no_grad():\n",
    "            val_bar = tqdm(val_loader, desc=f'Epoch {epoch+1}/{config[\"epochs\"]} [VAL]  ', leave=False)\n",
    "            for images, labels in val_bar:\n",
    "                images, labels = images.to(device), labels.to(device)\n",
    "                outputs = model(images)\n",
    "                loss = criterion(outputs, labels)\n",
    "\n",
    "                val_loss += loss.item() * images.size(0)\n",
    "                _, predicted = torch.max(outputs, 1)\n",
    "                val_preds.extend(predicted.cpu().numpy())\n",
    "                val_labels.extend(labels.cpu().numpy())\n",
    "\n",
    "                val_bar.set_postfix({'loss': f'{loss.item():.4f}'})\n",
    "\n",
    "        epoch_val_loss = val_loss / len(val_idx)\n",
    "        epoch_val_acc = accuracy_score(val_labels, val_preds)\n",
    "        epoch_val_precision = precision_score(val_labels, val_preds, average='weighted', zero_division=0)\n",
    "        epoch_val_recall = recall_score(val_labels, val_preds, average='weighted', zero_division=0)\n",
    "        epoch_val_f1 = f1_score(val_labels, val_preds, average='weighted', zero_division=0)\n",
    "\n",
    "        # Update history\n",
    "        history['train_loss'].append(epoch_train_loss)\n",
    "        history['train_acc'].append(epoch_train_acc)\n",
    "        history['val_loss'].append(epoch_val_loss)\n",
    "        history['val_acc'].append(epoch_val_acc)\n",
    "        history['val_precision'].append(epoch_val_precision)\n",
    "        history['val_recall'].append(epoch_val_recall)\n",
    "        history['val_f1'].append(epoch_val_f1)\n",
    "\n",
    "        # Print epoch summary\n",
    "        print(f\"\\nEpoch {epoch+1}/{config['epochs']}:\")\n",
    "        print(f\"  Train Loss: {epoch_train_loss:.4f}, Acc: {epoch_train_acc:.4f}\")\n",
    "        print(f\"  Val   Loss: {epoch_val_loss:.4f}, Acc: {epoch_val_acc:.4f}\")\n",
    "        print(f\"  Val   Prec: {epoch_val_precision:.4f}, Rec: {epoch_val_recall:.4f}, F1: {epoch_val_f1:.4f}\")\n",
    "\n",
    "        # Learning rate scheduling\n",
    "        scheduler.step(epoch_val_acc)\n",
    "\n",
    "        # Save best model\n",
    "        if epoch_val_acc > best_val_acc:\n",
    "            best_val_acc = epoch_val_acc\n",
    "            best_epoch = epoch\n",
    "            best_model_wts = copy.deepcopy(model.state_dict())\n",
    "            patience_counter = 0\n",
    "            print(f\"  >> New best model! Val Acc: {best_val_acc:.4f}\")\n",
    "        else:\n",
    "            patience_counter += 1\n",
    "\n",
    "        # Early stopping\n",
    "        if patience_counter >= config['patience']:\n",
    "            print(f\"\\nEarly stopping triggered at epoch {epoch+1}\")\n",
    "            print(f\"No improvement for {config['patience']} epochs\")\n",
    "            break\n",
    "\n",
    "    # Load best weights\n",
    "    model.load_state_dict(best_model_wts)\n",
    "\n",
    "    # Final evaluation on validation set\n",
    "    model.eval()\n",
    "    val_preds = []\n",
    "    val_labels = []\n",
    "\n",
    "    with torch.no_grad():\n",
    "        for images, labels in val_loader:\n",
    "            images = images.to(device)\n",
    "            outputs = model(images)\n",
    "            _, predicted = torch.max(outputs, 1)\n",
    "            val_preds.extend(predicted.cpu().numpy())\n",
    "            val_labels.extend(labels.cpu().numpy())\n",
    "\n",
    "    # Calculate final metrics\n",
    "    final_acc = accuracy_score(val_labels, val_preds)\n",
    "    final_prec = precision_score(val_labels, val_preds, average='weighted', zero_division=0)\n",
    "    final_rec = recall_score(val_labels, val_preds, average='weighted', zero_division=0)\n",
    "    final_f1 = f1_score(val_labels, val_preds, average='weighted', zero_division=0)\n",
    "    final_cm = confusion_matrix(val_labels, val_preds)\n",
    "\n",
    "    # Per-class metrics\n",
    "    class_report = classification_report(val_labels, val_preds,\n",
    "                                        target_names=class_names,\n",
    "                                        output_dict=True)\n",
    "\n",
    "    # Save model checkpoint\n",
    "    checkpoint_path = f'models/resnet50_fold_{fold_num}_best.pth'\n",
    "    torch.save({\n",
    "        'fold': fold_num,\n",
    "        'epoch': best_epoch,\n",
    "        'model_state_dict': model.state_dict(),\n",
    "        'optimizer_state_dict': optimizer.state_dict(),\n",
    "        'val_acc': best_val_acc,\n",
    "        'config': config\n",
    "    }, checkpoint_path)\n",
    "\n",
    "    print(f\"\\nFold {fold_num} Training Complete!\")\n",
    "    print(f\"  Best Val Acc: {best_val_acc:.4f} (Epoch {best_epoch+1})\")\n",
    "    print(f\"  Final Metrics:\")\n",
    "    print(f\"    Accuracy:  {final_acc:.4f}\")\n",
    "    print(f\"    Precision: {final_prec:.4f}\")\n",
    "    print(f\"    Recall:    {final_rec:.4f}\")\n",
    "    print(f\"    F1-Score:  {final_f1:.4f}\")\n",
    "    print(f\"  Model saved: {checkpoint_path}\")\n",
    "\n",
    "    # Prepare results\n",
    "    results = {\n",
    "        'fold': fold_num,\n",
    "        'best_epoch': best_epoch,\n",
    "        'best_val_acc': best_val_acc,\n",
    "        'accuracy': final_acc,\n",
    "        'precision': final_prec,\n",
    "        'recall': final_rec,\n",
    "        'f1_score': final_f1,\n",
    "        'confusion_matrix': final_cm.tolist(),\n",
    "        'classification_report': class_report,\n",
    "        'history': history,\n",
    "        'checkpoint_path': checkpoint_path\n",
    "    }\n",
    "\n",
    "    # Save fold results\n",
    "    with open(f'outputs/fold_{fold_num}_results.json', 'w') as f:\n",
    "        json.dump({\n",
    "            'fold': fold_num,\n",
    "            'best_epoch': best_epoch,\n",
    "            'best_val_acc': best_val_acc,\n",
    "            'accuracy': final_acc,\n",
    "            'precision': final_prec,\n",
    "            'recall': final_rec,\n",
    "            'f1_score': final_f1\n",
    "        }, f, indent=2)\n",
    "\n",
    "    # Clean up memory\n",
    "    del model, optimizer, train_loader, val_loader\n",
    "    torch.cuda.empty_cache()\n",
    "    gc.collect()\n",
    "\n",
    "    return results\n",
    "\n",
    "# ============================================================================\n",
    "# AUTOMATED TRAINING FOR ALL FOLDS\n",
    "# ============================================================================\n",
    "\n",
    "def train_all_folds(config, dataset, splits):\n",
    "    \"\"\"\n",
    "    Train models on all 5 folds with resume capability\n",
    "\n",
    "    Args:\n",
    "        config: Training configuration\n",
    "        dataset: Full dataset\n",
    "        splits: List of (train_idx, val_idx) tuples\n",
    "\n",
    "    Returns:\n",
    "        all_results: List of results for each fold\n",
    "    \"\"\"\n",
    "\n",
    "    print(f\"\\n{'#'*80}\")\n",
    "    print(f\"STARTING 5-FOLD CROSS-VALIDATION TRAINING\")\n",
    "    print(f\"{'#'*80}\")\n",
    "    print(f\"\\nEstimated time: 3-4 hours\")\n",
    "    print(f\"This is automated - perfect time for a break!\\n\")\n",
    "\n",
    "    start_time = datetime.now()\n",
    "    all_results = []\n",
    "\n",
    "    # Check for existing results\n",
    "    completed_folds = []\n",
    "    for fold_num in range(1, 6):\n",
    "        if os.path.exists(f'outputs/fold_{fold_num}_results.json'):\n",
    "            try:\n",
    "                with open(f'outputs/fold_{fold_num}_results.json', 'r') as f:\n",
    "                    fold_data = json.load(f)\n",
    "                    completed_folds.append(fold_num)\n",
    "                    all_results.append(fold_data)\n",
    "            except:\n",
    "                pass\n",
    "\n",
    "    if completed_folds:\n",
    "        print(f\"Found existing results for folds: {completed_folds}\")\n",
    "        resume_from = max(completed_folds) + 1 if max(completed_folds) < 5 else 6\n",
    "        print(f\"Resuming from fold {resume_from}\\n\")\n",
    "    else:\n",
    "        resume_from = 1\n",
    "\n",
    "    # Train each fold\n",
    "    for fold_num, (train_idx, val_idx) in enumerate(splits, 1):\n",
    "        # Skip if already completed\n",
    "        if fold_num in completed_folds:\n",
    "            print(f\"\\nSkipping fold {fold_num} (already completed)\")\n",
    "            continue\n",
    "\n",
    "        fold_start = datetime.now()\n",
    "\n",
    "        try:\n",
    "            fold_results = train_single_fold(\n",
    "                fold_num=fold_num,\n",
    "                train_idx=train_idx,\n",
    "                val_idx=val_idx,\n",
    "                config=config,\n",
    "                dataset=dataset\n",
    "            )\n",
    "\n",
    "            all_results.append(fold_results)\n",
    "\n",
    "            fold_time = (datetime.now() - fold_start).total_seconds() / 60\n",
    "            print(f\"\\nFold {fold_num} completed in {fold_time:.1f} minutes\")\n",
    "\n",
    "        except Exception as e:\n",
    "            print(f\"\\nERROR in Fold {fold_num}: {str(e)}\")\n",
    "            import traceback\n",
    "            traceback.print_exc()\n",
    "\n",
    "            # Save partial results\n",
    "            if all_results:\n",
    "                with open('outputs/partial_results.json', 'w') as f:\n",
    "                    json.dump({\n",
    "                        'completed_folds': [r['fold'] for r in all_results],\n",
    "                        'failed_fold': fold_num,\n",
    "                        'error': str(e)\n",
    "                    }, f, indent=2)\n",
    "            continue\n",
    "\n",
    "    total_time = (datetime.now() - start_time).total_seconds() / 60\n",
    "\n",
    "    print(f\"\\n{'#'*80}\")\n",
    "    print(f\"ALL FOLDS TRAINING COMPLETE!\")\n",
    "    print(f\"{'#'*80}\")\n",
    "    print(f\"Total time: {total_time:.1f} minutes ({total_time/60:.1f} hours)\")\n",
    "    print(f\"Completed folds: {len(all_results)}/5\")\n",
    "\n",
    "    # Save complete results\n",
    "    with open('outputs/all_folds_results.json', 'w') as f:\n",
    "        json.dump({\n",
    "            'config': config,\n",
    "            'all_results': all_results,\n",
    "            'total_time_minutes': total_time,\n",
    "            'completion_time': datetime.now().isoformat()\n",
    "        }, f, indent=2)\n",
    "\n",
    "    return all_results\n",
    "\n",
    "print(\"\\nTraining pipeline functions defined!\")\n",
    "print(\"Ready to train all folds.\\n\")\n"
   ]
  },
  {
   "cell_type": "code",
   "execution_count": 5,
   "id": "aaca47a8-4575-447e-9de8-25dcdbff9939",
   "metadata": {},
   "outputs": [
    {
     "name": "stdout",
     "output_type": "stream",
     "text": [
      "\n",
      "================================================================================\n",
      "EXECUTING FULL 5-FOLD CROSS-VALIDATION\n",
      "================================================================================\n",
      "\n",
      "################################################################################\n",
      "STARTING 5-FOLD CROSS-VALIDATION TRAINING\n",
      "################################################################################\n",
      "\n",
      "Estimated time: 3-4 hours\n",
      "This is automated - perfect time for a break!\n",
      "\n",
      "\n",
      "================================================================================\n",
      "TRAINING FOLD 1/5\n",
      "================================================================================\n",
      "Train samples: 4172\n",
      "Val samples: 1044\n",
      "\n",
      "Building resnet50...\n",
      "  Pretrained: True\n",
      "  Dropout: 0.5\n",
      "  Unfreeze layers: 0\n",
      "  Trainable params: 1,050,114 / 24,558,146 (4.3%)\n",
      "\n",
      "Using class weights: [np.float64(1.9448173005219984), np.float64(0.6730322580645162)]\n",
      "\n",
      "Starting training for 20 epochs...\n",
      "Early stopping patience: 5\n"
     ]
    },
    {
     "data": {
      "application/vnd.jupyter.widget-view+json": {
       "model_id": "0bf0384523654e508f82afeb10eb00bc",
       "version_major": 2,
       "version_minor": 0
      },
      "text/plain": [
       "Epoch 1/20 [TRAIN]:   0%|          | 0/131 [00:00<?, ?it/s]"
      ]
     },
     "metadata": {},
     "output_type": "display_data"
    },
    {
     "data": {
      "application/vnd.jupyter.widget-view+json": {
       "model_id": "2c76835b64ba49e4982526b8e3b0086f",
       "version_major": 2,
       "version_minor": 0
      },
      "text/plain": [
       "Epoch 1/20 [VAL]  :   0%|          | 0/33 [00:00<?, ?it/s]"
      ]
     },
     "metadata": {},
     "output_type": "display_data"
    },
    {
     "name": "stdout",
     "output_type": "stream",
     "text": [
      "\n",
      "Epoch 1/20:\n",
      "  Train Loss: 0.3880, Acc: 0.8303\n",
      "  Val   Loss: 0.2413, Acc: 0.9310\n",
      "  Val   Prec: 0.9302, Rec: 0.9310, F1: 0.9304\n",
      "  >> New best model! Val Acc: 0.9310\n"
     ]
    },
    {
     "data": {
      "application/vnd.jupyter.widget-view+json": {
       "model_id": "6a3a40aa154a4dd494df1a041dd1d2dc",
       "version_major": 2,
       "version_minor": 0
      },
      "text/plain": [
       "Epoch 2/20 [TRAIN]:   0%|          | 0/131 [00:00<?, ?it/s]"
      ]
     },
     "metadata": {},
     "output_type": "display_data"
    },
    {
     "data": {
      "application/vnd.jupyter.widget-view+json": {
       "model_id": "9624a4488eab45ba98c3a328798658b1",
       "version_major": 2,
       "version_minor": 0
      },
      "text/plain": [
       "Epoch 2/20 [VAL]  :   0%|          | 0/33 [00:00<?, ?it/s]"
      ]
     },
     "metadata": {},
     "output_type": "display_data"
    },
    {
     "name": "stdout",
     "output_type": "stream",
     "text": [
      "\n",
      "Epoch 2/20:\n",
      "  Train Loss: 0.2799, Acc: 0.8837\n",
      "  Val   Loss: 0.2320, Acc: 0.8755\n",
      "  Val   Prec: 0.9124, Rec: 0.8755, F1: 0.8817\n"
     ]
    },
    {
     "data": {
      "application/vnd.jupyter.widget-view+json": {
       "model_id": "91f5db5287b44e668d7bfcb3515fa1bb",
       "version_major": 2,
       "version_minor": 0
      },
      "text/plain": [
       "Epoch 3/20 [TRAIN]:   0%|          | 0/131 [00:00<?, ?it/s]"
      ]
     },
     "metadata": {},
     "output_type": "display_data"
    },
    {
     "data": {
      "application/vnd.jupyter.widget-view+json": {
       "model_id": "c41c095812354d46b30802f83012df9e",
       "version_major": 2,
       "version_minor": 0
      },
      "text/plain": [
       "Epoch 3/20 [VAL]  :   0%|          | 0/33 [00:00<?, ?it/s]"
      ]
     },
     "metadata": {},
     "output_type": "display_data"
    },
    {
     "name": "stdout",
     "output_type": "stream",
     "text": [
      "\n",
      "Epoch 3/20:\n",
      "  Train Loss: 0.2510, Acc: 0.8962\n",
      "  Val   Loss: 0.1836, Acc: 0.9215\n",
      "  Val   Prec: 0.9319, Rec: 0.9215, F1: 0.9237\n"
     ]
    },
    {
     "data": {
      "application/vnd.jupyter.widget-view+json": {
       "model_id": "7f754527bb26433b952e1e1ab5394ec1",
       "version_major": 2,
       "version_minor": 0
      },
      "text/plain": [
       "Epoch 4/20 [TRAIN]:   0%|          | 0/131 [00:00<?, ?it/s]"
      ]
     },
     "metadata": {},
     "output_type": "display_data"
    },
    {
     "data": {
      "application/vnd.jupyter.widget-view+json": {
       "model_id": "887a4fb777c74840b099ca2ea3c69699",
       "version_major": 2,
       "version_minor": 0
      },
      "text/plain": [
       "Epoch 4/20 [VAL]  :   0%|          | 0/33 [00:00<?, ?it/s]"
      ]
     },
     "metadata": {},
     "output_type": "display_data"
    },
    {
     "name": "stdout",
     "output_type": "stream",
     "text": [
      "\n",
      "Epoch 4/20:\n",
      "  Train Loss: 0.2483, Acc: 0.9012\n",
      "  Val   Loss: 0.1793, Acc: 0.9425\n",
      "  Val   Prec: 0.9456, Rec: 0.9425, F1: 0.9434\n",
      "  >> New best model! Val Acc: 0.9425\n"
     ]
    },
    {
     "data": {
      "application/vnd.jupyter.widget-view+json": {
       "model_id": "d10b68e15c544c1d849e9de4cdd44ae8",
       "version_major": 2,
       "version_minor": 0
      },
      "text/plain": [
       "Epoch 5/20 [TRAIN]:   0%|          | 0/131 [00:00<?, ?it/s]"
      ]
     },
     "metadata": {},
     "output_type": "display_data"
    },
    {
     "data": {
      "application/vnd.jupyter.widget-view+json": {
       "model_id": "95e5809c02d04a889004a035f99efc2a",
       "version_major": 2,
       "version_minor": 0
      },
      "text/plain": [
       "Epoch 5/20 [VAL]  :   0%|          | 0/33 [00:00<?, ?it/s]"
      ]
     },
     "metadata": {},
     "output_type": "display_data"
    },
    {
     "name": "stdout",
     "output_type": "stream",
     "text": [
      "\n",
      "Epoch 5/20:\n",
      "  Train Loss: 0.2565, Acc: 0.8988\n",
      "  Val   Loss: 0.1857, Acc: 0.9397\n",
      "  Val   Prec: 0.9412, Rec: 0.9397, F1: 0.9402\n"
     ]
    },
    {
     "data": {
      "application/vnd.jupyter.widget-view+json": {
       "model_id": "24609c48a6404659ada692474677ef0e",
       "version_major": 2,
       "version_minor": 0
      },
      "text/plain": [
       "Epoch 6/20 [TRAIN]:   0%|          | 0/131 [00:00<?, ?it/s]"
      ]
     },
     "metadata": {},
     "output_type": "display_data"
    },
    {
     "data": {
      "application/vnd.jupyter.widget-view+json": {
       "model_id": "4fa3244f30344059b190239a7d48931c",
       "version_major": 2,
       "version_minor": 0
      },
      "text/plain": [
       "Epoch 6/20 [VAL]  :   0%|          | 0/33 [00:00<?, ?it/s]"
      ]
     },
     "metadata": {},
     "output_type": "display_data"
    },
    {
     "name": "stdout",
     "output_type": "stream",
     "text": [
      "\n",
      "Epoch 6/20:\n",
      "  Train Loss: 0.2271, Acc: 0.9051\n",
      "  Val   Loss: 0.1668, Acc: 0.9330\n",
      "  Val   Prec: 0.9366, Rec: 0.9330, F1: 0.9340\n"
     ]
    },
    {
     "data": {
      "application/vnd.jupyter.widget-view+json": {
       "model_id": "a9147724f6de4760bcf06b939a4bab70",
       "version_major": 2,
       "version_minor": 0
      },
      "text/plain": [
       "Epoch 7/20 [TRAIN]:   0%|          | 0/131 [00:00<?, ?it/s]"
      ]
     },
     "metadata": {},
     "output_type": "display_data"
    },
    {
     "data": {
      "application/vnd.jupyter.widget-view+json": {
       "model_id": "db11cf39e3994b28ae15b39b1057daee",
       "version_major": 2,
       "version_minor": 0
      },
      "text/plain": [
       "Epoch 7/20 [VAL]  :   0%|          | 0/33 [00:00<?, ?it/s]"
      ]
     },
     "metadata": {},
     "output_type": "display_data"
    },
    {
     "name": "stdout",
     "output_type": "stream",
     "text": [
      "\n",
      "Epoch 7/20:\n",
      "  Train Loss: 0.2274, Acc: 0.9068\n",
      "  Val   Loss: 0.3685, Acc: 0.7835\n",
      "  Val   Prec: 0.8772, Rec: 0.7835, F1: 0.7970\n"
     ]
    },
    {
     "data": {
      "application/vnd.jupyter.widget-view+json": {
       "model_id": "3ee8245ecfba421bb8fb9e2e822323b5",
       "version_major": 2,
       "version_minor": 0
      },
      "text/plain": [
       "Epoch 8/20 [TRAIN]:   0%|          | 0/131 [00:00<?, ?it/s]"
      ]
     },
     "metadata": {},
     "output_type": "display_data"
    },
    {
     "data": {
      "application/vnd.jupyter.widget-view+json": {
       "model_id": "5a0ed49a6af5494d925d427dd74631db",
       "version_major": 2,
       "version_minor": 0
      },
      "text/plain": [
       "Epoch 8/20 [VAL]  :   0%|          | 0/33 [00:00<?, ?it/s]"
      ]
     },
     "metadata": {},
     "output_type": "display_data"
    },
    {
     "name": "stdout",
     "output_type": "stream",
     "text": [
      "\n",
      "Epoch 8/20:\n",
      "  Train Loss: 0.2374, Acc: 0.8998\n",
      "  Val   Loss: 0.1766, Acc: 0.9119\n",
      "  Val   Prec: 0.9301, Rec: 0.9119, F1: 0.9152\n"
     ]
    },
    {
     "data": {
      "application/vnd.jupyter.widget-view+json": {
       "model_id": "39fed2fb9ee84cb399441c185e66a1e9",
       "version_major": 2,
       "version_minor": 0
      },
      "text/plain": [
       "Epoch 9/20 [TRAIN]:   0%|          | 0/131 [00:00<?, ?it/s]"
      ]
     },
     "metadata": {},
     "output_type": "display_data"
    },
    {
     "data": {
      "application/vnd.jupyter.widget-view+json": {
       "model_id": "8152ae2be93044afbfb89c6afbd78900",
       "version_major": 2,
       "version_minor": 0
      },
      "text/plain": [
       "Epoch 9/20 [VAL]  :   0%|          | 0/33 [00:00<?, ?it/s]"
      ]
     },
     "metadata": {},
     "output_type": "display_data"
    },
    {
     "name": "stdout",
     "output_type": "stream",
     "text": [
      "\n",
      "Epoch 9/20:\n",
      "  Train Loss: 0.2090, Acc: 0.9163\n",
      "  Val   Loss: 0.1730, Acc: 0.9272\n",
      "  Val   Prec: 0.9353, Rec: 0.9272, F1: 0.9290\n",
      "\n",
      "Early stopping triggered at epoch 9\n",
      "No improvement for 5 epochs\n",
      "\n",
      "Fold 1 Training Complete!\n",
      "  Best Val Acc: 0.9425 (Epoch 4)\n",
      "  Final Metrics:\n",
      "    Accuracy:  0.9368\n",
      "    Precision: 0.9423\n",
      "    Recall:    0.9368\n",
      "    F1-Score:  0.9381\n",
      "  Model saved: models/resnet50_fold_1_best.pth\n",
      "\n",
      "Fold 1 completed in 93.4 minutes\n",
      "\n",
      "================================================================================\n",
      "TRAINING FOLD 2/5\n",
      "================================================================================\n",
      "Train samples: 4173\n",
      "Val samples: 1043\n",
      "\n",
      "Building resnet50...\n",
      "  Pretrained: True\n",
      "  Dropout: 0.5\n",
      "  Unfreeze layers: 0\n",
      "  Trainable params: 1,050,114 / 24,558,146 (4.3%)\n",
      "\n",
      "Using class weights: [np.float64(1.9448173005219984), np.float64(0.6730322580645162)]\n",
      "\n",
      "Starting training for 20 epochs...\n",
      "Early stopping patience: 5\n"
     ]
    },
    {
     "data": {
      "application/vnd.jupyter.widget-view+json": {
       "model_id": "1808231aee9d4178ad992e2dc4b457eb",
       "version_major": 2,
       "version_minor": 0
      },
      "text/plain": [
       "Epoch 1/20 [TRAIN]:   0%|          | 0/131 [00:00<?, ?it/s]"
      ]
     },
     "metadata": {},
     "output_type": "display_data"
    },
    {
     "data": {
      "application/vnd.jupyter.widget-view+json": {
       "model_id": "d7f10fb1586d45ea815815349e117662",
       "version_major": 2,
       "version_minor": 0
      },
      "text/plain": [
       "Epoch 1/20 [VAL]  :   0%|          | 0/33 [00:00<?, ?it/s]"
      ]
     },
     "metadata": {},
     "output_type": "display_data"
    },
    {
     "name": "stdout",
     "output_type": "stream",
     "text": [
      "\n",
      "Epoch 1/20:\n",
      "  Train Loss: 0.3615, Acc: 0.8313\n",
      "  Val   Loss: 0.2488, Acc: 0.9377\n",
      "  Val   Prec: 0.9379, Rec: 0.9377, F1: 0.9360\n",
      "  >> New best model! Val Acc: 0.9377\n"
     ]
    },
    {
     "data": {
      "application/vnd.jupyter.widget-view+json": {
       "model_id": "b692cf18d0bd430dbba4709d90db38ba",
       "version_major": 2,
       "version_minor": 0
      },
      "text/plain": [
       "Epoch 2/20 [TRAIN]:   0%|          | 0/131 [00:00<?, ?it/s]"
      ]
     },
     "metadata": {},
     "output_type": "display_data"
    },
    {
     "data": {
      "application/vnd.jupyter.widget-view+json": {
       "model_id": "83f2a92d376c4b029923b0f9542efdf4",
       "version_major": 2,
       "version_minor": 0
      },
      "text/plain": [
       "Epoch 2/20 [VAL]  :   0%|          | 0/33 [00:00<?, ?it/s]"
      ]
     },
     "metadata": {},
     "output_type": "display_data"
    },
    {
     "name": "stdout",
     "output_type": "stream",
     "text": [
      "\n",
      "Epoch 2/20:\n",
      "  Train Loss: 0.2837, Acc: 0.8838\n",
      "  Val   Loss: 0.1602, Acc: 0.9549\n",
      "  Val   Prec: 0.9558, Rec: 0.9549, F1: 0.9552\n",
      "  >> New best model! Val Acc: 0.9549\n"
     ]
    },
    {
     "data": {
      "application/vnd.jupyter.widget-view+json": {
       "model_id": "47d18b5ea183484d938eb581cfd86619",
       "version_major": 2,
       "version_minor": 0
      },
      "text/plain": [
       "Epoch 3/20 [TRAIN]:   0%|          | 0/131 [00:00<?, ?it/s]"
      ]
     },
     "metadata": {},
     "output_type": "display_data"
    },
    {
     "data": {
      "application/vnd.jupyter.widget-view+json": {
       "model_id": "d4fec47d275a4acdb2e8e4caa37c1ed5",
       "version_major": 2,
       "version_minor": 0
      },
      "text/plain": [
       "Epoch 3/20 [VAL]  :   0%|          | 0/33 [00:00<?, ?it/s]"
      ]
     },
     "metadata": {},
     "output_type": "display_data"
    },
    {
     "name": "stdout",
     "output_type": "stream",
     "text": [
      "\n",
      "Epoch 3/20:\n",
      "  Train Loss: 0.2846, Acc: 0.8826\n",
      "  Val   Loss: 0.2126, Acc: 0.9415\n",
      "  Val   Prec: 0.9409, Rec: 0.9415, F1: 0.9408\n"
     ]
    },
    {
     "data": {
      "application/vnd.jupyter.widget-view+json": {
       "model_id": "ad8e4a90cdbe4d1ebad010cd750d8e22",
       "version_major": 2,
       "version_minor": 0
      },
      "text/plain": [
       "Epoch 4/20 [TRAIN]:   0%|          | 0/131 [00:00<?, ?it/s]"
      ]
     },
     "metadata": {},
     "output_type": "display_data"
    },
    {
     "data": {
      "application/vnd.jupyter.widget-view+json": {
       "model_id": "9b71567efd844408ac5374ee70919462",
       "version_major": 2,
       "version_minor": 0
      },
      "text/plain": [
       "Epoch 4/20 [VAL]  :   0%|          | 0/33 [00:00<?, ?it/s]"
      ]
     },
     "metadata": {},
     "output_type": "display_data"
    },
    {
     "name": "stdout",
     "output_type": "stream",
     "text": [
      "\n",
      "Epoch 4/20:\n",
      "  Train Loss: 0.2703, Acc: 0.8886\n",
      "  Val   Loss: 0.1877, Acc: 0.9521\n",
      "  Val   Prec: 0.9521, Rec: 0.9521, F1: 0.9521\n"
     ]
    },
    {
     "data": {
      "application/vnd.jupyter.widget-view+json": {
       "model_id": "abc332ee76024b799d4666532a5ab9dc",
       "version_major": 2,
       "version_minor": 0
      },
      "text/plain": [
       "Epoch 5/20 [TRAIN]:   0%|          | 0/131 [00:00<?, ?it/s]"
      ]
     },
     "metadata": {},
     "output_type": "display_data"
    },
    {
     "data": {
      "application/vnd.jupyter.widget-view+json": {
       "model_id": "add2272978cb47299489642b13b9c1d8",
       "version_major": 2,
       "version_minor": 0
      },
      "text/plain": [
       "Epoch 5/20 [VAL]  :   0%|          | 0/33 [00:00<?, ?it/s]"
      ]
     },
     "metadata": {},
     "output_type": "display_data"
    },
    {
     "name": "stdout",
     "output_type": "stream",
     "text": [
      "\n",
      "Epoch 5/20:\n",
      "  Train Loss: 0.2458, Acc: 0.8998\n",
      "  Val   Loss: 0.1539, Acc: 0.9281\n",
      "  Val   Prec: 0.9408, Rec: 0.9281, F1: 0.9304\n"
     ]
    },
    {
     "data": {
      "application/vnd.jupyter.widget-view+json": {
       "model_id": "1e6ee6236b7c40d8804d80b78ce2eb49",
       "version_major": 2,
       "version_minor": 0
      },
      "text/plain": [
       "Epoch 6/20 [TRAIN]:   0%|          | 0/131 [00:00<?, ?it/s]"
      ]
     },
     "metadata": {},
     "output_type": "display_data"
    },
    {
     "data": {
      "application/vnd.jupyter.widget-view+json": {
       "model_id": "e86286b9e3b748c48cd5b5d82b220433",
       "version_major": 2,
       "version_minor": 0
      },
      "text/plain": [
       "Epoch 6/20 [VAL]  :   0%|          | 0/33 [00:00<?, ?it/s]"
      ]
     },
     "metadata": {},
     "output_type": "display_data"
    },
    {
     "name": "stdout",
     "output_type": "stream",
     "text": [
      "\n",
      "Epoch 6/20:\n",
      "  Train Loss: 0.2332, Acc: 0.9013\n",
      "  Val   Loss: 0.1387, Acc: 0.9492\n",
      "  Val   Prec: 0.9529, Rec: 0.9492, F1: 0.9501\n"
     ]
    },
    {
     "data": {
      "application/vnd.jupyter.widget-view+json": {
       "model_id": "06b3d0f6da6348d7a4bca1d6838347a7",
       "version_major": 2,
       "version_minor": 0
      },
      "text/plain": [
       "Epoch 7/20 [TRAIN]:   0%|          | 0/131 [00:00<?, ?it/s]"
      ]
     },
     "metadata": {},
     "output_type": "display_data"
    },
    {
     "data": {
      "application/vnd.jupyter.widget-view+json": {
       "model_id": "0e678b3545484353905e221af274b5ff",
       "version_major": 2,
       "version_minor": 0
      },
      "text/plain": [
       "Epoch 7/20 [VAL]  :   0%|          | 0/33 [00:00<?, ?it/s]"
      ]
     },
     "metadata": {},
     "output_type": "display_data"
    },
    {
     "name": "stdout",
     "output_type": "stream",
     "text": [
      "\n",
      "Epoch 7/20:\n",
      "  Train Loss: 0.2347, Acc: 0.9034\n",
      "  Val   Loss: 0.1507, Acc: 0.9367\n",
      "  Val   Prec: 0.9454, Rec: 0.9367, F1: 0.9384\n",
      "\n",
      "Early stopping triggered at epoch 7\n",
      "No improvement for 5 epochs\n",
      "\n",
      "Fold 2 Training Complete!\n",
      "  Best Val Acc: 0.9549 (Epoch 2)\n",
      "  Final Metrics:\n",
      "    Accuracy:  0.9425\n",
      "    Precision: 0.9430\n",
      "    Recall:    0.9425\n",
      "    F1-Score:  0.9427\n",
      "  Model saved: models/resnet50_fold_2_best.pth\n",
      "\n",
      "Fold 2 completed in 72.4 minutes\n",
      "\n",
      "================================================================================\n",
      "TRAINING FOLD 3/5\n",
      "================================================================================\n",
      "Train samples: 4173\n",
      "Val samples: 1043\n",
      "\n",
      "Building resnet50...\n",
      "  Pretrained: True\n",
      "  Dropout: 0.5\n",
      "  Unfreeze layers: 0\n",
      "  Trainable params: 1,050,114 / 24,558,146 (4.3%)\n",
      "\n",
      "Using class weights: [np.float64(1.9448173005219984), np.float64(0.6730322580645162)]\n",
      "\n",
      "Starting training for 20 epochs...\n",
      "Early stopping patience: 5\n"
     ]
    },
    {
     "data": {
      "application/vnd.jupyter.widget-view+json": {
       "model_id": "083b131f0ce344ad8eb007d9c1bb6ec0",
       "version_major": 2,
       "version_minor": 0
      },
      "text/plain": [
       "Epoch 1/20 [TRAIN]:   0%|          | 0/131 [00:00<?, ?it/s]"
      ]
     },
     "metadata": {},
     "output_type": "display_data"
    },
    {
     "data": {
      "application/vnd.jupyter.widget-view+json": {
       "model_id": "6f6865d07d9d466ca334c1554f3503ca",
       "version_major": 2,
       "version_minor": 0
      },
      "text/plain": [
       "Epoch 1/20 [VAL]  :   0%|          | 0/33 [00:00<?, ?it/s]"
      ]
     },
     "metadata": {},
     "output_type": "display_data"
    },
    {
     "name": "stdout",
     "output_type": "stream",
     "text": [
      "\n",
      "Epoch 1/20:\n",
      "  Train Loss: 0.3909, Acc: 0.8368\n",
      "  Val   Loss: 0.1994, Acc: 0.9271\n",
      "  Val   Prec: 0.9317, Rec: 0.9271, F1: 0.9284\n",
      "  >> New best model! Val Acc: 0.9271\n"
     ]
    },
    {
     "data": {
      "application/vnd.jupyter.widget-view+json": {
       "model_id": "b8b200868a91495583ce52663831dc19",
       "version_major": 2,
       "version_minor": 0
      },
      "text/plain": [
       "Epoch 2/20 [TRAIN]:   0%|          | 0/131 [00:00<?, ?it/s]"
      ]
     },
     "metadata": {},
     "output_type": "display_data"
    },
    {
     "data": {
      "application/vnd.jupyter.widget-view+json": {
       "model_id": "e5b0675d64654688bf80abf9b5526898",
       "version_major": 2,
       "version_minor": 0
      },
      "text/plain": [
       "Epoch 2/20 [VAL]  :   0%|          | 0/33 [00:00<?, ?it/s]"
      ]
     },
     "metadata": {},
     "output_type": "display_data"
    },
    {
     "name": "stdout",
     "output_type": "stream",
     "text": [
      "\n",
      "Epoch 2/20:\n",
      "  Train Loss: 0.2758, Acc: 0.8857\n",
      "  Val   Loss: 0.1992, Acc: 0.9195\n",
      "  Val   Prec: 0.9224, Rec: 0.9195, F1: 0.9205\n"
     ]
    },
    {
     "data": {
      "application/vnd.jupyter.widget-view+json": {
       "model_id": "624b124671364188acfebff07910ee72",
       "version_major": 2,
       "version_minor": 0
      },
      "text/plain": [
       "Epoch 3/20 [TRAIN]:   0%|          | 0/131 [00:00<?, ?it/s]"
      ]
     },
     "metadata": {},
     "output_type": "display_data"
    },
    {
     "data": {
      "application/vnd.jupyter.widget-view+json": {
       "model_id": "7249d06fa7e148e1a6c66ecc7afe03e2",
       "version_major": 2,
       "version_minor": 0
      },
      "text/plain": [
       "Epoch 3/20 [VAL]  :   0%|          | 0/33 [00:00<?, ?it/s]"
      ]
     },
     "metadata": {},
     "output_type": "display_data"
    },
    {
     "name": "stdout",
     "output_type": "stream",
     "text": [
      "\n",
      "Epoch 3/20:\n",
      "  Train Loss: 0.2665, Acc: 0.8948\n",
      "  Val   Loss: 0.2070, Acc: 0.9377\n",
      "  Val   Prec: 0.9390, Rec: 0.9377, F1: 0.9382\n",
      "  >> New best model! Val Acc: 0.9377\n"
     ]
    },
    {
     "data": {
      "application/vnd.jupyter.widget-view+json": {
       "model_id": "7f66bebdac6745929da96b2b35321d15",
       "version_major": 2,
       "version_minor": 0
      },
      "text/plain": [
       "Epoch 4/20 [TRAIN]:   0%|          | 0/131 [00:00<?, ?it/s]"
      ]
     },
     "metadata": {},
     "output_type": "display_data"
    },
    {
     "data": {
      "application/vnd.jupyter.widget-view+json": {
       "model_id": "07e2bf9f9f0e4a36beb60204b2e2cda5",
       "version_major": 2,
       "version_minor": 0
      },
      "text/plain": [
       "Epoch 4/20 [VAL]  :   0%|          | 0/33 [00:00<?, ?it/s]"
      ]
     },
     "metadata": {},
     "output_type": "display_data"
    },
    {
     "name": "stdout",
     "output_type": "stream",
     "text": [
      "\n",
      "Epoch 4/20:\n",
      "  Train Loss: 0.2626, Acc: 0.8890\n",
      "  Val   Loss: 0.1851, Acc: 0.9214\n",
      "  Val   Prec: 0.9324, Rec: 0.9214, F1: 0.9237\n"
     ]
    },
    {
     "data": {
      "application/vnd.jupyter.widget-view+json": {
       "model_id": "30410beb477244dc93c457c73dc861d1",
       "version_major": 2,
       "version_minor": 0
      },
      "text/plain": [
       "Epoch 5/20 [TRAIN]:   0%|          | 0/131 [00:00<?, ?it/s]"
      ]
     },
     "metadata": {},
     "output_type": "display_data"
    },
    {
     "data": {
      "application/vnd.jupyter.widget-view+json": {
       "model_id": "c520901186d842bdae3061367b0e526d",
       "version_major": 2,
       "version_minor": 0
      },
      "text/plain": [
       "Epoch 5/20 [VAL]  :   0%|          | 0/33 [00:00<?, ?it/s]"
      ]
     },
     "metadata": {},
     "output_type": "display_data"
    },
    {
     "name": "stdout",
     "output_type": "stream",
     "text": [
      "\n",
      "Epoch 5/20:\n",
      "  Train Loss: 0.2367, Acc: 0.9087\n",
      "  Val   Loss: 0.1976, Acc: 0.8945\n",
      "  Val   Prec: 0.9220, Rec: 0.8945, F1: 0.8993\n"
     ]
    },
    {
     "data": {
      "application/vnd.jupyter.widget-view+json": {
       "model_id": "7a60cdb58e8646268372ac921944fb77",
       "version_major": 2,
       "version_minor": 0
      },
      "text/plain": [
       "Epoch 6/20 [TRAIN]:   0%|          | 0/131 [00:00<?, ?it/s]"
      ]
     },
     "metadata": {},
     "output_type": "display_data"
    },
    {
     "data": {
      "application/vnd.jupyter.widget-view+json": {
       "model_id": "4880234d4c0e485cab2b5c9b833449db",
       "version_major": 2,
       "version_minor": 0
      },
      "text/plain": [
       "Epoch 6/20 [VAL]  :   0%|          | 0/33 [00:00<?, ?it/s]"
      ]
     },
     "metadata": {},
     "output_type": "display_data"
    },
    {
     "name": "stdout",
     "output_type": "stream",
     "text": [
      "\n",
      "Epoch 6/20:\n",
      "  Train Loss: 0.2543, Acc: 0.9001\n",
      "  Val   Loss: 0.2131, Acc: 0.8917\n",
      "  Val   Prec: 0.9189, Rec: 0.8917, F1: 0.8965\n"
     ]
    },
    {
     "data": {
      "application/vnd.jupyter.widget-view+json": {
       "model_id": "3472b9efb5724f1487c84745e6515baf",
       "version_major": 2,
       "version_minor": 0
      },
      "text/plain": [
       "Epoch 7/20 [TRAIN]:   0%|          | 0/131 [00:00<?, ?it/s]"
      ]
     },
     "metadata": {},
     "output_type": "display_data"
    },
    {
     "data": {
      "application/vnd.jupyter.widget-view+json": {
       "model_id": "4e79deb8f5494e129eee740631f6c898",
       "version_major": 2,
       "version_minor": 0
      },
      "text/plain": [
       "Epoch 7/20 [VAL]  :   0%|          | 0/33 [00:00<?, ?it/s]"
      ]
     },
     "metadata": {},
     "output_type": "display_data"
    },
    {
     "name": "stdout",
     "output_type": "stream",
     "text": [
      "\n",
      "Epoch 7/20:\n",
      "  Train Loss: 0.2169, Acc: 0.9113\n",
      "  Val   Loss: 0.1727, Acc: 0.9300\n",
      "  Val   Prec: 0.9364, Rec: 0.9300, F1: 0.9315\n"
     ]
    },
    {
     "data": {
      "application/vnd.jupyter.widget-view+json": {
       "model_id": "7900be2c00984a348f89267fa0a26e80",
       "version_major": 2,
       "version_minor": 0
      },
      "text/plain": [
       "Epoch 8/20 [TRAIN]:   0%|          | 0/131 [00:00<?, ?it/s]"
      ]
     },
     "metadata": {},
     "output_type": "display_data"
    },
    {
     "data": {
      "application/vnd.jupyter.widget-view+json": {
       "model_id": "723e355330de49098c7dadd5a2b4de91",
       "version_major": 2,
       "version_minor": 0
      },
      "text/plain": [
       "Epoch 8/20 [VAL]  :   0%|          | 0/33 [00:00<?, ?it/s]"
      ]
     },
     "metadata": {},
     "output_type": "display_data"
    },
    {
     "name": "stdout",
     "output_type": "stream",
     "text": [
      "\n",
      "Epoch 8/20:\n",
      "  Train Loss: 0.2162, Acc: 0.9104\n",
      "  Val   Loss: 0.1634, Acc: 0.9243\n",
      "  Val   Prec: 0.9328, Rec: 0.9243, F1: 0.9262\n",
      "\n",
      "Early stopping triggered at epoch 8\n",
      "No improvement for 5 epochs\n",
      "\n",
      "Fold 3 Training Complete!\n",
      "  Best Val Acc: 0.9377 (Epoch 3)\n",
      "  Final Metrics:\n",
      "    Accuracy:  0.9262\n",
      "    Precision: 0.9271\n",
      "    Recall:    0.9262\n",
      "    F1-Score:  0.9266\n",
      "  Model saved: models/resnet50_fold_3_best.pth\n",
      "\n",
      "Fold 3 completed in 81.2 minutes\n",
      "\n",
      "================================================================================\n",
      "TRAINING FOLD 4/5\n",
      "================================================================================\n",
      "Train samples: 4173\n",
      "Val samples: 1043\n",
      "\n",
      "Building resnet50...\n",
      "  Pretrained: True\n",
      "  Dropout: 0.5\n",
      "  Unfreeze layers: 0\n",
      "  Trainable params: 1,050,114 / 24,558,146 (4.3%)\n",
      "\n",
      "Using class weights: [np.float64(1.9448173005219984), np.float64(0.6730322580645162)]\n",
      "\n",
      "Starting training for 20 epochs...\n",
      "Early stopping patience: 5\n"
     ]
    },
    {
     "data": {
      "application/vnd.jupyter.widget-view+json": {
       "model_id": "fea939d349074ee8bea0cb8e6e091915",
       "version_major": 2,
       "version_minor": 0
      },
      "text/plain": [
       "Epoch 1/20 [TRAIN]:   0%|          | 0/131 [00:00<?, ?it/s]"
      ]
     },
     "metadata": {},
     "output_type": "display_data"
    },
    {
     "data": {
      "application/vnd.jupyter.widget-view+json": {
       "model_id": "e12e321d06d147b6bc714d1e4c57110d",
       "version_major": 2,
       "version_minor": 0
      },
      "text/plain": [
       "Epoch 1/20 [VAL]  :   0%|          | 0/33 [00:00<?, ?it/s]"
      ]
     },
     "metadata": {},
     "output_type": "display_data"
    },
    {
     "name": "stdout",
     "output_type": "stream",
     "text": [
      "\n",
      "Epoch 1/20:\n",
      "  Train Loss: 0.3631, Acc: 0.8342\n",
      "  Val   Loss: 0.1620, Acc: 0.9291\n",
      "  Val   Prec: 0.9414, Rec: 0.9291, F1: 0.9313\n",
      "  >> New best model! Val Acc: 0.9291\n"
     ]
    },
    {
     "data": {
      "application/vnd.jupyter.widget-view+json": {
       "model_id": "2586b78759304dbc82f8073314b8b194",
       "version_major": 2,
       "version_minor": 0
      },
      "text/plain": [
       "Epoch 2/20 [TRAIN]:   0%|          | 0/131 [00:00<?, ?it/s]"
      ]
     },
     "metadata": {},
     "output_type": "display_data"
    },
    {
     "data": {
      "application/vnd.jupyter.widget-view+json": {
       "model_id": "720c8545b751425ea847a8b109f42a45",
       "version_major": 2,
       "version_minor": 0
      },
      "text/plain": [
       "Epoch 2/20 [VAL]  :   0%|          | 0/33 [00:00<?, ?it/s]"
      ]
     },
     "metadata": {},
     "output_type": "display_data"
    },
    {
     "name": "stdout",
     "output_type": "stream",
     "text": [
      "\n",
      "Epoch 2/20:\n",
      "  Train Loss: 0.2767, Acc: 0.8859\n",
      "  Val   Loss: 0.1766, Acc: 0.9137\n",
      "  Val   Prec: 0.9306, Rec: 0.9137, F1: 0.9168\n"
     ]
    },
    {
     "data": {
      "application/vnd.jupyter.widget-view+json": {
       "model_id": "80a60088d22d4af9967955c5602407c8",
       "version_major": 2,
       "version_minor": 0
      },
      "text/plain": [
       "Epoch 3/20 [TRAIN]:   0%|          | 0/131 [00:00<?, ?it/s]"
      ]
     },
     "metadata": {},
     "output_type": "display_data"
    },
    {
     "data": {
      "application/vnd.jupyter.widget-view+json": {
       "model_id": "f3bd04fb40674a9fbaf912e4f15421a7",
       "version_major": 2,
       "version_minor": 0
      },
      "text/plain": [
       "Epoch 3/20 [VAL]  :   0%|          | 0/33 [00:00<?, ?it/s]"
      ]
     },
     "metadata": {},
     "output_type": "display_data"
    },
    {
     "name": "stdout",
     "output_type": "stream",
     "text": [
      "\n",
      "Epoch 3/20:\n",
      "  Train Loss: 0.2586, Acc: 0.8960\n",
      "  Val   Loss: 0.1723, Acc: 0.9099\n",
      "  Val   Prec: 0.9290, Rec: 0.9099, F1: 0.9133\n"
     ]
    },
    {
     "data": {
      "application/vnd.jupyter.widget-view+json": {
       "model_id": "76f91715b1c444959f77ef110520ccf8",
       "version_major": 2,
       "version_minor": 0
      },
      "text/plain": [
       "Epoch 4/20 [TRAIN]:   0%|          | 0/131 [00:00<?, ?it/s]"
      ]
     },
     "metadata": {},
     "output_type": "display_data"
    },
    {
     "data": {
      "application/vnd.jupyter.widget-view+json": {
       "model_id": "30cc1c1c947148a0995073cc58cb3c10",
       "version_major": 2,
       "version_minor": 0
      },
      "text/plain": [
       "Epoch 4/20 [VAL]  :   0%|          | 0/33 [00:00<?, ?it/s]"
      ]
     },
     "metadata": {},
     "output_type": "display_data"
    },
    {
     "name": "stdout",
     "output_type": "stream",
     "text": [
      "\n",
      "Epoch 4/20:\n",
      "  Train Loss: 0.2604, Acc: 0.8941\n",
      "  Val   Loss: 0.2387, Acc: 0.8667\n",
      "  Val   Prec: 0.9084, Rec: 0.8667, F1: 0.8737\n"
     ]
    },
    {
     "data": {
      "application/vnd.jupyter.widget-view+json": {
       "model_id": "e53d9f6490d14735be5220c819085ac2",
       "version_major": 2,
       "version_minor": 0
      },
      "text/plain": [
       "Epoch 5/20 [TRAIN]:   0%|          | 0/131 [00:00<?, ?it/s]"
      ]
     },
     "metadata": {},
     "output_type": "display_data"
    },
    {
     "data": {
      "application/vnd.jupyter.widget-view+json": {
       "model_id": "703dcd45824a40309d998dbf9f0615bb",
       "version_major": 2,
       "version_minor": 0
      },
      "text/plain": [
       "Epoch 5/20 [VAL]  :   0%|          | 0/33 [00:00<?, ?it/s]"
      ]
     },
     "metadata": {},
     "output_type": "display_data"
    },
    {
     "name": "stdout",
     "output_type": "stream",
     "text": [
      "\n",
      "Epoch 5/20:\n",
      "  Train Loss: 0.2316, Acc: 0.9058\n",
      "  Val   Loss: 0.1512, Acc: 0.9406\n",
      "  Val   Prec: 0.9477, Rec: 0.9406, F1: 0.9420\n",
      "  >> New best model! Val Acc: 0.9406\n"
     ]
    },
    {
     "data": {
      "application/vnd.jupyter.widget-view+json": {
       "model_id": "543307e6e6d44bce9b2f23fcf702daab",
       "version_major": 2,
       "version_minor": 0
      },
      "text/plain": [
       "Epoch 6/20 [TRAIN]:   0%|          | 0/131 [00:00<?, ?it/s]"
      ]
     },
     "metadata": {},
     "output_type": "display_data"
    },
    {
     "data": {
      "application/vnd.jupyter.widget-view+json": {
       "model_id": "e9d5045a6aaa42f8a79c40768ef39fbb",
       "version_major": 2,
       "version_minor": 0
      },
      "text/plain": [
       "Epoch 6/20 [VAL]  :   0%|          | 0/33 [00:00<?, ?it/s]"
      ]
     },
     "metadata": {},
     "output_type": "display_data"
    },
    {
     "name": "stdout",
     "output_type": "stream",
     "text": [
      "\n",
      "Epoch 6/20:\n",
      "  Train Loss: 0.2282, Acc: 0.9061\n",
      "  Val   Loss: 0.1644, Acc: 0.9204\n",
      "  Val   Prec: 0.9329, Rec: 0.9204, F1: 0.9229\n"
     ]
    },
    {
     "data": {
      "application/vnd.jupyter.widget-view+json": {
       "model_id": "51e17b79d25e47479c050881d53dcff6",
       "version_major": 2,
       "version_minor": 0
      },
      "text/plain": [
       "Epoch 7/20 [TRAIN]:   0%|          | 0/131 [00:00<?, ?it/s]"
      ]
     },
     "metadata": {},
     "output_type": "display_data"
    },
    {
     "data": {
      "application/vnd.jupyter.widget-view+json": {
       "model_id": "1fb96d5f81344dce87c2ea9c515d07f0",
       "version_major": 2,
       "version_minor": 0
      },
      "text/plain": [
       "Epoch 7/20 [VAL]  :   0%|          | 0/33 [00:00<?, ?it/s]"
      ]
     },
     "metadata": {},
     "output_type": "display_data"
    },
    {
     "name": "stdout",
     "output_type": "stream",
     "text": [
      "\n",
      "Epoch 7/20:\n",
      "  Train Loss: 0.2223, Acc: 0.9051\n",
      "  Val   Loss: 0.1673, Acc: 0.9453\n",
      "  Val   Prec: 0.9470, Rec: 0.9453, F1: 0.9459\n",
      "  >> New best model! Val Acc: 0.9453\n"
     ]
    },
    {
     "data": {
      "application/vnd.jupyter.widget-view+json": {
       "model_id": "a8bbf63fcf2b49e79bc964ab35eed0e8",
       "version_major": 2,
       "version_minor": 0
      },
      "text/plain": [
       "Epoch 8/20 [TRAIN]:   0%|          | 0/131 [00:00<?, ?it/s]"
      ]
     },
     "metadata": {},
     "output_type": "display_data"
    },
    {
     "data": {
      "application/vnd.jupyter.widget-view+json": {
       "model_id": "e6f4fbcf9e474453b987b477670f5b15",
       "version_major": 2,
       "version_minor": 0
      },
      "text/plain": [
       "Epoch 8/20 [VAL]  :   0%|          | 0/33 [00:00<?, ?it/s]"
      ]
     },
     "metadata": {},
     "output_type": "display_data"
    },
    {
     "name": "stdout",
     "output_type": "stream",
     "text": [
      "\n",
      "Epoch 8/20:\n",
      "  Train Loss: 0.2375, Acc: 0.9061\n",
      "  Val   Loss: 0.1599, Acc: 0.9415\n",
      "  Val   Prec: 0.9455, Rec: 0.9415, F1: 0.9425\n"
     ]
    },
    {
     "data": {
      "application/vnd.jupyter.widget-view+json": {
       "model_id": "533cd6452d694745ae7f8cf409880fc1",
       "version_major": 2,
       "version_minor": 0
      },
      "text/plain": [
       "Epoch 9/20 [TRAIN]:   0%|          | 0/131 [00:00<?, ?it/s]"
      ]
     },
     "metadata": {},
     "output_type": "display_data"
    },
    {
     "data": {
      "application/vnd.jupyter.widget-view+json": {
       "model_id": "f443078b114d4ee6aea18b1161f34ab3",
       "version_major": 2,
       "version_minor": 0
      },
      "text/plain": [
       "Epoch 9/20 [VAL]  :   0%|          | 0/33 [00:00<?, ?it/s]"
      ]
     },
     "metadata": {},
     "output_type": "display_data"
    },
    {
     "name": "stdout",
     "output_type": "stream",
     "text": [
      "\n",
      "Epoch 9/20:\n",
      "  Train Loss: 0.2455, Acc: 0.8979\n",
      "  Val   Loss: 0.1695, Acc: 0.9367\n",
      "  Val   Prec: 0.9449, Rec: 0.9367, F1: 0.9384\n"
     ]
    },
    {
     "data": {
      "application/vnd.jupyter.widget-view+json": {
       "model_id": "905d006354c641d58dae5a9ebaab3196",
       "version_major": 2,
       "version_minor": 0
      },
      "text/plain": [
       "Epoch 10/20 [TRAIN]:   0%|          | 0/131 [00:00<?, ?it/s]"
      ]
     },
     "metadata": {},
     "output_type": "display_data"
    },
    {
     "data": {
      "application/vnd.jupyter.widget-view+json": {
       "model_id": "b4a9e11b909c4d619d9e51a2f76105d4",
       "version_major": 2,
       "version_minor": 0
      },
      "text/plain": [
       "Epoch 10/20 [VAL]  :   0%|          | 0/33 [00:00<?, ?it/s]"
      ]
     },
     "metadata": {},
     "output_type": "display_data"
    },
    {
     "name": "stdout",
     "output_type": "stream",
     "text": [
      "\n",
      "Epoch 10/20:\n",
      "  Train Loss: 0.2283, Acc: 0.9097\n",
      "  Val   Loss: 0.1588, Acc: 0.9358\n",
      "  Val   Prec: 0.9419, Rec: 0.9358, F1: 0.9372\n"
     ]
    },
    {
     "data": {
      "application/vnd.jupyter.widget-view+json": {
       "model_id": "58c1e5f80b1b4f8bb318d1fda5d0e1e4",
       "version_major": 2,
       "version_minor": 0
      },
      "text/plain": [
       "Epoch 11/20 [TRAIN]:   0%|          | 0/131 [00:00<?, ?it/s]"
      ]
     },
     "metadata": {},
     "output_type": "display_data"
    },
    {
     "data": {
      "application/vnd.jupyter.widget-view+json": {
       "model_id": "79220cab2adc41139a9194eba02c35ed",
       "version_major": 2,
       "version_minor": 0
      },
      "text/plain": [
       "Epoch 11/20 [VAL]  :   0%|          | 0/33 [00:00<?, ?it/s]"
      ]
     },
     "metadata": {},
     "output_type": "display_data"
    },
    {
     "name": "stdout",
     "output_type": "stream",
     "text": [
      "\n",
      "Epoch 11/20:\n",
      "  Train Loss: 0.2094, Acc: 0.9168\n",
      "  Val   Loss: 0.1577, Acc: 0.9386\n",
      "  Val   Prec: 0.9458, Rec: 0.9386, F1: 0.9401\n"
     ]
    },
    {
     "data": {
      "application/vnd.jupyter.widget-view+json": {
       "model_id": "63f6f495acd949c8b4529836fd528253",
       "version_major": 2,
       "version_minor": 0
      },
      "text/plain": [
       "Epoch 12/20 [TRAIN]:   0%|          | 0/131 [00:00<?, ?it/s]"
      ]
     },
     "metadata": {},
     "output_type": "display_data"
    },
    {
     "data": {
      "application/vnd.jupyter.widget-view+json": {
       "model_id": "61443479fa2e4fe9ad2f4b87da75f88c",
       "version_major": 2,
       "version_minor": 0
      },
      "text/plain": [
       "Epoch 12/20 [VAL]  :   0%|          | 0/33 [00:00<?, ?it/s]"
      ]
     },
     "metadata": {},
     "output_type": "display_data"
    },
    {
     "name": "stdout",
     "output_type": "stream",
     "text": [
      "\n",
      "Epoch 12/20:\n",
      "  Train Loss: 0.2092, Acc: 0.9053\n",
      "  Val   Loss: 0.1626, Acc: 0.9338\n",
      "  Val   Prec: 0.9401, Rec: 0.9338, F1: 0.9353\n",
      "\n",
      "Early stopping triggered at epoch 12\n",
      "No improvement for 5 epochs\n",
      "\n",
      "Fold 4 Training Complete!\n",
      "  Best Val Acc: 0.9453 (Epoch 7)\n",
      "  Final Metrics:\n",
      "    Accuracy:  0.9386\n",
      "    Precision: 0.9398\n",
      "    Recall:    0.9386\n",
      "    F1-Score:  0.9391\n",
      "  Model saved: models/resnet50_fold_4_best.pth\n",
      "\n",
      "Fold 4 completed in 119.0 minutes\n",
      "\n",
      "================================================================================\n",
      "TRAINING FOLD 5/5\n",
      "================================================================================\n",
      "Train samples: 4173\n",
      "Val samples: 1043\n",
      "\n",
      "Building resnet50...\n",
      "  Pretrained: True\n",
      "  Dropout: 0.5\n",
      "  Unfreeze layers: 0\n",
      "  Trainable params: 1,050,114 / 24,558,146 (4.3%)\n",
      "\n",
      "Using class weights: [np.float64(1.9448173005219984), np.float64(0.6730322580645162)]\n",
      "\n",
      "Starting training for 20 epochs...\n",
      "Early stopping patience: 5\n"
     ]
    },
    {
     "data": {
      "application/vnd.jupyter.widget-view+json": {
       "model_id": "03505ae72e364f7f9810c667db245475",
       "version_major": 2,
       "version_minor": 0
      },
      "text/plain": [
       "Epoch 1/20 [TRAIN]:   0%|          | 0/131 [00:00<?, ?it/s]"
      ]
     },
     "metadata": {},
     "output_type": "display_data"
    },
    {
     "data": {
      "application/vnd.jupyter.widget-view+json": {
       "model_id": "d0ad9092c2194a95a8970c2e461ee3aa",
       "version_major": 2,
       "version_minor": 0
      },
      "text/plain": [
       "Epoch 1/20 [VAL]  :   0%|          | 0/33 [00:00<?, ?it/s]"
      ]
     },
     "metadata": {},
     "output_type": "display_data"
    },
    {
     "name": "stdout",
     "output_type": "stream",
     "text": [
      "\n",
      "Epoch 1/20:\n",
      "  Train Loss: 0.3867, Acc: 0.8311\n",
      "  Val   Loss: 0.4126, Acc: 0.7651\n",
      "  Val   Prec: 0.8759, Rec: 0.7651, F1: 0.7799\n",
      "  >> New best model! Val Acc: 0.7651\n"
     ]
    },
    {
     "data": {
      "application/vnd.jupyter.widget-view+json": {
       "model_id": "5e341265340b4d39adbd5d6e20b8acb0",
       "version_major": 2,
       "version_minor": 0
      },
      "text/plain": [
       "Epoch 2/20 [TRAIN]:   0%|          | 0/131 [00:00<?, ?it/s]"
      ]
     },
     "metadata": {},
     "output_type": "display_data"
    },
    {
     "data": {
      "application/vnd.jupyter.widget-view+json": {
       "model_id": "ba8439cb403844918dc5fa8edc46e9e6",
       "version_major": 2,
       "version_minor": 0
      },
      "text/plain": [
       "Epoch 2/20 [VAL]  :   0%|          | 0/33 [00:00<?, ?it/s]"
      ]
     },
     "metadata": {},
     "output_type": "display_data"
    },
    {
     "name": "stdout",
     "output_type": "stream",
     "text": [
      "\n",
      "Epoch 2/20:\n",
      "  Train Loss: 0.2735, Acc: 0.8864\n",
      "  Val   Loss: 0.1942, Acc: 0.9070\n",
      "  Val   Prec: 0.9239, Rec: 0.9070, F1: 0.9103\n",
      "  >> New best model! Val Acc: 0.9070\n"
     ]
    },
    {
     "data": {
      "application/vnd.jupyter.widget-view+json": {
       "model_id": "e12b056a1d5a447b962f24a977f7448e",
       "version_major": 2,
       "version_minor": 0
      },
      "text/plain": [
       "Epoch 3/20 [TRAIN]:   0%|          | 0/131 [00:00<?, ?it/s]"
      ]
     },
     "metadata": {},
     "output_type": "display_data"
    },
    {
     "data": {
      "application/vnd.jupyter.widget-view+json": {
       "model_id": "ed682aee5f544dafb210a3aad926ec96",
       "version_major": 2,
       "version_minor": 0
      },
      "text/plain": [
       "Epoch 3/20 [VAL]  :   0%|          | 0/33 [00:00<?, ?it/s]"
      ]
     },
     "metadata": {},
     "output_type": "display_data"
    },
    {
     "name": "stdout",
     "output_type": "stream",
     "text": [
      "\n",
      "Epoch 3/20:\n",
      "  Train Loss: 0.2662, Acc: 0.8905\n",
      "  Val   Loss: 0.2226, Acc: 0.8811\n",
      "  Val   Prec: 0.9143, Rec: 0.8811, F1: 0.8868\n"
     ]
    },
    {
     "data": {
      "application/vnd.jupyter.widget-view+json": {
       "model_id": "a1e78a35517e42d1bb61f9f0d21fd7aa",
       "version_major": 2,
       "version_minor": 0
      },
      "text/plain": [
       "Epoch 4/20 [TRAIN]:   0%|          | 0/131 [00:00<?, ?it/s]"
      ]
     },
     "metadata": {},
     "output_type": "display_data"
    },
    {
     "data": {
      "application/vnd.jupyter.widget-view+json": {
       "model_id": "1725ea309e7a45a8aeab7132c46d1724",
       "version_major": 2,
       "version_minor": 0
      },
      "text/plain": [
       "Epoch 4/20 [VAL]  :   0%|          | 0/33 [00:00<?, ?it/s]"
      ]
     },
     "metadata": {},
     "output_type": "display_data"
    },
    {
     "name": "stdout",
     "output_type": "stream",
     "text": [
      "\n",
      "Epoch 4/20:\n",
      "  Train Loss: 0.2511, Acc: 0.8982\n",
      "  Val   Loss: 0.2575, Acc: 0.8485\n",
      "  Val   Prec: 0.8996, Rec: 0.8485, F1: 0.8569\n"
     ]
    },
    {
     "data": {
      "application/vnd.jupyter.widget-view+json": {
       "model_id": "72780ce2784d4e1eacdf76f565f6a08d",
       "version_major": 2,
       "version_minor": 0
      },
      "text/plain": [
       "Epoch 5/20 [TRAIN]:   0%|          | 0/131 [00:00<?, ?it/s]"
      ]
     },
     "metadata": {},
     "output_type": "display_data"
    },
    {
     "data": {
      "application/vnd.jupyter.widget-view+json": {
       "model_id": "bfcf29f9501845cabcb4419e7fe737bc",
       "version_major": 2,
       "version_minor": 0
      },
      "text/plain": [
       "Epoch 5/20 [VAL]  :   0%|          | 0/33 [00:00<?, ?it/s]"
      ]
     },
     "metadata": {},
     "output_type": "display_data"
    },
    {
     "name": "stdout",
     "output_type": "stream",
     "text": [
      "\n",
      "Epoch 5/20:\n",
      "  Train Loss: 0.2494, Acc: 0.9027\n",
      "  Val   Loss: 0.1982, Acc: 0.9089\n",
      "  Val   Prec: 0.9220, Rec: 0.9089, F1: 0.9118\n",
      "  >> New best model! Val Acc: 0.9089\n"
     ]
    },
    {
     "data": {
      "application/vnd.jupyter.widget-view+json": {
       "model_id": "dd36a39f6b5744caae43fea52a4a0c3c",
       "version_major": 2,
       "version_minor": 0
      },
      "text/plain": [
       "Epoch 6/20 [TRAIN]:   0%|          | 0/131 [00:00<?, ?it/s]"
      ]
     },
     "metadata": {},
     "output_type": "display_data"
    },
    {
     "data": {
      "application/vnd.jupyter.widget-view+json": {
       "model_id": "d761845ac83749fcbdb978749ee7d5f7",
       "version_major": 2,
       "version_minor": 0
      },
      "text/plain": [
       "Epoch 6/20 [VAL]  :   0%|          | 0/33 [00:00<?, ?it/s]"
      ]
     },
     "metadata": {},
     "output_type": "display_data"
    },
    {
     "name": "stdout",
     "output_type": "stream",
     "text": [
      "\n",
      "Epoch 6/20:\n",
      "  Train Loss: 0.2300, Acc: 0.9010\n",
      "  Val   Loss: 0.2177, Acc: 0.8802\n",
      "  Val   Prec: 0.9122, Rec: 0.8802, F1: 0.8858\n"
     ]
    },
    {
     "data": {
      "application/vnd.jupyter.widget-view+json": {
       "model_id": "5c800c628d2447e6a3d1c7aa70a5ddc4",
       "version_major": 2,
       "version_minor": 0
      },
      "text/plain": [
       "Epoch 7/20 [TRAIN]:   0%|          | 0/131 [00:00<?, ?it/s]"
      ]
     },
     "metadata": {},
     "output_type": "display_data"
    },
    {
     "data": {
      "application/vnd.jupyter.widget-view+json": {
       "model_id": "af512891df47415293dd49e05b00563e",
       "version_major": 2,
       "version_minor": 0
      },
      "text/plain": [
       "Epoch 7/20 [VAL]  :   0%|          | 0/33 [00:00<?, ?it/s]"
      ]
     },
     "metadata": {},
     "output_type": "display_data"
    },
    {
     "name": "stdout",
     "output_type": "stream",
     "text": [
      "\n",
      "Epoch 7/20:\n",
      "  Train Loss: 0.2565, Acc: 0.8982\n",
      "  Val   Loss: 0.2046, Acc: 0.9386\n",
      "  Val   Prec: 0.9392, Rec: 0.9386, F1: 0.9389\n",
      "  >> New best model! Val Acc: 0.9386\n"
     ]
    },
    {
     "data": {
      "application/vnd.jupyter.widget-view+json": {
       "model_id": "6d487756a9b3461099f16e2af217e42a",
       "version_major": 2,
       "version_minor": 0
      },
      "text/plain": [
       "Epoch 8/20 [TRAIN]:   0%|          | 0/131 [00:00<?, ?it/s]"
      ]
     },
     "metadata": {},
     "output_type": "display_data"
    },
    {
     "data": {
      "application/vnd.jupyter.widget-view+json": {
       "model_id": "92e39c4b88404e468f849e7ca59ec62f",
       "version_major": 2,
       "version_minor": 0
      },
      "text/plain": [
       "Epoch 8/20 [VAL]  :   0%|          | 0/33 [00:00<?, ?it/s]"
      ]
     },
     "metadata": {},
     "output_type": "display_data"
    },
    {
     "name": "stdout",
     "output_type": "stream",
     "text": [
      "\n",
      "Epoch 8/20:\n",
      "  Train Loss: 0.2371, Acc: 0.9001\n",
      "  Val   Loss: 0.2159, Acc: 0.8840\n",
      "  Val   Prec: 0.9158, Rec: 0.8840, F1: 0.8895\n"
     ]
    },
    {
     "data": {
      "application/vnd.jupyter.widget-view+json": {
       "model_id": "3e227552406a401f92ac0194e205cefc",
       "version_major": 2,
       "version_minor": 0
      },
      "text/plain": [
       "Epoch 9/20 [TRAIN]:   0%|          | 0/131 [00:00<?, ?it/s]"
      ]
     },
     "metadata": {},
     "output_type": "display_data"
    },
    {
     "data": {
      "application/vnd.jupyter.widget-view+json": {
       "model_id": "6c8c7f9103684e3cb9a5c0a8bc8cfbd1",
       "version_major": 2,
       "version_minor": 0
      },
      "text/plain": [
       "Epoch 9/20 [VAL]  :   0%|          | 0/33 [00:00<?, ?it/s]"
      ]
     },
     "metadata": {},
     "output_type": "display_data"
    },
    {
     "name": "stdout",
     "output_type": "stream",
     "text": [
      "\n",
      "Epoch 9/20:\n",
      "  Train Loss: 0.2278, Acc: 0.9092\n",
      "  Val   Loss: 0.1674, Acc: 0.9166\n",
      "  Val   Prec: 0.9317, Rec: 0.9166, F1: 0.9195\n"
     ]
    },
    {
     "data": {
      "application/vnd.jupyter.widget-view+json": {
       "model_id": "39c27cda73b843679ab8d16bdd557949",
       "version_major": 2,
       "version_minor": 0
      },
      "text/plain": [
       "Epoch 10/20 [TRAIN]:   0%|          | 0/131 [00:00<?, ?it/s]"
      ]
     },
     "metadata": {},
     "output_type": "display_data"
    },
    {
     "data": {
      "application/vnd.jupyter.widget-view+json": {
       "model_id": "19e20bd3e6404a8ea898752141261fd0",
       "version_major": 2,
       "version_minor": 0
      },
      "text/plain": [
       "Epoch 10/20 [VAL]  :   0%|          | 0/33 [00:00<?, ?it/s]"
      ]
     },
     "metadata": {},
     "output_type": "display_data"
    },
    {
     "name": "stdout",
     "output_type": "stream",
     "text": [
      "\n",
      "Epoch 10/20:\n",
      "  Train Loss: 0.2317, Acc: 0.9032\n",
      "  Val   Loss: 0.1792, Acc: 0.9147\n",
      "  Val   Prec: 0.9280, Rec: 0.9147, F1: 0.9174\n"
     ]
    },
    {
     "data": {
      "application/vnd.jupyter.widget-view+json": {
       "model_id": "2aee854e564b477081830f1cbb149112",
       "version_major": 2,
       "version_minor": 0
      },
      "text/plain": [
       "Epoch 11/20 [TRAIN]:   0%|          | 0/131 [00:00<?, ?it/s]"
      ]
     },
     "metadata": {},
     "output_type": "display_data"
    },
    {
     "data": {
      "application/vnd.jupyter.widget-view+json": {
       "model_id": "3cf128f0586a459ca781a8203b56c728",
       "version_major": 2,
       "version_minor": 0
      },
      "text/plain": [
       "Epoch 11/20 [VAL]  :   0%|          | 0/33 [00:00<?, ?it/s]"
      ]
     },
     "metadata": {},
     "output_type": "display_data"
    },
    {
     "name": "stdout",
     "output_type": "stream",
     "text": [
      "\n",
      "Epoch 11/20:\n",
      "  Train Loss: 0.2223, Acc: 0.9080\n",
      "  Val   Loss: 0.1921, Acc: 0.9012\n",
      "  Val   Prec: 0.9226, Rec: 0.9012, F1: 0.9052\n"
     ]
    },
    {
     "data": {
      "application/vnd.jupyter.widget-view+json": {
       "model_id": "f158e89990c8495ab3f796e51e5cab99",
       "version_major": 2,
       "version_minor": 0
      },
      "text/plain": [
       "Epoch 12/20 [TRAIN]:   0%|          | 0/131 [00:00<?, ?it/s]"
      ]
     },
     "metadata": {},
     "output_type": "display_data"
    },
    {
     "data": {
      "application/vnd.jupyter.widget-view+json": {
       "model_id": "6b60975735454c0ab802b1affa3bdf33",
       "version_major": 2,
       "version_minor": 0
      },
      "text/plain": [
       "Epoch 12/20 [VAL]  :   0%|          | 0/33 [00:00<?, ?it/s]"
      ]
     },
     "metadata": {},
     "output_type": "display_data"
    },
    {
     "name": "stdout",
     "output_type": "stream",
     "text": [
      "\n",
      "Epoch 12/20:\n",
      "  Train Loss: 0.2209, Acc: 0.9073\n",
      "  Val   Loss: 0.1702, Acc: 0.9300\n",
      "  Val   Prec: 0.9360, Rec: 0.9300, F1: 0.9315\n",
      "\n",
      "Early stopping triggered at epoch 12\n",
      "No improvement for 5 epochs\n",
      "\n",
      "Fold 5 Training Complete!\n",
      "  Best Val Acc: 0.9386 (Epoch 7)\n",
      "  Final Metrics:\n",
      "    Accuracy:  0.9425\n",
      "    Precision: 0.9422\n",
      "    Recall:    0.9425\n",
      "    F1-Score:  0.9423\n",
      "  Model saved: models/resnet50_fold_5_best.pth\n",
      "\n",
      "Fold 5 completed in 326.7 minutes\n",
      "\n",
      "################################################################################\n",
      "ALL FOLDS TRAINING COMPLETE!\n",
      "################################################################################\n",
      "Total time: 692.8 minutes (11.5 hours)\n",
      "Completed folds: 5/5\n",
      "\n",
      "Training pipeline execution complete!\n",
      "Results saved to: outputs/all_folds_results.json\n",
      "Model checkpoints: models/resnet50_fold_1_best.pth ... fold_5_best.pth\n",
      "\n",
      "Next: Run Cell 5 to aggregate results and visualize\n",
      "\n"
     ]
    }
   ],
   "source": [
    "#================================================================================\n",
    "# CELL 4: TRAIN ALL 5 FOLDS\n",
    "#================================================================================\n",
    "\"\"\"\n",
    "What this does: Runs automated training on all 5 folds\n",
    "LONG RUN - Perfect time for lunch/break!\n",
    "\n",
    "This cell will:\n",
    "- Train 5 independent models (one per fold)\n",
    "- Save checkpoints automatically\n",
    "- Handle errors gracefully\n",
    "- Resume from previous runs if interrupted\n",
    "\"\"\"\n",
    "\n",
    "print(\"\\n\" + \"=\"*80)\n",
    "print(\"EXECUTING FULL 5-FOLD CROSS-VALIDATION\")\n",
    "print(\"=\"*80)\n",
    "\n",
    "# Run the automated training pipeline\n",
    "all_fold_results = train_all_folds(\n",
    "    config=best_config,\n",
    "    dataset=train_dataset,\n",
    "    splits=splits\n",
    ")\n",
    "\n",
    "print(f\"\\nTraining pipeline execution complete!\")\n",
    "print(f\"Results saved to: outputs/all_folds_results.json\")\n",
    "print(f\"Model checkpoints: models/resnet50_fold_1_best.pth ... fold_5_best.pth\")\n",
    "print(f\"\\nNext: Run Cell 5 to aggregate results and visualize\\n\")"
   ]
  },
  {
   "cell_type": "code",
   "execution_count": 6,
   "id": "a2250ce2-9a30-4f97-baf6-26db5aa28222",
   "metadata": {},
   "outputs": [
    {
     "name": "stdout",
     "output_type": "stream",
     "text": [
      "\n",
      "================================================================================\n",
      "AGGREGATING RESULTS & GENERATING STATISTICS\n",
      "================================================================================\n",
      "Loaded results from all_folds_results.json\n",
      "\n",
      "================================================================================\n",
      "CROSS-VALIDATION SUMMARY STATISTICS\n",
      "================================================================================\n",
      "\n",
      "Accuracy:  0.9373 +/- 0.0060\n",
      "           95% CI: +/- 0.0053\n",
      "           Range: [0.9262, 0.9425]\n",
      "\n",
      "Precision: 0.9389 +/- 0.0060\n",
      "Recall:    0.9373 +/- 0.0060\n",
      "F1-Score:  0.9377 +/- 0.0059\n",
      "\n",
      "Best Fold:  2 (Accuracy: 0.9425)\n",
      "Worst Fold: 3 (Accuracy: 0.9262)\n",
      "\n",
      "================================================================================\n",
      "PER-FOLD DETAILED RESULTS\n",
      "================================================================================\n",
      "\n",
      " Fold Accuracy Precision Recall F1-Score  Best Epoch\n",
      "    1   0.9368    0.9423 0.9368   0.9381           4\n",
      "    2   0.9425    0.9430 0.9425   0.9427           2\n",
      "    3   0.9262    0.9271 0.9262   0.9266           3\n",
      "    4   0.9386    0.9398 0.9386   0.9391           7\n",
      "    5   0.9425    0.9422 0.9425   0.9423           7\n",
      "\n",
      "--------------------------------------------------------------------------------\n",
      "Mean       0.9373   0.9389    0.9373   0.9377\n",
      "Std        0.0060   0.0060    0.0060   0.0059\n",
      "--------------------------------------------------------------------------------\n",
      "\n",
      "Results saved to: outputs/fold_results.csv\n",
      "\n",
      "Creating visualizations...\n"
     ]
    },
    {
     "name": "stderr",
     "output_type": "stream",
     "text": [
      "/var/folders/y0/0ybt25ks1nv02ljn6g8n1z2h0000gn/T/ipykernel_17581/1620203314.py:156: MatplotlibDeprecationWarning: The 'labels' parameter of boxplot() has been renamed 'tick_labels' since Matplotlib 3.9; support for the old name will be dropped in 3.11.\n",
      "  bp = ax3.boxplot(bp_data, labels=['Accuracy', 'Precision', 'Recall', 'F1-Score'],\n"
     ]
    },
    {
     "data": {
      "image/png": "[encoded data removed]",
      "text/plain": [
       "<Figure size 1600x1000 with 4 Axes>"
      ]
     },
     "metadata": {},
     "output_type": "display_data"
    },
    {
     "name": "stdout",
     "output_type": "stream",
     "text": [
      "Saved: visualizations/cross_validation_analysis.png\n",
      "\n",
      "Generating confusion matrices...\n"
     ]
    },
    {
     "data": {
      "image/png": "[encoded data removed]",
      "text/plain": [
       "<Figure size 1500x1000 with 6 Axes>"
      ]
     },
     "metadata": {},
     "output_type": "display_data"
    },
    {
     "name": "stdout",
     "output_type": "stream",
     "text": [
      "Saved: visualizations/confusion_matrices_all_folds.png\n",
      "\n",
      "Analysis complete!\n",
      "\n"
     ]
    }
   ],
   "source": [
    "#================================================================================\n",
    "# CELL 5: AGGREGATE RESULTS & STATISTICS (SIMPLIFIED)\n",
    "#================================================================================\n",
    "\"\"\"\n",
    "What this does: Calculate statistics, create visualizations, compare folds\n",
    "\"\"\"\n",
    "\n",
    "print(\"\\n\" + \"=\"*80)\n",
    "print(\"AGGREGATING RESULTS & GENERATING STATISTICS\")\n",
    "print(\"=\"*80)\n",
    "\n",
    "# Load results\n",
    "try:\n",
    "    with open('outputs/all_folds_results.json', 'r') as f:\n",
    "        data = json.load(f)\n",
    "        all_fold_results = data['all_results']\n",
    "    print(\"Loaded results from all_folds_results.json\")\n",
    "except FileNotFoundError:\n",
    "    print(\"ERROR: No results found. Please run Cell 4 first.\")\n",
    "    all_fold_results = []\n",
    "\n",
    "if not all_fold_results:\n",
    "    print(\"No results to analyze. Stopping here.\")\n",
    "else:\n",
    "    # Extract metrics from all folds\n",
    "    accuracies = [r['accuracy'] for r in all_fold_results]\n",
    "    precisions = [r['precision'] for r in all_fold_results]\n",
    "    recalls = [r['recall'] for r in all_fold_results]\n",
    "    f1_scores = [r['f1_score'] for r in all_fold_results]\n",
    "    best_epochs = [r['best_epoch'] for r in all_fold_results]\n",
    "\n",
    "    # Calculate statistics\n",
    "    cv_stats = {\n",
    "        'mean_accuracy': np.mean(accuracies),\n",
    "        'std_accuracy': np.std(accuracies),\n",
    "        'ci_95_accuracy': 1.96 * np.std(accuracies) / np.sqrt(len(accuracies)),\n",
    "        'mean_precision': np.mean(precisions),\n",
    "        'std_precision': np.std(precisions),\n",
    "        'mean_recall': np.mean(recalls),\n",
    "        'std_recall': np.std(recalls),\n",
    "        'mean_f1': np.mean(f1_scores),\n",
    "        'std_f1': np.std(f1_scores),\n",
    "        'min_accuracy': np.min(accuracies),\n",
    "        'max_accuracy': np.max(accuracies),\n",
    "        'best_fold': int(np.argmax(accuracies) + 1),\n",
    "        'worst_fold': int(np.argmin(accuracies) + 1)\n",
    "    }\n",
    "\n",
    "    # Print summary\n",
    "    print(f\"\\n{'='*80}\")\n",
    "    print(f\"CROSS-VALIDATION SUMMARY STATISTICS\")\n",
    "    print(f\"{'='*80}\\n\")\n",
    "\n",
    "    print(f\"Accuracy:  {cv_stats['mean_accuracy']:.4f} +/- {cv_stats['std_accuracy']:.4f}\")\n",
    "    print(f\"           95% CI: +/- {cv_stats['ci_95_accuracy']:.4f}\")\n",
    "    print(f\"           Range: [{cv_stats['min_accuracy']:.4f}, {cv_stats['max_accuracy']:.4f}]\")\n",
    "\n",
    "    print(f\"\\nPrecision: {cv_stats['mean_precision']:.4f} +/- {cv_stats['std_precision']:.4f}\")\n",
    "    print(f\"Recall:    {cv_stats['mean_recall']:.4f} +/- {cv_stats['std_recall']:.4f}\")\n",
    "    print(f\"F1-Score:  {cv_stats['mean_f1']:.4f} +/- {cv_stats['std_f1']:.4f}\")\n",
    "\n",
    "    print(f\"\\nBest Fold:  {cv_stats['best_fold']} (Accuracy: {cv_stats['max_accuracy']:.4f})\")\n",
    "    print(f\"Worst Fold: {cv_stats['worst_fold']} (Accuracy: {cv_stats['min_accuracy']:.4f})\")\n",
    "\n",
    "    # Create detailed results table\n",
    "    print(f\"\\n{'='*80}\")\n",
    "    print(f\"PER-FOLD DETAILED RESULTS\")\n",
    "    print(f\"{'='*80}\\n\")\n",
    "\n",
    "    results_df = pd.DataFrame([\n",
    "        {\n",
    "            'Fold': r['fold'],\n",
    "            'Accuracy': f\"{r['accuracy']:.4f}\",\n",
    "            'Precision': f\"{r['precision']:.4f}\",\n",
    "            'Recall': f\"{r['recall']:.4f}\",\n",
    "            'F1-Score': f\"{r['f1_score']:.4f}\",\n",
    "            'Best Epoch': r['best_epoch'] + 1\n",
    "        }\n",
    "        for r in all_fold_results\n",
    "    ])\n",
    "\n",
    "    print(results_df.to_string(index=False))\n",
    "\n",
    "    # Add summary row\n",
    "    print(f\"\\n{'-'*80}\")\n",
    "    print(f\"Mean       {cv_stats['mean_accuracy']:.4f}   {cv_stats['mean_precision']:.4f}    \"\n",
    "          f\"{cv_stats['mean_recall']:.4f}   {cv_stats['mean_f1']:.4f}\")\n",
    "    print(f\"Std        {cv_stats['std_accuracy']:.4f}   {cv_stats['std_precision']:.4f}    \"\n",
    "          f\"{cv_stats['std_recall']:.4f}   {cv_stats['std_f1']:.4f}\")\n",
    "    print(f\"{'-'*80}\")\n",
    "\n",
    "    # Save statistics\n",
    "    with open('outputs/cv_statistics.json', 'w') as f:\n",
    "        json.dump(cv_stats, f, indent=2)\n",
    "\n",
    "    results_df.to_csv('outputs/fold_results.csv', index=False)\n",
    "    print(f\"\\nResults saved to: outputs/fold_results.csv\")\n",
    "\n",
    "    # ========================================================================\n",
    "    # VISUALIZATIONS (SIMPLIFIED - 4 plots instead of 6)\n",
    "    # ========================================================================\n",
    "\n",
    "    print(f\"\\nCreating visualizations...\")\n",
    "\n",
    "    fig = plt.figure(figsize=(16, 10))\n",
    "    fig.suptitle('5-Fold Cross-Validation Analysis', fontsize=16, fontweight='bold')\n",
    "\n",
    "    # 1. Accuracy comparison across folds\n",
    "    ax1 = fig.add_subplot(2, 2, 1)\n",
    "    folds = [r['fold'] for r in all_fold_results]\n",
    "    colors = ['gold' if acc == max(accuracies) else 'steelblue' for acc in accuracies]\n",
    "    bars = ax1.bar(folds, accuracies, color=colors, alpha=0.7, edgecolor='black', linewidth=1.5)\n",
    "\n",
    "    ax1.axhline(cv_stats['mean_accuracy'], color='red', linestyle='--', linewidth=2,\n",
    "                label=f\"Mean: {cv_stats['mean_accuracy']:.4f}\")\n",
    "    ax1.fill_between(range(0, 7),\n",
    "                      cv_stats['mean_accuracy'] - cv_stats['std_accuracy'],\n",
    "                      cv_stats['mean_accuracy'] + cv_stats['std_accuracy'],\n",
    "                      alpha=0.2, color='red', label=f\"+/- 1 Std\")\n",
    "\n",
    "    ax1.set_xlabel('Fold', fontsize=11, fontweight='bold')\n",
    "    ax1.set_ylabel('Accuracy', fontsize=11, fontweight='bold')\n",
    "    ax1.set_title('Accuracy Across All Folds', fontsize=12, fontweight='bold')\n",
    "    ax1.legend(fontsize=9)\n",
    "    ax1.grid(True, alpha=0.3)\n",
    "    ax1.set_ylim([max(0, min(accuracies) - 0.05), 1.0])\n",
    "    ax1.set_xticks(folds)\n",
    "\n",
    "    for bar in bars:\n",
    "        height = bar.get_height()\n",
    "        ax1.text(bar.get_x() + bar.get_width()/2., height + 0.005,\n",
    "                 f'{height:.3f}', ha='center', va='bottom', fontsize=9, fontweight='bold')\n",
    "\n",
    "    # 2. All metrics comparison\n",
    "    ax2 = fig.add_subplot(2, 2, 2)\n",
    "    x = np.arange(len(folds))\n",
    "    width = 0.2\n",
    "\n",
    "    ax2.bar(x - 1.5*width, accuracies, width, label='Accuracy', color='skyblue', alpha=0.8)\n",
    "    ax2.bar(x - 0.5*width, precisions, width, label='Precision', color='lightcoral', alpha=0.8)\n",
    "    ax2.bar(x + 0.5*width, recalls, width, label='Recall', color='lightgreen', alpha=0.8)\n",
    "    ax2.bar(x + 1.5*width, f1_scores, width, label='F1-Score', color='gold', alpha=0.8)\n",
    "\n",
    "    ax2.set_xlabel('Fold', fontsize=11, fontweight='bold')\n",
    "    ax2.set_ylabel('Score', fontsize=11, fontweight='bold')\n",
    "    ax2.set_title('All Metrics Comparison', fontsize=12, fontweight='bold')\n",
    "    ax2.set_xticks(x)\n",
    "    ax2.set_xticklabels(folds)\n",
    "    ax2.legend(fontsize=9)\n",
    "    ax2.grid(True, alpha=0.3, axis='y')\n",
    "    ax2.set_ylim([0, 1.0])\n",
    "\n",
    "    # 3. Box plots for all metrics\n",
    "    ax3 = fig.add_subplot(2, 2, 3)\n",
    "    bp_data = [accuracies, precisions, recalls, f1_scores]\n",
    "    bp = ax3.boxplot(bp_data, labels=['Accuracy', 'Precision', 'Recall', 'F1-Score'],\n",
    "                     patch_artist=True)\n",
    "\n",
    "    colors_box = ['lightblue', 'lightcoral', 'lightgreen', 'lightyellow']\n",
    "    for patch, color in zip(bp['boxes'], colors_box):\n",
    "        patch.set_facecolor(color)\n",
    "        patch.set_alpha(0.7)\n",
    "\n",
    "    ax3.set_ylabel('Score', fontsize=11, fontweight='bold')\n",
    "    ax3.set_title('Distribution of Metrics', fontsize=12, fontweight='bold')\n",
    "    ax3.grid(True, alpha=0.3, axis='y')\n",
    "    ax3.set_ylim([0, 1.0])\n",
    "\n",
    "    # 4. Training history - validation accuracy\n",
    "    ax4 = fig.add_subplot(2, 2, 4)\n",
    "    for result in all_fold_results:\n",
    "        fold = result['fold']\n",
    "        history = result['history']\n",
    "        ax4.plot(history['val_acc'], label=f'Fold {fold}', linewidth=2, alpha=0.8)\n",
    "\n",
    "    ax4.set_xlabel('Epoch', fontsize=11, fontweight='bold')\n",
    "    ax4.set_ylabel('Validation Accuracy', fontsize=11, fontweight='bold')\n",
    "    ax4.set_title('Validation Accuracy History', fontsize=12, fontweight='bold')\n",
    "    ax4.legend(fontsize=9)\n",
    "    ax4.grid(True, alpha=0.3)\n",
    "    ax4.set_ylim([0, 1.0])\n",
    "\n",
    "    plt.tight_layout()\n",
    "    plt.savefig('visualizations/cross_validation_analysis.png', dpi=300, bbox_inches='tight')\n",
    "    plt.show()\n",
    "\n",
    "    print(f\"Saved: visualizations/cross_validation_analysis.png\")\n",
    "\n",
    "    # ========================================================================\n",
    "    # CONFUSION MATRICES\n",
    "    # ========================================================================\n",
    "\n",
    "    print(f\"\\nGenerating confusion matrices...\")\n",
    "\n",
    "    fig, axes = plt.subplots(2, 3, figsize=(15, 10))\n",
    "    fig.suptitle('Confusion Matrices - All Folds', fontsize=16, fontweight='bold')\n",
    "\n",
    "    axes = axes.ravel()\n",
    "\n",
    "    for i, result in enumerate(all_fold_results):\n",
    "        cm = np.array(result['confusion_matrix'])\n",
    "        fold = result['fold']\n",
    "\n",
    "        # Normalize\n",
    "        cm_normalized = cm.astype('float') / cm.sum(axis=1)[:, np.newaxis]\n",
    "\n",
    "        im = axes[i].imshow(cm_normalized, interpolation='nearest', cmap='Blues', vmin=0, vmax=1)\n",
    "        axes[i].set_title(f'Fold {fold} (Acc: {result[\"accuracy\"]:.3f})', fontsize=11, fontweight='bold')\n",
    "\n",
    "        # Add text\n",
    "        thresh = cm_normalized.max() / 2.\n",
    "        for ii, jj in np.ndindex(cm_normalized.shape):\n",
    "            color = \"white\" if cm_normalized[ii, jj] > thresh else \"black\"\n",
    "            axes[i].text(jj, ii, f'{cm_normalized[ii, jj]:.2f}\\n({cm[ii, jj]})',\n",
    "                        ha=\"center\", va=\"center\", color=color, fontsize=9)\n",
    "\n",
    "        axes[i].set_xticks([0, 1])\n",
    "        axes[i].set_yticks([0, 1])\n",
    "        axes[i].set_xticklabels(class_names, fontsize=9)\n",
    "        axes[i].set_yticklabels(class_names, fontsize=9)\n",
    "        axes[i].set_ylabel('True Label', fontsize=9)\n",
    "        axes[i].set_xlabel('Predicted', fontsize=9)\n",
    "\n",
    "    # Hide unused subplot\n",
    "    axes[5].axis('off')\n",
    "\n",
    "    plt.tight_layout()\n",
    "    plt.savefig('visualizations/confusion_matrices_all_folds.png', dpi=300, bbox_inches='tight')\n",
    "    plt.show()\n",
    "\n",
    "    print(f\"Saved: visualizations/confusion_matrices_all_folds.png\")\n",
    "    print(f\"\\nAnalysis complete!\\n\")\n"
   ]
  },
  {
   "cell_type": "code",
   "execution_count": 8,
   "id": "25c3238b-b308-4c78-b628-058806007e4b",
   "metadata": {},
   "outputs": [
    {
     "name": "stdout",
     "output_type": "stream",
     "text": [
      "\n",
      "================================================================================\n",
      "SELECTING BEST MODEL & TEST SET EVALUATION\n",
      "================================================================================\n",
      "\n",
      "Model Selection:\n",
      "  Best Fold: 2\n",
      "  Validation Accuracy: 0.9425\n",
      "\n",
      "  All Folds Ranking:\n",
      "    1. Fold 2: 0.9425 <-- SELECTED\n",
      "    2. Fold 5: 0.9425\n",
      "    3. Fold 4: 0.9386\n",
      "    4. Fold 1: 0.9368\n",
      "    5. Fold 3: 0.9262\n",
      "\n",
      "Loading model from: models/resnet50_fold_2_best.pth\n",
      "\n",
      "Building resnet50...\n",
      "  Pretrained: True\n",
      "  Dropout: 0.5\n",
      "  Unfreeze layers: 0\n",
      "  Trainable params: 1,050,114 / 24,558,146 (4.3%)\n",
      "Model loaded successfully!\n",
      "  Original validation accuracy: 0.9549\n",
      "\n",
      "Evaluating on test set...\n"
     ]
    },
    {
     "data": {
      "application/vnd.jupyter.widget-view+json": {
       "model_id": "2435a1aa2044498a996d4aa44fec48e2",
       "version_major": 2,
       "version_minor": 0
      },
      "text/plain": [
       "Testing:   0%|          | 0/20 [00:00<?, ?it/s]"
      ]
     },
     "metadata": {},
     "output_type": "display_data"
    },
    {
     "name": "stdout",
     "output_type": "stream",
     "text": [
      "\n",
      "TEST SET RESULTS (Fold 2):\n",
      "================================================================================\n",
      "Accuracy:  0.8526\n",
      "Precision: 0.8517\n",
      "Recall:    0.8526\n",
      "F1-Score:  0.8508\n",
      "\n",
      "Per-class Performance:\n",
      "  NORMAL          Prec: 0.838, Rec: 0.752, F1: 0.793, Support: 234\n",
      "  PNEUMONIA       Prec: 0.860, Rec: 0.913, F1: 0.886, Support: 390\n"
     ]
    },
    {
     "data": {
      "image/png": "[encoded data removed]",
      "text/plain": [
       "<Figure size 800x600 with 2 Axes>"
      ]
     },
     "metadata": {},
     "output_type": "display_data"
    },
    {
     "name": "stdout",
     "output_type": "stream",
     "text": [
      "\n",
      "Test results saved to: outputs/test_set_results.json\n",
      "\n",
      "================================================================================\n",
      "FINAL PERFORMANCE SUMMARY\n",
      "================================================================================\n",
      "Cross-Validation Mean: 0.9373 +/- 0.0060\n",
      "Best Fold Validation:  0.9425\n",
      "Test Set Performance:  0.8526\n",
      "\n",
      "Result: Slight performance drop on test set (diff: -0.0847)\n",
      "\n",
      "DAY 4 COMPLETE! Best model: Fold 2\n",
      "Model saved at: models/resnet50_fold_2_best.pth\n",
      "\n",
      "All done! You can now:\n",
      "  1. Review visualizations in the 'visualizations' folder\n",
      "  2. Check detailed results in 'outputs' folder\n",
      "  3. Use the best model for inference\n",
      "  4. Proceed to Day 5 for deployment\n"
     ]
    }
   ],
   "source": [
    "#================================================================================\n",
    "# CELL 6: SELECT BEST MODEL & TEST SET EVALUATION (COMPLETE)\n",
    "#================================================================================\n",
    "\"\"\"\n",
    "What this does: Select best model and evaluate on test set\n",
    "\"\"\"\n",
    "\n",
    "print(\"\\n\" + \"=\"*80)\n",
    "print(\"SELECTING BEST MODEL & TEST SET EVALUATION\")\n",
    "print(\"=\"*80)\n",
    "\n",
    "def select_best_model(all_results):\n",
    "    \"\"\"Select best model based on validation accuracy\"\"\"\n",
    "    \n",
    "    if not all_results:\n",
    "        return None\n",
    "    \n",
    "    # Find fold with highest validation accuracy\n",
    "    best_idx = np.argmax([r['accuracy'] for r in all_results])\n",
    "    best_fold = all_results[best_idx]['fold']\n",
    "    best_acc = all_results[best_idx]['accuracy']\n",
    "    \n",
    "    print(f\"\\nModel Selection:\")\n",
    "    print(f\"  Best Fold: {best_fold}\")\n",
    "    print(f\"  Validation Accuracy: {best_acc:.4f}\")\n",
    "    \n",
    "    # Show all folds for comparison\n",
    "    print(f\"\\n  All Folds Ranking:\")\n",
    "    sorted_results = sorted(all_results, key=lambda x: x['accuracy'], reverse=True)\n",
    "    for i, r in enumerate(sorted_results, 1):\n",
    "        marker = \" <-- SELECTED\" if r['fold'] == best_fold else \"\"\n",
    "        print(f\"    {i}. Fold {r['fold']}: {r['accuracy']:.4f}{marker}\")\n",
    "    \n",
    "    return best_fold\n",
    "\n",
    "def evaluate_on_test_set(fold_number, test_loader):\n",
    "    \"\"\"Evaluate selected model on test set\"\"\"\n",
    "    \n",
    "    checkpoint_path = f'models/resnet50_fold_{fold_number}_best.pth'\n",
    "    \n",
    "    if not os.path.exists(checkpoint_path):\n",
    "        print(f\"ERROR: Checkpoint not found: {checkpoint_path}\")\n",
    "        return None\n",
    "    \n",
    "    print(f\"\\nLoading model from: {checkpoint_path}\")\n",
    "    checkpoint = torch.load(checkpoint_path, map_location=device, weights_only=False)\n",
    "    \n",
    "    # Build model\n",
    "    model = build_model(\n",
    "        model_name=checkpoint['config']['model_name'],\n",
    "        num_classes=num_classes,\n",
    "        dropout_rate=checkpoint['config']['dropout_rate'],\n",
    "        unfreeze_layers=checkpoint['config'].get('unfreeze_layers', 0)\n",
    "    )\n",
    "    \n",
    "    model.load_state_dict(checkpoint['model_state_dict'])\n",
    "    model.to(device)\n",
    "    model.eval()\n",
    "    \n",
    "    print(f\"Model loaded successfully!\")\n",
    "    print(f\"  Original validation accuracy: {checkpoint['val_acc']:.4f}\")\n",
    "    \n",
    "    # Evaluate on test set\n",
    "    print(f\"\\nEvaluating on test set...\")\n",
    "    test_preds = []\n",
    "    test_labels = []\n",
    "    \n",
    "    with torch.no_grad():\n",
    "        test_bar = tqdm(test_loader, desc='Testing')\n",
    "        for images, labels in test_bar:\n",
    "            images = images.to(device)\n",
    "            outputs = model(images)\n",
    "            _, predicted = torch.max(outputs, 1)\n",
    "            \n",
    "            test_preds.extend(predicted.cpu().numpy())\n",
    "            test_labels.extend(labels.numpy())\n",
    "    \n",
    "    # Calculate metrics\n",
    "    test_acc = accuracy_score(test_labels, test_preds)\n",
    "    test_prec = precision_score(test_labels, test_preds, average='weighted', zero_division=0)\n",
    "    test_rec = recall_score(test_labels, test_preds, average='weighted', zero_division=0)\n",
    "    test_f1 = f1_score(test_labels, test_preds, average='weighted', zero_division=0)\n",
    "    test_cm = confusion_matrix(test_labels, test_preds)\n",
    "    \n",
    "    class_report = classification_report(test_labels, test_preds, \n",
    "                                        target_names=class_names, \n",
    "                                        output_dict=True)\n",
    "    \n",
    "    print(f\"\\nTEST SET RESULTS (Fold {fold_number}):\")\n",
    "    print(f\"{'='*80}\")\n",
    "    print(f\"Accuracy:  {test_acc:.4f}\")\n",
    "    print(f\"Precision: {test_prec:.4f}\")\n",
    "    print(f\"Recall:    {test_rec:.4f}\")\n",
    "    print(f\"F1-Score:  {test_f1:.4f}\")\n",
    "    \n",
    "    print(f\"\\nPer-class Performance:\")\n",
    "    for class_name in class_names:\n",
    "        metrics = class_report[class_name]\n",
    "        print(f\"  {class_name:15} Prec: {metrics['precision']:.3f}, \"\n",
    "              f\"Rec: {metrics['recall']:.3f}, F1: {metrics['f1-score']:.3f}, \"\n",
    "              f\"Support: {int(metrics['support'])}\")\n",
    "    \n",
    "    # Visualize confusion matrix\n",
    "    plt.figure(figsize=(8, 6))\n",
    "    cm_normalized = test_cm.astype('float') / test_cm.sum(axis=1)[:, np.newaxis]\n",
    "    \n",
    "    sns.heatmap(cm_normalized, annot=True, fmt='.3f', cmap='Blues',\n",
    "                xticklabels=class_names, yticklabels=class_names,\n",
    "                cbar_kws={'label': 'Normalized Count'})\n",
    "    \n",
    "    # Add raw counts as secondary annotation\n",
    "    for i in range(len(class_names)):\n",
    "        for j in range(len(class_names)):\n",
    "            plt.text(j+0.5, i+0.7, f'({test_cm[i,j]})', \n",
    "                    ha='center', va='center', fontsize=9, color='gray')\n",
    "    \n",
    "    plt.title(f'Test Set Confusion Matrix\\nFold {fold_number} | Accuracy: {test_acc:.3f}', \n",
    "              fontsize=14, fontweight='bold')\n",
    "    plt.ylabel('True Label', fontsize=12)\n",
    "    plt.xlabel('Predicted Label', fontsize=12)\n",
    "    plt.tight_layout()\n",
    "    plt.savefig('visualizations/test_set_confusion_matrix.png', dpi=300, bbox_inches='tight')\n",
    "    plt.show()\n",
    "    \n",
    "    return {\n",
    "        'test_accuracy': test_acc,\n",
    "        'test_precision': test_prec,\n",
    "        'test_recall': test_rec,\n",
    "        'test_f1': test_f1,\n",
    "        'confusion_matrix': test_cm.tolist(),\n",
    "        'classification_report': class_report,\n",
    "        'best_fold': fold_number,\n",
    "        'original_val_accuracy': checkpoint['val_acc']\n",
    "    }\n",
    "\n",
    "# Main execution\n",
    "if not all_fold_results:\n",
    "    print(\"ERROR: No results available. Please run Cell 4 first.\")\n",
    "else:\n",
    "    # Select best model\n",
    "    best_fold = select_best_model(all_fold_results)\n",
    "    \n",
    "    if best_fold:\n",
    "        # Create test loader\n",
    "        test_loader = DataLoader(\n",
    "            test_dataset,\n",
    "            batch_size=best_config['batch_size'],\n",
    "            shuffle=False,\n",
    "            num_workers=2,\n",
    "            pin_memory=True\n",
    "        )\n",
    "        \n",
    "        # Evaluate on test set\n",
    "        test_results = evaluate_on_test_set(best_fold, test_loader)\n",
    "        \n",
    "        if test_results:\n",
    "            # Save results\n",
    "            with open('outputs/test_set_results.json', 'w') as f:\n",
    "                json.dump({\n",
    "                    'test_accuracy': test_results['test_accuracy'],\n",
    "                    'test_precision': test_results['test_precision'],\n",
    "                    'test_recall': test_results['test_recall'],\n",
    "                    'test_f1': test_results['test_f1'],\n",
    "                    'best_fold': test_results['best_fold'],\n",
    "                    'original_val_accuracy': test_results['original_val_accuracy']\n",
    "                }, f, indent=2)\n",
    "            \n",
    "            print(f\"\\nTest results saved to: outputs/test_set_results.json\")\n",
    "            \n",
    "            # Final comparison\n",
    "            print(f\"\\n{'='*80}\")\n",
    "            print(f\"FINAL PERFORMANCE SUMMARY\")\n",
    "            print(f\"{'='*80}\")\n",
    "            print(f\"Cross-Validation Mean: {cv_stats['mean_accuracy']:.4f} +/- {cv_stats['std_accuracy']:.4f}\")\n",
    "            print(f\"Best Fold Validation:  {max([r['accuracy'] for r in all_fold_results]):.4f}\")\n",
    "            print(f\"Test Set Performance:  {test_results['test_accuracy']:.4f}\")\n",
    "            \n",
    "            diff = test_results['test_accuracy'] - cv_stats['mean_accuracy']\n",
    "            if abs(diff) < 0.02:\n",
    "                print(f\"\\nResult: Model generalizes well! (diff: {diff:+.4f})\")\n",
    "            elif diff > 0:\n",
    "                print(f\"\\nResult: Model performs even better on test set! (diff: {diff:+.4f})\")\n",
    "            else:\n",
    "                print(f\"\\nResult: Slight performance drop on test set (diff: {diff:+.4f})\")\n",
    "            \n",
    "            print(f\"\\nDAY 4 COMPLETE! Best model: Fold {best_fold}\")\n",
    "            print(f\"Model saved at: models/resnet50_fold_{best_fold}_best.pth\")\n",
    "            \n",
    "            # Clean up memory\n",
    "            del test_loader\n",
    "            torch.cuda.empty_cache()\n",
    "            gc.collect()\n",
    "            \n",
    "            print(\"\\nAll done! You can now:\")\n",
    "            print(\"  1. Review visualizations in the 'visualizations' folder\")\n",
    "            print(\"  2. Check detailed results in 'outputs' folder\")\n",
    "            print(\"  3. Use the best model for inference\")\n",
    "            print(\"  4. Proceed to Day 5 for deployment\")\n"
   ]
  },
  {
   "cell_type": "code",
   "execution_count": 9,
   "id": "81d7dfab-b7c1-4a93-9a35-d6fa4c4d6d11",
   "metadata": {},
   "outputs": [
    {
     "name": "stdout",
     "output_type": "stream",
     "text": [
      "\n",
      "================================================================================\n",
      "GENERATING FINAL DAY 4 REPORT\n",
      "================================================================================\n",
      "\n",
      "Generating comprehensive Day 4 report...\n",
      "\n",
      "Loading all results files...\n",
      "  Loaded: cv_statistics.json\n",
      "  Loaded: test_set_results.json\n",
      "  Loaded: dataset_info.json\n",
      "  Loaded: all_folds_results.json\n",
      "\n",
      "Final report created successfully!\n",
      "\n",
      "================================================================================\n",
      "DAY 4 EXECUTIVE SUMMARY\n",
      "================================================================================\n",
      "\n",
      "[DATASET]\n",
      "  Training samples: 5,216\n",
      "  Test samples:     624\n",
      "  Classes:          NORMAL, PNEUMONIA\n",
      "  Class counts:     {'NORMAL': 1341, 'PNEUMONIA': 3875}\n",
      "\n",
      "[MODEL CONFIGURATION]\n",
      "  Architecture:     ResNet50\n",
      "  Optimizer:        Adam\n",
      "  Learning rate:    0.001\n",
      "  Batch size:       32\n",
      "  Dropout rate:     0.5\n",
      "\n",
      "[CROSS-VALIDATION RESULTS]\n",
      "  Method:           Stratified K-Fold\n",
      "  Number of folds:  5\n",
      "  Best fold:        2\n",
      "\n",
      "  Accuracy:         0.9373 +/- 0.0060\n",
      "    95% CI:         +/- 0.0053\n",
      "    Range:          [0.9262, 0.9425]\n",
      "  Precision:        0.9389 +/- 0.0060\n",
      "  Recall:           0.9373 +/- 0.0060\n",
      "  F1-Score:         0.9377 +/- 0.0059\n",
      "\n",
      "[TEST SET PERFORMANCE]\n",
      "  Model used:       Fold 2\n",
      "  Accuracy:         0.8526\n",
      "  Precision:        0.8517\n",
      "  Recall:           0.8526\n",
      "  F1-Score:         0.8508\n",
      "\n",
      "  Generalization gap: -0.0847 (Slight overfitting)\n",
      "\n",
      "[TRAINING TIME]\n",
      "  Total time:       692.8 minutes (11.55 hours)\n",
      "\n",
      "[KEY ACHIEVEMENTS]\n",
      "  - Completed 5-fold stratified cross-validation\n",
      "  - Trained 5 independent ResNet50 models\n",
      "  - Mean CV accuracy: 0.9373\n",
      "  - Selected best model: Fold 2\n",
      "  - Test accuracy: 0.8526\n",
      "  - Generated comprehensive visualizations\n",
      "\n",
      "================================================================================\n",
      "FILES GENERATED\n",
      "================================================================================\n",
      "\n",
      "[OUTPUTS]\n",
      "  - all_folds_results.json\n",
      "  - cv_statistics.json\n",
      "  - test_set_results.json\n",
      "  - day4_final_report.json\n",
      "  - fold_results.csv\n",
      "  - dataset_info.json\n",
      "\n",
      "[VISUALIZATIONS]\n",
      "  - cross_validation_analysis.png\n",
      "  - confusion_matrices_all_folds.png\n",
      "  - test_set_confusion_matrix.png\n",
      "\n",
      "[MODELS]\n",
      "  - resnet50_fold_1_best.pth\n",
      "  - resnet50_fold_2_best.pth <- BEST MODEL\n",
      "  - resnet50_fold_3_best.pth\n",
      "  - resnet50_fold_4_best.pth\n",
      "  - resnet50_fold_5_best.pth\n",
      "\n",
      "================================================================================\n",
      "\n",
      "================================================================================\n",
      "DAY 4 COMPLETED SUCCESSFULLY!\n",
      "================================================================================\n",
      "\n",
      "[WHAT YOU ACCOMPLISHED TODAY]\n",
      "  1. Loaded and prepared chest X-ray dataset\n",
      "  2. Created 5-fold stratified cross-validation splits\n",
      "  3. Trained 5 independent ResNet50 models\n",
      "  4. Calculated comprehensive cross-validation statistics\n",
      "  5. Selected best performing model\n",
      "  6. Evaluated on held-out test set for first time\n",
      "  7. Generated publication-quality visualizations\n",
      "  8. Created detailed performance reports\n",
      "\n",
      "[NEXT STEPS]\n",
      "  1. Review visualizations in 'visualizations/' folder\n",
      "  2. Examine detailed metrics in 'outputs/' folder\n",
      "  3. Load best model for inference:\n",
      "     model_path = 'models/resnet50_fold_2_best.pth'\n",
      "  4. Proceed to Day 5 for deployment and advanced techniques\n",
      "\n",
      "[MODEL PERFORMANCE SUMMARY]\n",
      "  Cross-validation accuracy: 93.73%\n",
      "  Test set accuracy:         85.26%\n",
      "\n",
      "  STATUS: Excellent performance! Model is ready for deployment.\n",
      "\n",
      "================================================================================\n",
      "Congratulations on completing Day 4!\n",
      "Your model is now trained, validated, and tested!\n",
      "================================================================================\n",
      "\n"
     ]
    }
   ],
   "source": [
    "#================================================================================\n",
    "# CELL 7: GENERATE FINAL REPORT & SUMMARY\n",
    "#================================================================================\n",
    "\"\"\"\n",
    "Run time: ~2 minutes\n",
    "What this does: Generate comprehensive final report and summary\n",
    "\"\"\"\n",
    "\n",
    "print(\"\\n\" + \"=\"*80)\n",
    "print(\"GENERATING FINAL DAY 4 REPORT\")\n",
    "print(\"=\"*80)\n",
    "\n",
    "def generate_final_report():\n",
    "    \"\"\"Generate comprehensive final report\"\"\"\n",
    "    \n",
    "    print(\"\\nLoading all results files...\")\n",
    "    \n",
    "    # Load all required files\n",
    "    try:\n",
    "        with open('outputs/cv_statistics.json', 'r') as f:\n",
    "            cv_stats_loaded = json.load(f)\n",
    "        print(\"  Loaded: cv_statistics.json\")\n",
    "    except FileNotFoundError:\n",
    "        print(\"ERROR: cv_statistics.json not found. Run Cell 5 first.\")\n",
    "        return None\n",
    "    \n",
    "    try:\n",
    "        with open('outputs/test_set_results.json', 'r') as f:\n",
    "            test_results_loaded = json.load(f)\n",
    "        print(\"  Loaded: test_set_results.json\")\n",
    "    except FileNotFoundError:\n",
    "        print(\"ERROR: test_set_results.json not found. Run Cell 6 first.\")\n",
    "        return None\n",
    "    \n",
    "    try:\n",
    "        with open('outputs/dataset_info.json', 'r') as f:\n",
    "            dataset_info_loaded = json.load(f)\n",
    "        print(\"  Loaded: dataset_info.json\")\n",
    "    except FileNotFoundError:\n",
    "        print(\"ERROR: dataset_info.json not found. Run Cell 2 first.\")\n",
    "        return None\n",
    "    \n",
    "    try:\n",
    "        with open('outputs/all_folds_results.json', 'r') as f:\n",
    "            all_folds_data = json.load(f)\n",
    "        print(\"  Loaded: all_folds_results.json\")\n",
    "    except FileNotFoundError:\n",
    "        print(\"ERROR: all_folds_results.json not found. Run Cell 4 first.\")\n",
    "        return None\n",
    "    \n",
    "    # Create comprehensive report\n",
    "    report = {\n",
    "        \"project\": \"Chest X-Ray Pneumonia Classification\",\n",
    "        \"day\": 4,\n",
    "        \"title\": \"Full K-Fold Cross-Validation & Model Optimization\",\n",
    "        \"date\": datetime.now().strftime(\"%Y-%m-%d %H:%M:%S\"),\n",
    "        \"dataset\": {\n",
    "            \"training_samples\": dataset_info_loaded[\"train_samples\"],\n",
    "            \"test_samples\": dataset_info_loaded[\"test_samples\"],\n",
    "            \"classes\": dataset_info_loaded[\"class_names\"],\n",
    "            \"class_counts\": dict(zip(\n",
    "                dataset_info_loaded[\"class_names\"],\n",
    "                dataset_info_loaded[\"class_counts\"]\n",
    "            )),\n",
    "            \"imbalance_ratio\": dataset_info_loaded.get(\"imbalance_ratio\", \"N/A\")\n",
    "        },\n",
    "        \"model_configuration\": {\n",
    "            \"architecture\": \"ResNet50\",\n",
    "            \"optimizer\": \"Adam\",\n",
    "            \"learning_rate\": 0.001,\n",
    "            \"batch_size\": 32,\n",
    "            \"dropout_rate\": 0.5,\n",
    "            \"class_weights\": dataset_info_loaded.get(\"class_weights\", None)\n",
    "        },\n",
    "        \"cross_validation\": {\n",
    "            \"method\": \"Stratified K-Fold\",\n",
    "            \"n_folds\": 5,\n",
    "            \"random_state\": 42,\n",
    "            \"metrics\": {\n",
    "                \"accuracy\": {\n",
    "                    \"mean\": cv_stats_loaded[\"mean_accuracy\"],\n",
    "                    \"std\": cv_stats_loaded[\"std_accuracy\"],\n",
    "                    \"ci_95\": cv_stats_loaded[\"ci_95_accuracy\"],\n",
    "                    \"min\": cv_stats_loaded[\"min_accuracy\"],\n",
    "                    \"max\": cv_stats_loaded[\"max_accuracy\"]\n",
    "                },\n",
    "                \"precision\": {\n",
    "                    \"mean\": cv_stats_loaded[\"mean_precision\"],\n",
    "                    \"std\": cv_stats_loaded[\"std_precision\"]\n",
    "                },\n",
    "                \"recall\": {\n",
    "                    \"mean\": cv_stats_loaded[\"mean_recall\"],\n",
    "                    \"std\": cv_stats_loaded[\"std_recall\"]\n",
    "                },\n",
    "                \"f1_score\": {\n",
    "                    \"mean\": cv_stats_loaded[\"mean_f1\"],\n",
    "                    \"std\": cv_stats_loaded[\"std_f1\"]\n",
    "                }\n",
    "            },\n",
    "            \"best_fold\": cv_stats_loaded[\"best_fold\"],\n",
    "            \"worst_fold\": cv_stats_loaded[\"worst_fold\"]\n",
    "        },\n",
    "        \"test_set_performance\": {\n",
    "            \"model_used\": f\"Fold {test_results_loaded['best_fold']}\",\n",
    "            \"metrics\": {\n",
    "                \"accuracy\": test_results_loaded[\"test_accuracy\"],\n",
    "                \"precision\": test_results_loaded[\"test_precision\"],\n",
    "                \"recall\": test_results_loaded[\"test_recall\"],\n",
    "                \"f1_score\": test_results_loaded[\"test_f1\"]\n",
    "            },\n",
    "            \"generalization_gap\": test_results_loaded[\"test_accuracy\"] - cv_stats_loaded[\"mean_accuracy\"]\n",
    "        },\n",
    "        \"training_time\": {\n",
    "            \"total_minutes\": all_folds_data.get(\"total_time_minutes\", \"N/A\"),\n",
    "            \"total_hours\": round(all_folds_data.get(\"total_time_minutes\", 0) / 60, 2) if \"total_time_minutes\" in all_folds_data else \"N/A\"\n",
    "        },\n",
    "        \"files_generated\": {\n",
    "            \"models\": [f\"resnet50_fold_{i}_best.pth\" for i in range(1, 6)],\n",
    "            \"outputs\": [\n",
    "                \"all_folds_results.json\",\n",
    "                \"cv_statistics.json\",\n",
    "                \"test_set_results.json\",\n",
    "                \"day4_final_report.json\",\n",
    "                \"fold_results.csv\",\n",
    "                \"dataset_info.json\"\n",
    "            ],\n",
    "            \"visualizations\": [\n",
    "                \"cross_validation_analysis.png\",\n",
    "                \"confusion_matrices_all_folds.png\",\n",
    "                \"test_set_confusion_matrix.png\"\n",
    "            ]\n",
    "        }\n",
    "    }\n",
    "    \n",
    "    # Save comprehensive report\n",
    "    with open('outputs/day4_final_report.json', 'w') as f:\n",
    "        json.dump(report, f, indent=2)\n",
    "    \n",
    "    print(\"\\nFinal report created successfully!\")\n",
    "    \n",
    "    # Print executive summary\n",
    "    print(\"\\n\" + \"=\"*80)\n",
    "    print(\"DAY 4 EXECUTIVE SUMMARY\")\n",
    "    print(\"=\"*80)\n",
    "    \n",
    "    print(\"\\n[DATASET]\")\n",
    "    print(f\"  Training samples: {report['dataset']['training_samples']:,}\")\n",
    "    print(f\"  Test samples:     {report['dataset']['test_samples']:,}\")\n",
    "    print(f\"  Classes:          {', '.join(report['dataset']['classes'])}\")\n",
    "    print(f\"  Class counts:     {report['dataset']['class_counts']}\")\n",
    "    \n",
    "    print(\"\\n[MODEL CONFIGURATION]\")\n",
    "    print(f\"  Architecture:     {report['model_configuration']['architecture']}\")\n",
    "    print(f\"  Optimizer:        {report['model_configuration']['optimizer']}\")\n",
    "    print(f\"  Learning rate:    {report['model_configuration']['learning_rate']}\")\n",
    "    print(f\"  Batch size:       {report['model_configuration']['batch_size']}\")\n",
    "    print(f\"  Dropout rate:     {report['model_configuration']['dropout_rate']}\")\n",
    "    \n",
    "    print(\"\\n[CROSS-VALIDATION RESULTS]\")\n",
    "    print(f\"  Method:           {report['cross_validation']['method']}\")\n",
    "    print(f\"  Number of folds:  {report['cross_validation']['n_folds']}\")\n",
    "    print(f\"  Best fold:        {report['cross_validation']['best_fold']}\")\n",
    "    \n",
    "    cv_metrics = report['cross_validation']['metrics']\n",
    "    print(f\"\\n  Accuracy:         {cv_metrics['accuracy']['mean']:.4f} +/- {cv_metrics['accuracy']['std']:.4f}\")\n",
    "    print(f\"    95% CI:         +/- {cv_metrics['accuracy']['ci_95']:.4f}\")\n",
    "    print(f\"    Range:          [{cv_metrics['accuracy']['min']:.4f}, {cv_metrics['accuracy']['max']:.4f}]\")\n",
    "    print(f\"  Precision:        {cv_metrics['precision']['mean']:.4f} +/- {cv_metrics['precision']['std']:.4f}\")\n",
    "    print(f\"  Recall:           {cv_metrics['recall']['mean']:.4f} +/- {cv_metrics['recall']['std']:.4f}\")\n",
    "    print(f\"  F1-Score:         {cv_metrics['f1_score']['mean']:.4f} +/- {cv_metrics['f1_score']['std']:.4f}\")\n",
    "    \n",
    "    print(\"\\n[TEST SET PERFORMANCE]\")\n",
    "    print(f\"  Model used:       {report['test_set_performance']['model_used']}\")\n",
    "    test_metrics = report['test_set_performance']['metrics']\n",
    "    print(f\"  Accuracy:         {test_metrics['accuracy']:.4f}\")\n",
    "    print(f\"  Precision:        {test_metrics['precision']:.4f}\")\n",
    "    print(f\"  Recall:           {test_metrics['recall']:.4f}\")\n",
    "    print(f\"  F1-Score:         {test_metrics['f1_score']:.4f}\")\n",
    "    \n",
    "    gap = report['test_set_performance']['generalization_gap']\n",
    "    print(f\"\\n  Generalization gap: {gap:+.4f}\", end=\" \")\n",
    "    if abs(gap) < 0.02:\n",
    "        print(\"(Excellent generalization!)\")\n",
    "    elif gap > 0:\n",
    "        print(\"(Better than expected!)\")\n",
    "    else:\n",
    "        print(\"(Slight overfitting)\")\n",
    "    \n",
    "    print(\"\\n[TRAINING TIME]\")\n",
    "    if report['training_time']['total_minutes'] != \"N/A\":\n",
    "        print(f\"  Total time:       {report['training_time']['total_minutes']:.1f} minutes ({report['training_time']['total_hours']:.2f} hours)\")\n",
    "    else:\n",
    "        print(f\"  Total time:       N/A\")\n",
    "    \n",
    "    print(\"\\n[KEY ACHIEVEMENTS]\")\n",
    "    print(f\"  - Completed 5-fold stratified cross-validation\")\n",
    "    print(f\"  - Trained 5 independent ResNet50 models\")\n",
    "    print(f\"  - Mean CV accuracy: {cv_metrics['accuracy']['mean']:.4f}\")\n",
    "    print(f\"  - Selected best model: Fold {report['cross_validation']['best_fold']}\")\n",
    "    print(f\"  - Test accuracy: {test_metrics['accuracy']:.4f}\")\n",
    "    print(f\"  - Generated comprehensive visualizations\")\n",
    "    \n",
    "    print(\"\\n\" + \"=\"*80)\n",
    "    print(\"FILES GENERATED\")\n",
    "    print(\"=\"*80)\n",
    "    \n",
    "    print(\"\\n[OUTPUTS]\")\n",
    "    for filename in report['files_generated']['outputs']:\n",
    "        print(f\"  - {filename}\")\n",
    "    \n",
    "    print(\"\\n[VISUALIZATIONS]\")\n",
    "    for filename in report['files_generated']['visualizations']:\n",
    "        print(f\"  - {filename}\")\n",
    "    \n",
    "    print(\"\\n[MODELS]\")\n",
    "    for i in range(1, 6):\n",
    "        marker = \" <- BEST MODEL\" if i == report['cross_validation']['best_fold'] else \"\"\n",
    "        print(f\"  - resnet50_fold_{i}_best.pth{marker}\")\n",
    "    \n",
    "    print(\"\\n\" + \"=\"*80)\n",
    "    \n",
    "    return report\n",
    "\n",
    "# Generate the report\n",
    "print(\"\\nGenerating comprehensive Day 4 report...\")\n",
    "final_report = generate_final_report()\n",
    "\n",
    "if final_report:\n",
    "    print(\"\\n\" + \"=\"*80)\n",
    "    print(\"DAY 4 COMPLETED SUCCESSFULLY!\")\n",
    "    print(\"=\"*80)\n",
    "    \n",
    "    print(\"\\n[WHAT YOU ACCOMPLISHED TODAY]\")\n",
    "    print(\"  1. Loaded and prepared chest X-ray dataset\")\n",
    "    print(\"  2. Created 5-fold stratified cross-validation splits\")\n",
    "    print(\"  3. Trained 5 independent ResNet50 models\")\n",
    "    print(\"  4. Calculated comprehensive cross-validation statistics\")\n",
    "    print(\"  5. Selected best performing model\")\n",
    "    print(\"  6. Evaluated on held-out test set for first time\")\n",
    "    print(\"  7. Generated publication-quality visualizations\")\n",
    "    print(\"  8. Created detailed performance reports\")\n",
    "    \n",
    "    print(\"\\n[NEXT STEPS]\")\n",
    "    print(\"  1. Review visualizations in 'visualizations/' folder\")\n",
    "    print(\"  2. Examine detailed metrics in 'outputs/' folder\")\n",
    "    print(\"  3. Load best model for inference:\")\n",
    "    best_fold = final_report['cross_validation']['best_fold']\n",
    "    print(f\"     model_path = 'models/resnet50_fold_{best_fold}_best.pth'\")\n",
    "    print(\"  4. Proceed to Day 5 for deployment and advanced techniques\")\n",
    "    \n",
    "    print(\"\\n[MODEL PERFORMANCE SUMMARY]\")\n",
    "    cv_acc = final_report['cross_validation']['metrics']['accuracy']['mean']\n",
    "    test_acc = final_report['test_set_performance']['metrics']['accuracy']\n",
    "    print(f\"  Cross-validation accuracy: {cv_acc:.2%}\")\n",
    "    print(f\"  Test set accuracy:         {test_acc:.2%}\")\n",
    "    \n",
    "    if test_acc >= 0.85:\n",
    "        print(\"\\n  STATUS: Excellent performance! Model is ready for deployment.\")\n",
    "    elif test_acc >= 0.80:\n",
    "        print(\"\\n  STATUS: Good performance! Model shows strong generalization.\")\n",
    "    else:\n",
    "        print(\"\\n  STATUS: Acceptable performance. Consider further optimization.\")\n",
    "    \n",
    "    print(\"\\n\" + \"=\"*80)\n",
    "    print(\"Congratulations on completing Day 4!\")\n",
    "    print(\"Your model is now trained, validated, and tested!\")\n",
    "    print(\"=\"*80 + \"\\n\")\n",
    "    \n",
    "else:\n",
    "    print(\"\\n\" + \"=\"*80)\n",
    "    print(\"ERROR: Report generation failed\")\n",
    "    print(\"=\"*80)\n",
    "    print(\"\\nPlease ensure all previous cells (1-6) completed successfully:\")\n",
    "    print(\"  - Cell 1: Setup and configuration\")\n",
    "    print(\"  - Cell 2: Data loading\")\n",
    "    print(\"  - Cell 3: Model and training functions\")\n",
    "    print(\"  - Cell 4: Training all folds\")\n",
    "    print(\"  - Cell 5: Results aggregation\")\n",
    "    print(\"  - Cell 6: Test set evaluation\")\n",
    "    print(\"\\nCheck the error messages above for details.\\n\")"
   ]
  },
  {
   "cell_type": "code",
   "execution_count": null,
   "id": "8ab313f9-de2a-480f-8cc6-737a56de6364",
   "metadata": {},
   "outputs": [],
   "source": []
  }
 ],
 "metadata": {
  "kernelspec": {
   "display_name": "Python 3 (ipykernel)",
   "language": "python",
   "name": "python3"
  },
  "language_info": {
   "codemirror_mode": {
    "name": "ipython",
    "version": 3
   },
   "file_extension": ".py",
   "mimetype": "text/x-python",
   "name": "python",
   "nbconvert_exporter": "python",
   "pygments_lexer": "ipython3",
   "version": "3.9.6"
  }
 },
 "nbformat": 4,
 "nbformat_minor": 5
}

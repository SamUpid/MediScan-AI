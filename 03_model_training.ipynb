{
 "cells": [
  {
   "cell_type": "code",
   "execution_count": 40,
   "id": "e8e0618c-d4a2-44d5-bcb0-2a3d7c528fc6",
   "metadata": {},
   "outputs": [
    {
     "name": "stdout",
     "output_type": "stream",
     "text": [
      "  Downloading dataset...\n",
      "Dataset URL: https://www.kaggle.com/datasets/paultimothymooney/chest-xray-pneumonia\n",
      "  Dataset downloaded!\n"
     ]
    }
   ],
   "source": [
    "# Download dataset\n",
    "import os\n",
    "from kaggle.api.kaggle_api_extended import KaggleApi\n",
    "\n",
    "print(\"  Downloading dataset...\")\n",
    "api = KaggleApi()\n",
    "api.authenticate()\n",
    "api.dataset_download_files('paultimothymooney/chest-xray-pneumonia', path='./data', unzip=True)\n",
    "print(\"  Dataset downloaded!\")"
   ]
  },
  {
   "cell_type": "code",
   "execution_count": 60,
   "id": "224094e5-3147-4f3a-8806-ce8ad07aa260",
   "metadata": {},
   "outputs": [
    {
     "name": "stdout",
     "output_type": "stream",
     "text": [
      " Using M2 GPU!\n",
      "Device: mps\n"
     ]
    }
   ],
   "source": [
    "\"\"\"\n",
    "MediScan-AI: Day 3 - Model Architecture & Training Setup\n",
    "========================================================\n",
    "Goal: Build ResNet50 baseline and train on Fold 1\n",
    "\"\"\"\n",
    "\n",
    "# ============================================================================\n",
    "# PART 1: IMPORTS & SETUP\n",
    "# ============================================================================\n",
    "\n",
    "import torch\n",
    "import torch.nn as nn\n",
    "import torch.optim as optim\n",
    "from torch.utils.data import DataLoader, SubsetRandomSampler\n",
    "from torchvision.datasets import ImageFolder\n",
    "import torchvision.models as models\n",
    "import torchvision.transforms as transforms\n",
    "\n",
    "import numpy as np\n",
    "import pandas as pd\n",
    "import matplotlib.pyplot as plt\n",
    "import seaborn as sns\n",
    "from sklearn.metrics import confusion_matrix, classification_report, accuracy_score\n",
    "from sklearn.metrics import precision_score, recall_score, f1_score\n",
    "from sklearn.model_selection import KFold\n",
    "from tqdm.auto import tqdm\n",
    "import json\n",
    "import os\n",
    "from datetime import datetime\n",
    "\n",
    "# Set random seeds for reproducibility\n",
    "torch.manual_seed(42)\n",
    "np.random.seed(42)\n",
    "\n",
    "#  MODIFIED DEVICE CONFIGURATION FOR M2:\n",
    "if torch.backends.mps.is_available():\n",
    "    device = torch.device(\"mps\")\n",
    "    print(\" Using M2 GPU!\")\n",
    "elif torch.cuda.is_available():\n",
    "    device = torch.device(\"cuda\")\n",
    "    print(f\"Using CUDA: {torch.cuda.get_device_name(0)}\")\n",
    "else:\n",
    "    device = torch.device(\"cpu\")\n",
    "    print(\"Using CPU\")\n",
    "\n",
    "print(f\"Device: {device}\")"
   ]
  },
  {
   "cell_type": "code",
   "execution_count": 53,
   "id": "4216b695-df96-437d-a436-df8afff0c02b",
   "metadata": {},
   "outputs": [
    {
     "name": "stdout",
     "output_type": "stream",
     "text": [
      " Loaded Day 2 Configuration\n",
      "   Training samples: 5216\n",
      "   Test samples: 624\n",
      "   Class weights: Normal=1.9448, Pneumonia=0.6730\n"
     ]
    }
   ],
   "source": [
    "# ============================================================================\n",
    "# PART 2: LOAD PREPROCESSING CONFIG\n",
    "# ============================================================================\n",
    "\n",
    "# Check if config files exist\n",
    "config_path = 'outputs/preprocessing_config.json'\n",
    "weights_path = 'outputs/class_weights.json'\n",
    "\n",
    "if os.path.exists(config_path) and os.path.exists(weights_path):\n",
    "    # Load the preprocessing config from Day 2\n",
    "    with open(config_path, 'r') as f:\n",
    "        config = json.load(f)\n",
    "\n",
    "    with open(weights_path, 'r') as f:\n",
    "        class_weights_data = json.load(f)\n",
    "\n",
    "    print(\" Loaded Day 2 Configuration\")\n",
    "    print(f\"   Training samples: {config['data_info']['train_size']}\")\n",
    "    print(f\"   Test samples: {config['data_info']['test_size']}\")\n",
    "    print(f\"   Class weights: Normal={class_weights_data['normal_weight']:.4f}, \"\n",
    "          f\"Pneumonia={class_weights_data['pneumonia_weight']:.4f}\")\n",
    "else:\n",
    "    print(\"  Day 2 config files not found - using default values\")\n",
    "    # Fallback to default values\n",
    "    config = {\n",
    "        'data_info': {\n",
    "            'train_size': 5216,\n",
    "            'test_size': 624\n",
    "        },\n",
    "        'augmentation': {\n",
    "            'rotation_degrees': 15,\n",
    "            'horizontal_flip_prob': 0.5,\n",
    "            'translate': [0.1, 0.1],\n",
    "            'scale': [0.9, 1.1],\n",
    "            'brightness': 0.2,\n",
    "            'contrast': 0.2\n",
    "        },\n",
    "        'kfold': {\n",
    "            'n_folds': 5,\n",
    "            'shuffle': True,\n",
    "            'random_state': 42\n",
    "        },\n",
    "        'training': {\n",
    "            'batch_size': 32,\n",
    "            'num_workers': 4,\n",
    "            'pin_memory': True\n",
    "        }\n",
    "    }\n",
    "    \n",
    "    class_weights_data = {\n",
    "        'normal_weight': 1.9448,\n",
    "        'pneumonia_weight': 0.6730\n",
    "    }\n",
    "    \n",
    "    print(\" Using default configuration\")"
   ]
  },
  {
   "cell_type": "code",
   "execution_count": 54,
   "id": "458928e4-abb8-41e0-b997-ac5a0d502e11",
   "metadata": {},
   "outputs": [
    {
     "name": "stdout",
     "output_type": "stream",
     "text": [
      " Transforms defined\n"
     ]
    }
   ],
   "source": [
    "# ============================================================================\n",
    "# PART 3: DATA TRANSFORMS\n",
    "# ============================================================================\n",
    "\n",
    "# Training transforms (with augmentation)\n",
    "train_transform = transforms.Compose([\n",
    "    transforms.Resize((224, 224)),\n",
    "    transforms.RandomRotation(config['augmentation']['rotation_degrees']),\n",
    "    transforms.RandomHorizontalFlip(p=config['augmentation']['horizontal_flip_prob']),\n",
    "    transforms.RandomAffine(\n",
    "        degrees=0,\n",
    "        translate=tuple(config['augmentation']['translate']),\n",
    "        scale=tuple(config['augmentation']['scale'])\n",
    "    ),\n",
    "    transforms.ColorJitter(\n",
    "        brightness=config['augmentation']['brightness'],\n",
    "        contrast=config['augmentation']['contrast']\n",
    "    ),\n",
    "    transforms.ToTensor(),\n",
    "    transforms.Normalize(mean=[0.485, 0.456, 0.406], \n",
    "                        std=[0.229, 0.224, 0.225])\n",
    "])\n",
    "\n",
    "# Validation/Test transforms (no augmentation)\n",
    "val_transform = transforms.Compose([\n",
    "    transforms.Resize((224, 224)),\n",
    "    transforms.ToTensor(),\n",
    "    transforms.Normalize(mean=[0.485, 0.456, 0.406], \n",
    "                        std=[0.229, 0.224, 0.225])\n",
    "])\n",
    "\n",
    "print(\" Transforms defined\")\n"
   ]
  },
  {
   "cell_type": "code",
   "execution_count": 55,
   "id": "cf5e6fcd-4b4d-465a-baed-762702954c1c",
   "metadata": {},
   "outputs": [
    {
     "name": "stdout",
     "output_type": "stream",
     "text": [
      " ResNet50 Model Created\n",
      "   Total parameters: 24,558,146\n",
      "   Trainable parameters: 16,014,850\n"
     ]
    }
   ],
   "source": [
    "# ============================================================================\n",
    "# PART 4: RESNET50 MODEL ARCHITECTURE\n",
    "# ============================================================================\n",
    "\n",
    "class PneumoniaResNet(nn.Module):\n",
    "    \"\"\"\n",
    "    ResNet50-based pneumonia classifier\n",
    "    - Uses pre-trained ResNet50 as feature extractor\n",
    "    - Freezes early layers, fine-tunes later layers\n",
    "    - Custom classifier head for binary classification\n",
    "    \"\"\"\n",
    "    \n",
    "    def __init__(self, num_classes=2, freeze_layers=True):\n",
    "        super(PneumoniaResNet, self).__init__()\n",
    "        \n",
    "        # Load pre-trained ResNet50\n",
    "        self.resnet = models.resnet50(pretrained=True)\n",
    "        \n",
    "        # Freeze early layers if specified\n",
    "        if freeze_layers:\n",
    "            # Freeze all layers initially\n",
    "            for param in self.resnet.parameters():\n",
    "                param.requires_grad = False\n",
    "            \n",
    "            # Unfreeze last residual block (layer4) for fine-tuning\n",
    "            for param in self.resnet.layer4.parameters():\n",
    "                param.requires_grad = True\n",
    "        \n",
    "        # Replace the final fully connected layer\n",
    "        num_features = self.resnet.fc.in_features\n",
    "        \n",
    "        # Custom classifier head with dropout for regularization\n",
    "        self.resnet.fc = nn.Sequential(\n",
    "            nn.Dropout(0.5),\n",
    "            nn.Linear(num_features, 512),\n",
    "            nn.ReLU(),\n",
    "            nn.Dropout(0.3),\n",
    "            nn.Linear(512, num_classes)\n",
    "        )\n",
    "    \n",
    "    def forward(self, x):\n",
    "        return self.resnet(x)\n",
    "    \n",
    "    def unfreeze_all(self):\n",
    "        \"\"\"Unfreeze all layers for full fine-tuning\"\"\"\n",
    "        for param in self.resnet.parameters():\n",
    "            param.requires_grad = True\n",
    "\n",
    "# Initialize model\n",
    "model = PneumoniaResNet(num_classes=2, freeze_layers=True)\n",
    "model = model.to(device)\n",
    "\n",
    "print(\" ResNet50 Model Created\")\n",
    "print(f\"   Total parameters: {sum(p.numel() for p in model.parameters()):,}\")\n",
    "print(f\"   Trainable parameters: {sum(p.numel() for p in model.parameters() if p.requires_grad):,}\")\n"
   ]
  },
  {
   "cell_type": "code",
   "execution_count": 56,
   "id": "90584b4b-556c-49fc-8a5c-d7e070f1cf9d",
   "metadata": {},
   "outputs": [
    {
     "name": "stdout",
     "output_type": "stream",
     "text": [
      "  Training Setup Complete\n",
      "   Loss: CrossEntropyLoss with class weights\n",
      "   Optimizer: Adam (lr=0.001, weight_decay=1e-4)\n",
      "   Scheduler: ReduceLROnPlateau\n"
     ]
    }
   ],
   "source": [
    "# ============================================================================\n",
    "# PART 5: LOSS FUNCTION & OPTIMIZER\n",
    "# ============================================================================\n",
    "\n",
    "# Class weights for handling imbalance\n",
    "class_weights = torch.tensor([\n",
    "    class_weights_data['normal_weight'],\n",
    "    class_weights_data['pneumonia_weight']\n",
    "], dtype=torch.float32).to(device)\n",
    "\n",
    "# Loss function with class weights\n",
    "criterion = nn.CrossEntropyLoss(weight=class_weights)\n",
    "\n",
    "# Optimizer - Adam with weight decay for regularization\n",
    "optimizer = optim.Adam(\n",
    "    filter(lambda p: p.requires_grad, model.parameters()),\n",
    "    lr=0.001,\n",
    "    weight_decay=1e-4\n",
    ")\n",
    "\n",
    "# Learning rate scheduler - reduce LR when validation loss plateaus\n",
    "scheduler = optim.lr_scheduler.ReduceLROnPlateau(\n",
    "    optimizer,\n",
    "    mode='min',\n",
    "    factor=0.5,\n",
    "    patience=3,\n",
    "    #verbose=True\n",
    ")\n",
    "\n",
    "print(\"  Training Setup Complete\")\n",
    "print(f\"   Loss: CrossEntropyLoss with class weights\")\n",
    "print(f\"   Optimizer: Adam (lr=0.001, weight_decay=1e-4)\")\n",
    "print(f\"   Scheduler: ReduceLROnPlateau\")\n"
   ]
  },
  {
   "cell_type": "code",
   "execution_count": 57,
   "id": "38568623-a298-414c-9178-2ada75c8119b",
   "metadata": {},
   "outputs": [],
   "source": [
    "# ============================================================================\n",
    "# PART 6: TRAINING & VALIDATION FUNCTIONS\n",
    "# ============================================================================\n",
    "\n",
    "def train_one_epoch(model, dataloader, criterion, optimizer, device):\n",
    "    \"\"\"\n",
    "    Train the model for one epoch\n",
    "    \n",
    "    Returns:\n",
    "        avg_loss: Average training loss\n",
    "        accuracy: Training accuracy\n",
    "    \"\"\"\n",
    "    model.train()\n",
    "    running_loss = 0.0\n",
    "    correct = 0\n",
    "    total = 0\n",
    "    \n",
    "    progress_bar = tqdm(dataloader, desc='Training', leave=False)\n",
    "    \n",
    "    for inputs, labels in progress_bar:\n",
    "        inputs, labels = inputs.to(device), labels.to(device)\n",
    "        \n",
    "        # Zero gradients\n",
    "        optimizer.zero_grad()\n",
    "        \n",
    "        # Forward pass\n",
    "        outputs = model(inputs)\n",
    "        loss = criterion(outputs, labels)\n",
    "        \n",
    "        # Backward pass and optimize\n",
    "        loss.backward()\n",
    "        optimizer.step()\n",
    "        \n",
    "        # Statistics\n",
    "        running_loss += loss.item() * inputs.size(0)\n",
    "        _, predicted = torch.max(outputs, 1)\n",
    "        total += labels.size(0)\n",
    "        correct += (predicted == labels).sum().item()\n",
    "        \n",
    "        # Update progress bar\n",
    "        progress_bar.set_postfix({\n",
    "            'loss': f'{loss.item():.4f}',\n",
    "            'acc': f'{100 * correct / total:.2f}%'\n",
    "        })\n",
    "    \n",
    "    avg_loss = running_loss / total\n",
    "    accuracy = 100 * correct / total\n",
    "    \n",
    "    return avg_loss, accuracy\n",
    "\n",
    "\n",
    "def validate(model, dataloader, criterion, device):\n",
    "    \"\"\"\n",
    "    Validate the model\n",
    "    \n",
    "    Returns:\n",
    "        avg_loss: Average validation loss\n",
    "        accuracy: Validation accuracy\n",
    "        all_labels: True labels\n",
    "        all_predictions: Predicted labels\n",
    "        all_probs: Prediction probabilities\n",
    "    \"\"\"\n",
    "    model.eval()\n",
    "    running_loss = 0.0\n",
    "    all_labels = []\n",
    "    all_predictions = []\n",
    "    all_probs = []\n",
    "    \n",
    "    progress_bar = tqdm(dataloader, desc='Validation', leave=False)\n",
    "    \n",
    "    with torch.no_grad():\n",
    "        for inputs, labels in progress_bar:\n",
    "            inputs, labels = inputs.to(device), labels.to(device)\n",
    "            \n",
    "            # Forward pass\n",
    "            outputs = model(inputs)\n",
    "            loss = criterion(outputs, labels)\n",
    "            \n",
    "            # Get predictions and probabilities\n",
    "            probs = torch.softmax(outputs, dim=1)\n",
    "            _, predicted = torch.max(outputs, 1)\n",
    "            \n",
    "            # Statistics\n",
    "            running_loss += loss.item() * inputs.size(0)\n",
    "            all_labels.extend(labels.cpu().numpy())\n",
    "            all_predictions.extend(predicted.cpu().numpy())\n",
    "            all_probs.extend(probs.cpu().numpy())\n",
    "            \n",
    "            # Update progress bar\n",
    "            progress_bar.set_postfix({'loss': f'{loss.item():.4f}'})\n",
    "    \n",
    "    avg_loss = running_loss / len(all_labels)\n",
    "    accuracy = 100 * accuracy_score(all_labels, all_predictions)\n",
    "    \n",
    "    return avg_loss, accuracy, all_labels, all_predictions, all_probs\n"
   ]
  },
  {
   "cell_type": "code",
   "execution_count": 58,
   "id": "3dfc18e1-4ea1-44cc-8e90-d380da4b18b6",
   "metadata": {},
   "outputs": [
    {
     "name": "stdout",
     "output_type": "stream",
     "text": [
      " Training & Evaluation Functions Ready\n"
     ]
    }
   ],
   "source": [
    "# ============================================================================\n",
    "# PART 7: METRICS CALCULATION\n",
    "# ============================================================================\n",
    "\n",
    "def calculate_metrics(y_true, y_pred, class_names=['NORMAL', 'PNEUMONIA']):\n",
    "    \"\"\"\n",
    "    Calculate comprehensive metrics\n",
    "    \n",
    "    Returns:\n",
    "        metrics_dict: Dictionary containing all metrics\n",
    "    \"\"\"\n",
    "    # Overall metrics\n",
    "    accuracy = accuracy_score(y_true, y_pred)\n",
    "    \n",
    "    # Per-class metrics\n",
    "    precision = precision_score(y_true, y_pred, average=None, zero_division=0)\n",
    "    recall = recall_score(y_true, y_pred, average=None, zero_division=0)\n",
    "    f1 = f1_score(y_true, y_pred, average=None, zero_division=0)\n",
    "    \n",
    "    # Macro averages\n",
    "    precision_macro = precision_score(y_true, y_pred, average='macro', zero_division=0)\n",
    "    recall_macro = recall_score(y_true, y_pred, average='macro', zero_division=0)\n",
    "    f1_macro = f1_score(y_true, y_pred, average='macro', zero_division=0)\n",
    "    \n",
    "    metrics_dict = {\n",
    "        'accuracy': accuracy,\n",
    "        'precision_macro': precision_macro,\n",
    "        'recall_macro': recall_macro,\n",
    "        'f1_macro': f1_macro,\n",
    "        'per_class': {\n",
    "            class_names[i]: {\n",
    "                'precision': precision[i],\n",
    "                'recall': recall[i],\n",
    "                'f1': f1[i]\n",
    "            }\n",
    "            for i in range(len(class_names))\n",
    "        }\n",
    "    }\n",
    "    \n",
    "    return metrics_dict\n",
    "\n",
    "\n",
    "def plot_confusion_matrix(y_true, y_pred, class_names=['NORMAL', 'PNEUMONIA'], \n",
    "                         title='Confusion Matrix', save_path=None):\n",
    "    \"\"\"Plot confusion matrix\"\"\"\n",
    "    cm = confusion_matrix(y_true, y_pred)\n",
    "    \n",
    "    plt.figure(figsize=(8, 6))\n",
    "    sns.heatmap(cm, annot=True, fmt='d', cmap='Blues', \n",
    "                xticklabels=class_names, yticklabels=class_names)\n",
    "    plt.title(title)\n",
    "    plt.ylabel('True Label')\n",
    "    plt.xlabel('Predicted Label')\n",
    "    \n",
    "    # Add percentages\n",
    "    cm_norm = cm.astype('float') / cm.sum(axis=1)[:, np.newaxis]\n",
    "    for i in range(cm.shape[0]):\n",
    "        for j in range(cm.shape[1]):\n",
    "            plt.text(j + 0.5, i + 0.7, f'({cm_norm[i, j]*100:.1f}%)', \n",
    "                    ha='center', va='center', fontsize=10, color='gray')\n",
    "    \n",
    "    if save_path:\n",
    "        plt.savefig(save_path, dpi=300, bbox_inches='tight')\n",
    "    plt.show()\n",
    "\n",
    "\n",
    "def plot_learning_curves(history, save_path=None):\n",
    "    \"\"\"Plot training and validation learning curves\"\"\"\n",
    "    fig, axes = plt.subplots(1, 2, figsize=(15, 5))\n",
    "    \n",
    "    # Loss curves\n",
    "    axes[0].plot(history['train_loss'], label='Train Loss', marker='o')\n",
    "    axes[0].plot(history['val_loss'], label='Val Loss', marker='s')\n",
    "    axes[0].set_xlabel('Epoch')\n",
    "    axes[0].set_ylabel('Loss')\n",
    "    axes[0].set_title('Training and Validation Loss')\n",
    "    axes[0].legend()\n",
    "    axes[0].grid(True, alpha=0.3)\n",
    "    \n",
    "    # Accuracy curves\n",
    "    axes[1].plot(history['train_acc'], label='Train Accuracy', marker='o')\n",
    "    axes[1].plot(history['val_acc'], label='Val Accuracy', marker='s')\n",
    "    axes[1].set_xlabel('Epoch')\n",
    "    axes[1].set_ylabel('Accuracy (%)')\n",
    "    axes[1].set_title('Training and Validation Accuracy')\n",
    "    axes[1].legend()\n",
    "    axes[1].grid(True, alpha=0.3)\n",
    "    \n",
    "    plt.tight_layout()\n",
    "    if save_path:\n",
    "        plt.savefig(save_path, dpi=300, bbox_inches='tight')\n",
    "    plt.show()\n",
    "\n",
    "print(\" Training & Evaluation Functions Ready\")\n"
   ]
  },
  {
   "cell_type": "code",
   "execution_count": 61,
   "id": "d0567f5f-7d67-46a6-951a-4ad5a19b43db",
   "metadata": {},
   "outputs": [
    {
     "name": "stdout",
     "output_type": "stream",
     "text": [
      " Dataset loaded: 5216 samples\n",
      "   Fold 1 Setup:\n",
      "   Training samples: 4172\n",
      "   Validation samples: 1044\n",
      "   DataLoaders Created\n",
      "   Train batches: 131\n",
      "   Val batches: 33\n"
     ]
    }
   ],
   "source": [
    "# ============================================================================\n",
    "# PART 8: LOAD DATASET & SETUP FOLD 1\n",
    "# ============================================================================\n",
    "\n",
    "# Load full training dataset\n",
    "train_dataset = ImageFolder('data/chest_xray/train', transform=train_transform)\n",
    "val_dataset = ImageFolder('data/chest_xray/train', transform=val_transform)\n",
    "\n",
    "print(f\" Dataset loaded: {len(train_dataset)} samples\")\n",
    "\n",
    "# Setup K-Fold Cross Validation (use Fold 1 on Day 3)\n",
    "kfold = KFold(n_splits=config['kfold']['n_folds'], \n",
    "              shuffle=config['kfold']['shuffle'], \n",
    "              random_state=config['kfold']['random_state'])\n",
    "\n",
    "# Get Fold 1 indices\n",
    "fold_idx = 0\n",
    "all_indices = list(range(len(train_dataset)))\n",
    "train_indices, val_indices = list(kfold.split(all_indices))[fold_idx]\n",
    "\n",
    "print(f\"   Fold 1 Setup:\")\n",
    "print(f\"   Training samples: {len(train_indices)}\")\n",
    "print(f\"   Validation samples: {len(val_indices)}\")\n",
    "\n",
    "# Create data loaders for Fold 1\n",
    "train_sampler = SubsetRandomSampler(train_indices)\n",
    "val_sampler = SubsetRandomSampler(val_indices)\n",
    "\n",
    "train_loader = DataLoader(\n",
    "    train_dataset,\n",
    "    batch_size=config['training']['batch_size'],\n",
    "    sampler=train_sampler,\n",
    "    num_workers=config['training']['num_workers'],\n",
    "    pin_memory=config['training']['pin_memory']\n",
    ")\n",
    "\n",
    "val_loader = DataLoader(\n",
    "    val_dataset,\n",
    "    batch_size=config['training']['batch_size'],\n",
    "    sampler=val_sampler,\n",
    "    num_workers=config['training']['num_workers'],\n",
    "    pin_memory=config['training']['pin_memory']\n",
    ")\n",
    "\n",
    "print(f\"   DataLoaders Created\")\n",
    "print(f\"   Train batches: {len(train_loader)}\")\n",
    "print(f\"   Val batches: {len(val_loader)}\")"
   ]
  },
  {
   "cell_type": "code",
   "execution_count": 62,
   "id": "7c4dc667-0cf3-4692-ad90-277f961d092e",
   "metadata": {},
   "outputs": [
    {
     "name": "stdout",
     "output_type": "stream",
     "text": [
      "======================================================================\n",
      " STARTING TRAINING - FOLD 1 (Baseline Model)\n",
      "   Epochs: 15\n",
      "   Device: mps\n",
      "======================================================================\n",
      "\n",
      "Epoch 1/15\n",
      "--------------------------------------------------\n"
     ]
    },
    {
     "name": "stderr",
     "output_type": "stream",
     "text": [
      "/Users/neerajkumar/Downloads/MediScan-AI/mediscan_env/lib/python3.9/site-packages/torch/utils/data/dataloader.py:684: UserWarning: 'pin_memory' argument is set as true but not supported on MPS now, then device pinned memory won't be used.\n",
      "  warnings.warn(warn_msg)\n"
     ]
    },
    {
     "data": {
      "application/vnd.jupyter.widget-view+json": {
       "model_id": "fe889d5041764e27b21772df6467285b",
       "version_major": 2,
       "version_minor": 0
      },
      "text/plain": [
       "Training:   0%|          | 0/131 [00:02<?, ?it/s]"
      ]
     },
     "metadata": {},
     "output_type": "display_data"
    },
    {
     "data": {
      "application/vnd.jupyter.widget-view+json": {
       "model_id": "03e5b8d6d50d4dda8ffdc397bf733141",
       "version_major": 2,
       "version_minor": 0
      },
      "text/plain": [
       "Validation:   0%|          | 0/33 [00:02<?, ?it/s]"
      ]
     },
     "metadata": {},
     "output_type": "display_data"
    },
    {
     "name": "stdout",
     "output_type": "stream",
     "text": [
      "Train Loss: 0.1874 | Train Acc: 93.29%\n",
      "Val Loss:   0.0901 | Val Acc:   96.55%\n",
      " Best model saved! (Val Loss: 0.0901)\n",
      "\n",
      "Epoch 2/15\n",
      "--------------------------------------------------\n"
     ]
    },
    {
     "name": "stderr",
     "output_type": "stream",
     "text": [
      "/Users/neerajkumar/Downloads/MediScan-AI/mediscan_env/lib/python3.9/site-packages/torch/utils/data/dataloader.py:684: UserWarning: 'pin_memory' argument is set as true but not supported on MPS now, then device pinned memory won't be used.\n",
      "  warnings.warn(warn_msg)\n"
     ]
    },
    {
     "data": {
      "application/vnd.jupyter.widget-view+json": {
       "model_id": "721fe719dc0844e2b96414704ee85e6b",
       "version_major": 2,
       "version_minor": 0
      },
      "text/plain": [
       "Training:   0%|          | 0/131 [00:02<?, ?it/s]"
      ]
     },
     "metadata": {},
     "output_type": "display_data"
    },
    {
     "data": {
      "application/vnd.jupyter.widget-view+json": {
       "model_id": "62bb092c377143ca8d264e21a80adb48",
       "version_major": 2,
       "version_minor": 0
      },
      "text/plain": [
       "Validation:   0%|          | 0/33 [00:02<?, ?it/s]"
      ]
     },
     "metadata": {},
     "output_type": "display_data"
    },
    {
     "name": "stdout",
     "output_type": "stream",
     "text": [
      "Train Loss: 0.1226 | Train Acc: 95.06%\n",
      "Val Loss:   0.0774 | Val Acc:   96.84%\n",
      " Best model saved! (Val Loss: 0.0774)\n",
      "\n",
      "Epoch 3/15\n",
      "--------------------------------------------------\n"
     ]
    },
    {
     "name": "stderr",
     "output_type": "stream",
     "text": [
      "/Users/neerajkumar/Downloads/MediScan-AI/mediscan_env/lib/python3.9/site-packages/torch/utils/data/dataloader.py:684: UserWarning: 'pin_memory' argument is set as true but not supported on MPS now, then device pinned memory won't be used.\n",
      "  warnings.warn(warn_msg)\n"
     ]
    },
    {
     "data": {
      "application/vnd.jupyter.widget-view+json": {
       "model_id": "dfafd0dc4abe49f2a48110a06c32d12d",
       "version_major": 2,
       "version_minor": 0
      },
      "text/plain": [
       "Training:   0%|          | 0/131 [00:02<?, ?it/s]"
      ]
     },
     "metadata": {},
     "output_type": "display_data"
    },
    {
     "data": {
      "application/vnd.jupyter.widget-view+json": {
       "model_id": "633db17110bf440a87c0fba7ddea4911",
       "version_major": 2,
       "version_minor": 0
      },
      "text/plain": [
       "Validation:   0%|          | 0/33 [00:02<?, ?it/s]"
      ]
     },
     "metadata": {},
     "output_type": "display_data"
    },
    {
     "name": "stdout",
     "output_type": "stream",
     "text": [
      "Train Loss: 0.0887 | Train Acc: 96.98%\n",
      "Val Loss:   0.1221 | Val Acc:   93.20%\n",
      "\n",
      "Epoch 4/15\n",
      "--------------------------------------------------\n"
     ]
    },
    {
     "name": "stderr",
     "output_type": "stream",
     "text": [
      "/Users/neerajkumar/Downloads/MediScan-AI/mediscan_env/lib/python3.9/site-packages/torch/utils/data/dataloader.py:684: UserWarning: 'pin_memory' argument is set as true but not supported on MPS now, then device pinned memory won't be used.\n",
      "  warnings.warn(warn_msg)\n"
     ]
    },
    {
     "data": {
      "application/vnd.jupyter.widget-view+json": {
       "model_id": "2306fbfa4419481fbd035f80b2bcbd34",
       "version_major": 2,
       "version_minor": 0
      },
      "text/plain": [
       "Training:   0%|          | 0/131 [00:02<?, ?it/s]"
      ]
     },
     "metadata": {},
     "output_type": "display_data"
    },
    {
     "data": {
      "application/vnd.jupyter.widget-view+json": {
       "model_id": "702bf8201bf0497cb451b9e820fd7319",
       "version_major": 2,
       "version_minor": 0
      },
      "text/plain": [
       "Validation:   0%|          | 0/33 [00:02<?, ?it/s]"
      ]
     },
     "metadata": {},
     "output_type": "display_data"
    },
    {
     "name": "stdout",
     "output_type": "stream",
     "text": [
      "Train Loss: 0.0991 | Train Acc: 96.57%\n",
      "Val Loss:   0.0807 | Val Acc:   96.65%\n",
      "\n",
      "Epoch 5/15\n",
      "--------------------------------------------------\n"
     ]
    },
    {
     "name": "stderr",
     "output_type": "stream",
     "text": [
      "/Users/neerajkumar/Downloads/MediScan-AI/mediscan_env/lib/python3.9/site-packages/torch/utils/data/dataloader.py:684: UserWarning: 'pin_memory' argument is set as true but not supported on MPS now, then device pinned memory won't be used.\n",
      "  warnings.warn(warn_msg)\n"
     ]
    },
    {
     "data": {
      "application/vnd.jupyter.widget-view+json": {
       "model_id": "2c40b641f88a4f3f98a93c78fe413261",
       "version_major": 2,
       "version_minor": 0
      },
      "text/plain": [
       "Training:   0%|          | 0/131 [00:02<?, ?it/s]"
      ]
     },
     "metadata": {},
     "output_type": "display_data"
    },
    {
     "data": {
      "application/vnd.jupyter.widget-view+json": {
       "model_id": "7f0f9581d3b8454a80115e35f74c957f",
       "version_major": 2,
       "version_minor": 0
      },
      "text/plain": [
       "Validation:   0%|          | 0/33 [00:02<?, ?it/s]"
      ]
     },
     "metadata": {},
     "output_type": "display_data"
    },
    {
     "name": "stdout",
     "output_type": "stream",
     "text": [
      "Train Loss: 0.1025 | Train Acc: 96.02%\n",
      "Val Loss:   0.0703 | Val Acc:   96.65%\n",
      " Best model saved! (Val Loss: 0.0703)\n",
      "\n",
      "Epoch 6/15\n",
      "--------------------------------------------------\n"
     ]
    },
    {
     "name": "stderr",
     "output_type": "stream",
     "text": [
      "/Users/neerajkumar/Downloads/MediScan-AI/mediscan_env/lib/python3.9/site-packages/torch/utils/data/dataloader.py:684: UserWarning: 'pin_memory' argument is set as true but not supported on MPS now, then device pinned memory won't be used.\n",
      "  warnings.warn(warn_msg)\n"
     ]
    },
    {
     "data": {
      "application/vnd.jupyter.widget-view+json": {
       "model_id": "bfddaeaafbe548e2a387316839ecb2a9",
       "version_major": 2,
       "version_minor": 0
      },
      "text/plain": [
       "Training:   0%|          | 0/131 [00:03<?, ?it/s]"
      ]
     },
     "metadata": {},
     "output_type": "display_data"
    },
    {
     "data": {
      "application/vnd.jupyter.widget-view+json": {
       "model_id": "b2906d8d1418408ea259c7a668f9619d",
       "version_major": 2,
       "version_minor": 0
      },
      "text/plain": [
       "Validation:   0%|          | 0/33 [00:02<?, ?it/s]"
      ]
     },
     "metadata": {},
     "output_type": "display_data"
    },
    {
     "name": "stdout",
     "output_type": "stream",
     "text": [
      "Train Loss: 0.0860 | Train Acc: 97.08%\n",
      "Val Loss:   0.0937 | Val Acc:   95.69%\n",
      "\n",
      "Epoch 7/15\n",
      "--------------------------------------------------\n"
     ]
    },
    {
     "name": "stderr",
     "output_type": "stream",
     "text": [
      "/Users/neerajkumar/Downloads/MediScan-AI/mediscan_env/lib/python3.9/site-packages/torch/utils/data/dataloader.py:684: UserWarning: 'pin_memory' argument is set as true but not supported on MPS now, then device pinned memory won't be used.\n",
      "  warnings.warn(warn_msg)\n"
     ]
    },
    {
     "data": {
      "application/vnd.jupyter.widget-view+json": {
       "model_id": "4756faec639e45f888710461870f4e50",
       "version_major": 2,
       "version_minor": 0
      },
      "text/plain": [
       "Training:   0%|          | 0/131 [00:02<?, ?it/s]"
      ]
     },
     "metadata": {},
     "output_type": "display_data"
    },
    {
     "data": {
      "application/vnd.jupyter.widget-view+json": {
       "model_id": "2920f12f10824027bc3661542d63ab88",
       "version_major": 2,
       "version_minor": 0
      },
      "text/plain": [
       "Validation:   0%|          | 0/33 [00:02<?, ?it/s]"
      ]
     },
     "metadata": {},
     "output_type": "display_data"
    },
    {
     "name": "stdout",
     "output_type": "stream",
     "text": [
      "Train Loss: 0.0790 | Train Acc: 96.91%\n",
      "Val Loss:   0.0784 | Val Acc:   96.46%\n",
      "\n",
      "Epoch 8/15\n",
      "--------------------------------------------------\n"
     ]
    },
    {
     "name": "stderr",
     "output_type": "stream",
     "text": [
      "/Users/neerajkumar/Downloads/MediScan-AI/mediscan_env/lib/python3.9/site-packages/torch/utils/data/dataloader.py:684: UserWarning: 'pin_memory' argument is set as true but not supported on MPS now, then device pinned memory won't be used.\n",
      "  warnings.warn(warn_msg)\n"
     ]
    },
    {
     "data": {
      "application/vnd.jupyter.widget-view+json": {
       "model_id": "70df5b835f5d45e586e4e63b6291f49c",
       "version_major": 2,
       "version_minor": 0
      },
      "text/plain": [
       "Training:   0%|          | 0/131 [00:02<?, ?it/s]"
      ]
     },
     "metadata": {},
     "output_type": "display_data"
    },
    {
     "data": {
      "application/vnd.jupyter.widget-view+json": {
       "model_id": "cbffa37587cd4c98804071b6aad2ac41",
       "version_major": 2,
       "version_minor": 0
      },
      "text/plain": [
       "Validation:   0%|          | 0/33 [00:02<?, ?it/s]"
      ]
     },
     "metadata": {},
     "output_type": "display_data"
    },
    {
     "name": "stdout",
     "output_type": "stream",
     "text": [
      "Train Loss: 0.0789 | Train Acc: 97.36%\n",
      "Val Loss:   0.0642 | Val Acc:   97.70%\n",
      " Best model saved! (Val Loss: 0.0642)\n",
      "\n",
      "Epoch 9/15\n",
      "--------------------------------------------------\n"
     ]
    },
    {
     "name": "stderr",
     "output_type": "stream",
     "text": [
      "/Users/neerajkumar/Downloads/MediScan-AI/mediscan_env/lib/python3.9/site-packages/torch/utils/data/dataloader.py:684: UserWarning: 'pin_memory' argument is set as true but not supported on MPS now, then device pinned memory won't be used.\n",
      "  warnings.warn(warn_msg)\n"
     ]
    },
    {
     "data": {
      "application/vnd.jupyter.widget-view+json": {
       "model_id": "42edefc092734eaba388564892f8b337",
       "version_major": 2,
       "version_minor": 0
      },
      "text/plain": [
       "Training:   0%|          | 0/131 [00:02<?, ?it/s]"
      ]
     },
     "metadata": {},
     "output_type": "display_data"
    },
    {
     "data": {
      "application/vnd.jupyter.widget-view+json": {
       "model_id": "ab70ffce4cbc4de3bc45a1fb46fab46a",
       "version_major": 2,
       "version_minor": 0
      },
      "text/plain": [
       "Validation:   0%|          | 0/33 [00:02<?, ?it/s]"
      ]
     },
     "metadata": {},
     "output_type": "display_data"
    },
    {
     "name": "stdout",
     "output_type": "stream",
     "text": [
      "Train Loss: 0.0762 | Train Acc: 97.20%\n",
      "Val Loss:   0.0622 | Val Acc:   97.13%\n",
      " Best model saved! (Val Loss: 0.0622)\n",
      "\n",
      "Epoch 10/15\n",
      "--------------------------------------------------\n"
     ]
    },
    {
     "name": "stderr",
     "output_type": "stream",
     "text": [
      "/Users/neerajkumar/Downloads/MediScan-AI/mediscan_env/lib/python3.9/site-packages/torch/utils/data/dataloader.py:684: UserWarning: 'pin_memory' argument is set as true but not supported on MPS now, then device pinned memory won't be used.\n",
      "  warnings.warn(warn_msg)\n"
     ]
    },
    {
     "data": {
      "application/vnd.jupyter.widget-view+json": {
       "model_id": "8c583c4a76564faab9c0445772224228",
       "version_major": 2,
       "version_minor": 0
      },
      "text/plain": [
       "Training:   0%|          | 0/131 [00:02<?, ?it/s]"
      ]
     },
     "metadata": {},
     "output_type": "display_data"
    },
    {
     "data": {
      "application/vnd.jupyter.widget-view+json": {
       "model_id": "b7ccd36e2aee4ace8b1db47609ca329f",
       "version_major": 2,
       "version_minor": 0
      },
      "text/plain": [
       "Validation:   0%|          | 0/33 [00:02<?, ?it/s]"
      ]
     },
     "metadata": {},
     "output_type": "display_data"
    },
    {
     "name": "stdout",
     "output_type": "stream",
     "text": [
      "Train Loss: 0.0670 | Train Acc: 97.56%\n",
      "Val Loss:   0.1078 | Val Acc:   95.11%\n",
      "\n",
      "Epoch 11/15\n",
      "--------------------------------------------------\n"
     ]
    },
    {
     "name": "stderr",
     "output_type": "stream",
     "text": [
      "/Users/neerajkumar/Downloads/MediScan-AI/mediscan_env/lib/python3.9/site-packages/torch/utils/data/dataloader.py:684: UserWarning: 'pin_memory' argument is set as true but not supported on MPS now, then device pinned memory won't be used.\n",
      "  warnings.warn(warn_msg)\n"
     ]
    },
    {
     "data": {
      "application/vnd.jupyter.widget-view+json": {
       "model_id": "dbac0e94b25d4be483306a34cc7cc6f1",
       "version_major": 2,
       "version_minor": 0
      },
      "text/plain": [
       "Training:   0%|          | 0/131 [00:02<?, ?it/s]"
      ]
     },
     "metadata": {},
     "output_type": "display_data"
    },
    {
     "data": {
      "application/vnd.jupyter.widget-view+json": {
       "model_id": "61efce21ffb34651adac734578b86e25",
       "version_major": 2,
       "version_minor": 0
      },
      "text/plain": [
       "Validation:   0%|          | 0/33 [00:02<?, ?it/s]"
      ]
     },
     "metadata": {},
     "output_type": "display_data"
    },
    {
     "name": "stdout",
     "output_type": "stream",
     "text": [
      "Train Loss: 0.0668 | Train Acc: 97.34%\n",
      "Val Loss:   0.0643 | Val Acc:   97.13%\n",
      "\n",
      "Epoch 12/15\n",
      "--------------------------------------------------\n"
     ]
    },
    {
     "name": "stderr",
     "output_type": "stream",
     "text": [
      "/Users/neerajkumar/Downloads/MediScan-AI/mediscan_env/lib/python3.9/site-packages/torch/utils/data/dataloader.py:684: UserWarning: 'pin_memory' argument is set as true but not supported on MPS now, then device pinned memory won't be used.\n",
      "  warnings.warn(warn_msg)\n"
     ]
    },
    {
     "data": {
      "application/vnd.jupyter.widget-view+json": {
       "model_id": "6e18e1e834004e6aa3dd04d6f7b2ae22",
       "version_major": 2,
       "version_minor": 0
      },
      "text/plain": [
       "Training:   0%|          | 0/131 [00:02<?, ?it/s]"
      ]
     },
     "metadata": {},
     "output_type": "display_data"
    },
    {
     "data": {
      "application/vnd.jupyter.widget-view+json": {
       "model_id": "c7bdd4c598e24445a7f3f4c006aff3f4",
       "version_major": 2,
       "version_minor": 0
      },
      "text/plain": [
       "Validation:   0%|          | 0/33 [00:02<?, ?it/s]"
      ]
     },
     "metadata": {},
     "output_type": "display_data"
    },
    {
     "name": "stdout",
     "output_type": "stream",
     "text": [
      "Train Loss: 0.0688 | Train Acc: 97.65%\n",
      "Val Loss:   0.1080 | Val Acc:   94.25%\n",
      "\n",
      "Epoch 13/15\n",
      "--------------------------------------------------\n"
     ]
    },
    {
     "name": "stderr",
     "output_type": "stream",
     "text": [
      "/Users/neerajkumar/Downloads/MediScan-AI/mediscan_env/lib/python3.9/site-packages/torch/utils/data/dataloader.py:684: UserWarning: 'pin_memory' argument is set as true but not supported on MPS now, then device pinned memory won't be used.\n",
      "  warnings.warn(warn_msg)\n"
     ]
    },
    {
     "data": {
      "application/vnd.jupyter.widget-view+json": {
       "model_id": "e7f6db0300554d18bdb11e133fca5e17",
       "version_major": 2,
       "version_minor": 0
      },
      "text/plain": [
       "Training:   0%|          | 0/131 [00:02<?, ?it/s]"
      ]
     },
     "metadata": {},
     "output_type": "display_data"
    },
    {
     "data": {
      "application/vnd.jupyter.widget-view+json": {
       "model_id": "92e6e5a833874800bbd00f7dc1c6bb3f",
       "version_major": 2,
       "version_minor": 0
      },
      "text/plain": [
       "Validation:   0%|          | 0/33 [00:02<?, ?it/s]"
      ]
     },
     "metadata": {},
     "output_type": "display_data"
    },
    {
     "name": "stdout",
     "output_type": "stream",
     "text": [
      "Train Loss: 0.0700 | Train Acc: 97.63%\n",
      "Val Loss:   0.0562 | Val Acc:   97.22%\n",
      " Best model saved! (Val Loss: 0.0562)\n",
      "\n",
      "Epoch 14/15\n",
      "--------------------------------------------------\n"
     ]
    },
    {
     "name": "stderr",
     "output_type": "stream",
     "text": [
      "/Users/neerajkumar/Downloads/MediScan-AI/mediscan_env/lib/python3.9/site-packages/torch/utils/data/dataloader.py:684: UserWarning: 'pin_memory' argument is set as true but not supported on MPS now, then device pinned memory won't be used.\n",
      "  warnings.warn(warn_msg)\n"
     ]
    },
    {
     "data": {
      "application/vnd.jupyter.widget-view+json": {
       "model_id": "31ab7c552a1d4feb9293a5a3409f52af",
       "version_major": 2,
       "version_minor": 0
      },
      "text/plain": [
       "Training:   0%|          | 0/131 [00:02<?, ?it/s]"
      ]
     },
     "metadata": {},
     "output_type": "display_data"
    },
    {
     "data": {
      "application/vnd.jupyter.widget-view+json": {
       "model_id": "ce22ce2d31144f6698fe7a0a14b65ec6",
       "version_major": 2,
       "version_minor": 0
      },
      "text/plain": [
       "Validation:   0%|          | 0/33 [00:02<?, ?it/s]"
      ]
     },
     "metadata": {},
     "output_type": "display_data"
    },
    {
     "name": "stdout",
     "output_type": "stream",
     "text": [
      "Train Loss: 0.0601 | Train Acc: 97.75%\n",
      "Val Loss:   0.1415 | Val Acc:   92.82%\n",
      "\n",
      "Epoch 15/15\n",
      "--------------------------------------------------\n"
     ]
    },
    {
     "name": "stderr",
     "output_type": "stream",
     "text": [
      "/Users/neerajkumar/Downloads/MediScan-AI/mediscan_env/lib/python3.9/site-packages/torch/utils/data/dataloader.py:684: UserWarning: 'pin_memory' argument is set as true but not supported on MPS now, then device pinned memory won't be used.\n",
      "  warnings.warn(warn_msg)\n"
     ]
    },
    {
     "data": {
      "application/vnd.jupyter.widget-view+json": {
       "model_id": "dac126304d8b439991ee3ed6d62a3a8c",
       "version_major": 2,
       "version_minor": 0
      },
      "text/plain": [
       "Training:   0%|          | 0/131 [00:02<?, ?it/s]"
      ]
     },
     "metadata": {},
     "output_type": "display_data"
    },
    {
     "data": {
      "application/vnd.jupyter.widget-view+json": {
       "model_id": "1f5d2a4b533642f2a96f934abdfff0bf",
       "version_major": 2,
       "version_minor": 0
      },
      "text/plain": [
       "Validation:   0%|          | 0/33 [00:02<?, ?it/s]"
      ]
     },
     "metadata": {},
     "output_type": "display_data"
    },
    {
     "name": "stdout",
     "output_type": "stream",
     "text": [
      "Train Loss: 0.0719 | Train Acc: 97.51%\n",
      "Val Loss:   0.0632 | Val Acc:   97.41%\n",
      "\n",
      "======================================================================\n",
      " TRAINING COMPLETE!\n",
      "   Best Epoch: 13\n",
      "   Best Val Loss: 0.0562\n",
      "   Best Val Acc: 97.22%\n",
      "======================================================================\n"
     ]
    }
   ],
   "source": [
    "# ============================================================================\n",
    "# PART 9: TRAINING LOOP - FOLD 1\n",
    "# ============================================================================\n",
    "\n",
    "# Training configuration\n",
    "NUM_EPOCHS = 15\n",
    "FOLD_NAME = \"fold_1\"\n",
    "\n",
    "# History tracking\n",
    "history = {\n",
    "    'train_loss': [],\n",
    "    'train_acc': [],\n",
    "    'val_loss': [],\n",
    "    'val_acc': []\n",
    "}\n",
    "\n",
    "# Best model tracking\n",
    "best_val_loss = float('inf')\n",
    "best_val_acc = 0.0\n",
    "best_epoch = 0\n",
    "\n",
    "print(\"=\" * 70)\n",
    "print(f\" STARTING TRAINING - FOLD 1 (Baseline Model)\")\n",
    "print(f\"   Epochs: {NUM_EPOCHS}\")\n",
    "print(f\"   Device: {device}\")\n",
    "print(\"=\" * 70)\n",
    "\n",
    "for epoch in range(NUM_EPOCHS):\n",
    "    print(f\"\\nEpoch {epoch+1}/{NUM_EPOCHS}\")\n",
    "    print(\"-\" * 50)\n",
    "    \n",
    "    # Training phase\n",
    "    train_loss, train_acc = train_one_epoch(model, train_loader, criterion, optimizer, device)\n",
    "    \n",
    "    # Validation phase\n",
    "    val_loss, val_acc, val_labels, val_preds, val_probs = validate(\n",
    "        model, val_loader, criterion, device\n",
    "    )\n",
    "    \n",
    "    # Update learning rate\n",
    "    scheduler.step(val_loss)\n",
    "    \n",
    "    # Save history\n",
    "    history['train_loss'].append(train_loss)\n",
    "    history['train_acc'].append(train_acc)\n",
    "    history['val_loss'].append(val_loss)\n",
    "    history['val_acc'].append(val_acc)\n",
    "    \n",
    "    # Print epoch summary\n",
    "    print(f\"Train Loss: {train_loss:.4f} | Train Acc: {train_acc:.2f}%\")\n",
    "    print(f\"Val Loss:   {val_loss:.4f} | Val Acc:   {val_acc:.2f}%\")\n",
    "    \n",
    "    # Save best model\n",
    "    if val_loss < best_val_loss:\n",
    "        best_val_loss = val_loss\n",
    "        best_val_acc = val_acc\n",
    "        best_epoch = epoch + 1\n",
    "        \n",
    "        # Save model checkpoint\n",
    "        os.makedirs('models', exist_ok=True)\n",
    "        torch.save({\n",
    "            'epoch': epoch + 1,\n",
    "            'model_state_dict': model.state_dict(),\n",
    "            'optimizer_state_dict': optimizer.state_dict(),\n",
    "            'train_loss': train_loss,\n",
    "            'val_loss': val_loss,\n",
    "            'val_acc': val_acc,\n",
    "        }, f'models/resnet50_{FOLD_NAME}_best.pth')\n",
    "        \n",
    "        print(f\" Best model saved! (Val Loss: {val_loss:.4f})\")\n",
    "\n",
    "print(\"\\n\" + \"=\" * 70)\n",
    "print(\" TRAINING COMPLETE!\")\n",
    "print(f\"   Best Epoch: {best_epoch}\")\n",
    "print(f\"   Best Val Loss: {best_val_loss:.4f}\")\n",
    "print(f\"   Best Val Acc: {best_val_acc:.2f}%\")\n",
    "print(\"=\" * 70)\n"
   ]
  },
  {
   "cell_type": "code",
   "execution_count": 63,
   "id": "5cfe6baf-78f9-4e77-a021-25df16b2c58d",
   "metadata": {},
   "outputs": [
    {
     "name": "stdout",
     "output_type": "stream",
     "text": [
      "\n",
      " Generating Evaluation Metrics...\n"
     ]
    },
    {
     "name": "stderr",
     "output_type": "stream",
     "text": [
      "/Users/neerajkumar/Downloads/MediScan-AI/mediscan_env/lib/python3.9/site-packages/torch/utils/data/dataloader.py:684: UserWarning: 'pin_memory' argument is set as true but not supported on MPS now, then device pinned memory won't be used.\n",
      "  warnings.warn(warn_msg)\n"
     ]
    },
    {
     "data": {
      "application/vnd.jupyter.widget-view+json": {
       "model_id": "779422e290204950a6f4a6a826b936cb",
       "version_major": 2,
       "version_minor": 0
      },
      "text/plain": [
       "Validation:   0%|          | 0/33 [00:02<?, ?it/s]"
      ]
     },
     "metadata": {},
     "output_type": "display_data"
    },
    {
     "name": "stdout",
     "output_type": "stream",
     "text": [
      "\n",
      " FOLD 1 BASELINE RESULTS:\n",
      "--------------------------------------------------\n",
      "Accuracy:  97.22%\n",
      "Precision: 95.74%\n",
      "Recall:    97.54%\n",
      "F1-Score:  96.58%\n",
      "\n",
      "Per-Class Metrics:\n",
      "  NORMAL:\n",
      "    Precision: 92.16%\n",
      "    Recall:    98.26%\n",
      "    F1-Score:  95.11%\n",
      "  PNEUMONIA:\n",
      "    Precision: 99.32%\n",
      "    Recall:    96.83%\n",
      "    F1-Score:  98.06%\n",
      "\n",
      " Plotting Learning Curves...\n"
     ]
    },
    {
     "data": {
      "image/png": "[encoded data removed]",
      "text/plain": [
       "<Figure size 1500x500 with 2 Axes>"
      ]
     },
     "metadata": {},
     "output_type": "display_data"
    },
    {
     "name": "stdout",
     "output_type": "stream",
     "text": [
      "\n",
      " Plotting Confusion Matrix...\n"
     ]
    },
    {
     "data": {
      "image/png": "[encoded data removed]",
      "text/plain": [
       "<Figure size 800x600 with 2 Axes>"
      ]
     },
     "metadata": {},
     "output_type": "display_data"
    },
    {
     "name": "stdout",
     "output_type": "stream",
     "text": [
      "\n",
      " Evaluation complete! Results saved to outputs/\n"
     ]
    }
   ],
   "source": [
    "# ============================================================================\n",
    "# PART 10: EVALUATION & VISUALIZATION\n",
    "# ============================================================================\n",
    "\n",
    "print(\"\\n Generating Evaluation Metrics...\")\n",
    "\n",
    "# Load best model\n",
    "checkpoint = torch.load(f'models/resnet50_{FOLD_NAME}_best.pth')\n",
    "model.load_state_dict(checkpoint['model_state_dict'])\n",
    "\n",
    "# Final validation\n",
    "val_loss, val_acc, val_labels, val_preds, val_probs = validate(\n",
    "    model, val_loader, criterion, device\n",
    ")\n",
    "\n",
    "# Calculate comprehensive metrics\n",
    "metrics = calculate_metrics(val_labels, val_preds)\n",
    "\n",
    "print(\"\\n FOLD 1 BASELINE RESULTS:\")\n",
    "print(\"-\" * 50)\n",
    "print(f\"Accuracy:  {metrics['accuracy']*100:.2f}%\")\n",
    "print(f\"Precision: {metrics['precision_macro']*100:.2f}%\")\n",
    "print(f\"Recall:    {metrics['recall_macro']*100:.2f}%\")\n",
    "print(f\"F1-Score:  {metrics['f1_macro']*100:.2f}%\")\n",
    "print(\"\\nPer-Class Metrics:\")\n",
    "for class_name, class_metrics in metrics['per_class'].items():\n",
    "    print(f\"  {class_name}:\")\n",
    "    print(f\"    Precision: {class_metrics['precision']*100:.2f}%\")\n",
    "    print(f\"    Recall:    {class_metrics['recall']*100:.2f}%\")\n",
    "    print(f\"    F1-Score:  {class_metrics['f1']*100:.2f}%\")\n",
    "\n",
    "# Plot learning curves\n",
    "print(\"\\n Plotting Learning Curves...\")\n",
    "os.makedirs('outputs', exist_ok=True)\n",
    "plot_learning_curves(history, save_path='outputs/fold1_learning_curves.png')\n",
    "\n",
    "# Plot confusion matrix\n",
    "print(\"\\n Plotting Confusion Matrix...\")\n",
    "plot_confusion_matrix(\n",
    "    val_labels, val_preds,\n",
    "    title='Fold 1 - Confusion Matrix (Baseline)',\n",
    "    save_path='outputs/fold1_confusion_matrix.png'\n",
    ")\n",
    "\n",
    "# Save metrics to JSON\n",
    "metrics_output = {\n",
    "    'fold': 1,\n",
    "    'model': 'ResNet50',\n",
    "    'date': datetime.now().strftime('%Y-%m-%d %H:%M:%S'),\n",
    "    'training': {\n",
    "        'epochs': NUM_EPOCHS,\n",
    "        'best_epoch': best_epoch,\n",
    "        'batch_size': config['training']['batch_size']\n",
    "    },\n",
    "    'metrics': metrics,\n",
    "    'history': history\n",
    "}\n",
    "\n",
    "with open('outputs/fold1_baseline_metrics.json', 'w') as f:\n",
    "    json.dump(metrics_output, f, indent=4)\n",
    "\n",
    "print(\"\\n Evaluation complete! Results saved to outputs/\")\n"
   ]
  },
  {
   "cell_type": "code",
   "execution_count": 64,
   "id": "33870578-c8e6-467b-8de2-4ac9d0d97fb6",
   "metadata": {},
   "outputs": [
    {
     "name": "stdout",
     "output_type": "stream",
     "text": [
      "\n",
      "======================================================================\n",
      "CLASSIFICATION REPORT - FOLD 1 BASELINE\n",
      "======================================================================\n",
      "              precision    recall  f1-score   support\n",
      "\n",
      "      NORMAL     0.9216    0.9826    0.9511       287\n",
      "   PNEUMONIA     0.9932    0.9683    0.9806       757\n",
      "\n",
      "    accuracy                         0.9722      1044\n",
      "   macro avg     0.9574    0.9754    0.9658      1044\n",
      "weighted avg     0.9735    0.9722    0.9725      1044\n",
      "\n"
     ]
    }
   ],
   "source": [
    "# ============================================================================\n",
    "# PART 11: CLASSIFICATION REPORT\n",
    "# ============================================================================\n",
    "\n",
    "print(\"\\n\" + \"=\" * 70)\n",
    "print(\"CLASSIFICATION REPORT - FOLD 1 BASELINE\")\n",
    "print(\"=\" * 70)\n",
    "print(classification_report(\n",
    "    val_labels, val_preds,\n",
    "    target_names=['NORMAL', 'PNEUMONIA'],\n",
    "    digits=4\n",
    "))"
   ]
  },
  {
   "cell_type": "code",
   "execution_count": 67,
   "id": "ff2ec71e-875b-40b2-a944-b69163360c2a",
   "metadata": {},
   "outputs": [
    {
     "name": "stdout",
     "output_type": "stream",
     "text": [
      "\n",
      "╔══════════════════════════════════════════════════════════════════════╗\n",
      "║                   DAY 3 SUMMARY - BASELINE MODEL                     ║\n",
      "╚══════════════════════════════════════════════════════════════════════╝\n",
      "\n",
      " COMPLETED TASKS:\n",
      "   • ResNet50 architecture built with custom head\n",
      "   • Training pipeline implemented with class weights\n",
      "   • Learning rate scheduling configured\n",
      "   • Fold 1 trained for 15 epochs\n",
      "   • Comprehensive metrics calculated\n",
      "   • Visualizations generated\n",
      "\n",
      " BASELINE RESULTS (Fold 1):\n",
      "   • Validation Accuracy: 97.22%\n",
      "   • Precision (macro):    95.74%\n",
      "   • Recall (macro):       97.54%\n",
      "   • F1-Score (macro):     96.58%\n",
      "   • Best Epoch:           13/15\n",
      "\n",
      " PER-CLASS PERFORMANCE:\n",
      "   NORMAL:\n",
      "   • Precision: 92.16%\n",
      "   • Recall:    98.26%\n",
      "   • F1-Score:  95.11%\n",
      "   \n",
      "   PNEUMONIA:\n",
      "   • Precision: 99.32%\n",
      "   • Recall:    96.83%\n",
      "   • F1-Score:  98.06%\n",
      "\n",
      " SAVED ARTIFACTS:\n",
      "   ✓ models/resnet50_fold_1_best.pth\n",
      "   ✓ outputs/fold1_learning_curves.png\n",
      "   ✓ outputs/fold1_confusion_matrix.png\n",
      "   ✓ outputs/fold1_baseline_metrics.json\n",
      "\n",
      " SUCCESS CRITERIA CHECK:\n",
      "   ✅ Validation accuracy > 75%\n",
      "   ✅ Training/val losses decreased\n",
      "    Model trains without errors\n",
      "    Not predicting single class\n",
      "\n",
      "\n",
      " Day 3 Complete - Ready for Cross-Validation!\n",
      "\n",
      " Summary saved to outputs/day3_summary.txt\n"
     ]
    }
   ],
   "source": [
    "# DAY 3 SUMMARY\n",
    "# ============================================================================\n",
    "\n",
    "summary = f\"\"\"\n",
    "╔══════════════════════════════════════════════════════════════════════╗\n",
    "║                   DAY 3 SUMMARY - BASELINE MODEL                     ║\n",
    "╚══════════════════════════════════════════════════════════════════════╝\n",
    "\n",
    " COMPLETED TASKS:\n",
    "   • ResNet50 architecture built with custom head\n",
    "   • Training pipeline implemented with class weights\n",
    "   • Learning rate scheduling configured\n",
    "   • Fold 1 trained for {NUM_EPOCHS} epochs\n",
    "   • Comprehensive metrics calculated\n",
    "   • Visualizations generated\n",
    "\n",
    " BASELINE RESULTS (Fold 1):\n",
    "   • Validation Accuracy: {metrics['accuracy']*100:.2f}%\n",
    "   • Precision (macro):    {metrics['precision_macro']*100:.2f}%\n",
    "   • Recall (macro):       {metrics['recall_macro']*100:.2f}%\n",
    "   • F1-Score (macro):     {metrics['f1_macro']*100:.2f}%\n",
    "   • Best Epoch:           {best_epoch}/{NUM_EPOCHS}\n",
    "\n",
    " PER-CLASS PERFORMANCE:\n",
    "   NORMAL:\n",
    "   • Precision: {metrics['per_class']['NORMAL']['precision']*100:.2f}%\n",
    "   • Recall:    {metrics['per_class']['NORMAL']['recall']*100:.2f}%\n",
    "   • F1-Score:  {metrics['per_class']['NORMAL']['f1']*100:.2f}%\n",
    "   \n",
    "   PNEUMONIA:\n",
    "   • Precision: {metrics['per_class']['PNEUMONIA']['precision']*100:.2f}%\n",
    "   • Recall:    {metrics['per_class']['PNEUMONIA']['recall']*100:.2f}%\n",
    "   • F1-Score:  {metrics['per_class']['PNEUMONIA']['f1']*100:.2f}%\n",
    "\n",
    " SAVED ARTIFACTS:\n",
    "   ✓ models/resnet50_fold_1_best.pth\n",
    "   ✓ outputs/fold1_learning_curves.png\n",
    "   ✓ outputs/fold1_confusion_matrix.png\n",
    "   ✓ outputs/fold1_baseline_metrics.json\n",
    "\n",
    " SUCCESS CRITERIA CHECK:\n",
    "   {'✅' if metrics['accuracy'] > 0.75 else '❌'} Validation accuracy > 75%\n",
    "   {'✅' if best_val_loss < history['train_loss'][0] else '❌'} Training/val losses decreased\n",
    "    Model trains without errors\n",
    "    Not predicting single class\n",
    "\n",
    "\n",
    " Day 3 Complete - Ready for Cross-Validation!\n",
    "\"\"\"\n",
    "\n",
    "print(summary)\n",
    "\n",
    "# Save summary\n",
    "with open('outputs/day3_summary.txt', 'w') as f:\n",
    "    f.write(summary)\n",
    "\n",
    "print(\" Summary saved to outputs/day3_summary.txt\")"
   ]
  },
  {
   "cell_type": "code",
   "execution_count": null,
   "id": "cab16fd2-f855-4d70-a29c-680e76eb799a",
   "metadata": {},
   "outputs": [],
   "source": []
  }
 ],
 "metadata": {
  "kernelspec": {
   "display_name": "Python 3 (ipykernel)",
   "language": "python",
   "name": "python3"
  },
  "language_info": {
   "codemirror_mode": {
    "name": "ipython",
    "version": 3
   },
   "file_extension": ".py",
   "mimetype": "text/x-python",
   "name": "python",
   "nbconvert_exporter": "python",
   "pygments_lexer": "ipython3",
   "version": "3.9.6"
  }
 },
 "nbformat": 4,
 "nbformat_minor": 5
}
